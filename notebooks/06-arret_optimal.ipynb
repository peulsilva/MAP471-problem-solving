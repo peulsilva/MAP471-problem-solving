{
 "cells": [
  {
   "cell_type": "markdown",
   "metadata": {},
   "source": [
    "<center><b>Ecole Polytechnique, Cycle Ingénieur (2A)<b></center>\n",
    "<center>MAP471A - Problem solving en mathématiques appliquées</center>\n",
    "<center>Enseignants : \n",
    "    Lucas Gerin <a href=\"mailto:lucas.gerin@polytechnique.edu\">(mail)</a> \n",
    "    Teddy Pichard\t<a href=\"mailto:teddy.pichard@polytechnique.edu\">(mail)</a>\n",
    "        </center>\n",
    "\n",
    "\n",
    "\n",
    "# Introduction à l'arrêt optimal"
   ]
  },
  {
   "cell_type": "code",
   "execution_count": 1,
   "metadata": {
    "scrolled": true
   },
   "outputs": [
    {
     "data": {
      "text/html": [
       "<link href='http://fonts.googleapis.com/css?family=Fenix' rel='stylesheet' type='text/css'>\n",
       "<link href='http://fonts.googleapis.com/css?family=Alegreya+Sans:100,300,400,500,700,800,900,100italic,300italic,400italic,500italic,700italic,800italic,900italic' rel='stylesheet' type='text/css'>\n",
       "<link href='http://fonts.googleapis.com/css?family=Source+Code+Pro:300,400' rel='stylesheet' type='text/css'>\n",
       "<link href=\"https://fonts.googleapis.com/css?family=Oswald|Raleway\" rel=\"stylesheet\" type='text/css'> \n",
       "<style>\n",
       ".prompt{\n",
       "    display: none !important;\n",
       "}\n",
       "\n",
       ".rendered_html pre {\n",
       "    border: 1px solid #f0f6f9 !important;\n",
       "}\n",
       "\n",
       ".rendered_html pre, .rendered_html code {\n",
       "    background-color: #d3d8db !important;\n",
       "    padding: 1% !important;\n",
       "    line-height: 200% !important;\n",
       "    border-radius: 10px !important;\n",
       "}\n",
       "\n",
       "div.input_area {\n",
       "    border-radius: 10px !important;\n",
       "    background-color: #e1e1e6 !important;\n",
       "}\n",
       "\n",
       "div.cell{\n",
       "        width:85% !important;\n",
       "        margin-left:5% !important;\n",
       "        /*margin-right:auto;*/\n",
       "    }\n",
       "    h1, h2, h3, h4, h5 {\n",
       "        font-family: 'Oswald', sans-serif; !important;\n",
       "        font-style: oblique !important;\n",
       "    }\n",
       "    div.text_cell_render{\n",
       "        font-family: 'Raleway', sans-serif; !important;\n",
       "        line-height: 135% !important;\n",
       "        font-size: 120% !important;\n",
       "        width:100%;/*600px;*/\n",
       "        /*margin-left:auto;*/\n",
       "        /*margin-right:auto;*/\n",
       "    }\n",
       "    .CodeMirror{\n",
       "            font-family: \"Source Code Pro\" !important;\n",
       "\t\t\tfont-size: 100% !important;\n",
       "    }\n",
       "    .text_cell_render p{\n",
       "        text-align: justify !important;\n",
       "    }\n",
       "    .text_cell_render h1 {\n",
       "        font-weight: 200 !important;\n",
       "\t\tline-height: 100% !important;\n",
       "        color:#47597A !important;\n",
       "        margin-bottom: 10.em !important;\n",
       "        margin-top: 50.em !important;\n",
       "        padding-bottom: 50.em !important;\n",
       "        padding-top: 50.em !important;\n",
       "        display: block !important;\n",
       "        font-size: 300% !important;\n",
       "        text-align: center !important;\n",
       "        border-bottom: 1px solid #47597A !important;\n",
       "        border-top: 1px solid #47597A !important;\n",
       "    }\n",
       "    .text_cell_render h2 {\n",
       "        font-weight: 200 !important;\n",
       "\tline-height: 100% !important;\n",
       "        color:#47597A !important;\n",
       "        margin-bottom: 0.5em !important;\n",
       "        margin-top: 0.5em !important;\n",
       "        display: block !important;\n",
       "        font-size: 200% !important;\n",
       "        border-bottom: 1px solid #47597A !important;\n",
       "    }\n",
       "    .text_cell_render h3 {\n",
       "        font-weight: 200 !important;\n",
       "\tline-height: 100% !important;\n",
       "        color:#47597A !important;\n",
       "        margin-bottom: 0.5em !important;\n",
       "        margin-top: 0.5em !important;\n",
       "        display: block !important;\n",
       "        font-size: 150% !important;\n",
       "    }\n",
       "    .text_cell_render h4 {\n",
       "        font-style: italic !important;\n",
       "        font-weight: bold !important;\n",
       "\tline-height: 100% !important;\n",
       "        color:#47597A !important;\n",
       "        display: block !important;\n",
       "        font-size: 100% !important;\n",
       "    }\n",
       "    .text_cell_render h5 {\n",
       "        font-weight: 200 !important;\n",
       "\tline-height: 100% !important;\n",
       "        color:#47597A !important;\n",
       "        margin-bottom: 0.5em !important;\n",
       "        margin-top: 0.5em !important;\n",
       "        display: block !important;\n",
       "        font-size: 100% !important;\n",
       "    }\n",
       "    .text_cell_render ul {\n",
       "\tlist-style-type: disc !important;\n",
       "\tline-height: 2;\n",
       "\t/*color:#47597A !important;*/\n",
       "    }\n",
       "    .warning{\n",
       "        color: rgb( 240, 20, 20 ) !important;\n",
       "        }\n",
       "    .Abstract {  \n",
       "\ttext-align: justify;\n",
       "\tbackground-color: #d6edf9;\n",
       "\tborder-left: 5px solid #47597A;\n",
       "\tpadding: 0.5em;\n",
       "\tmargin: 0  150px 0 150px;\n",
       "    }\n",
       "    .Def {    \n",
       "\tbackground-color: #d9f7d7;\n",
       "\tborder-left: 5px solid #4a7047;\n",
       "\tpadding: 0.5em;\n",
       "    }\n",
       "    .Def:before {\n",
       "\tcontent: \"Definition.\";\n",
       "\tcolor:#4a7047;\n",
       "\tfont-weight: bold;\n",
       "\tfont-style: normal;\n",
       "    }\n",
       "    .DoIt {    \n",
       "\tbackground-color: #e8cfc9;\n",
       "\tborder-left: 5px solid #a90e05;\n",
       "\tpadding: 0.5em;\n",
       "    }\n",
       "    .DoIt:before {\n",
       "\tcontent: \"Do it yourself.\";\n",
       "\tcolor:#a90e05;\n",
       "\tfont-weight: bold;\n",
       "\tfont-style: normal;\n",
       "    }\n",
       "    .Answers {    \n",
       "\tbackground-color: #DDA0DD;\n",
       "\tborder-left: 5px solid #9932CC;\n",
       "\tpadding: 0.5em;\n",
       "    }\n",
       "    .Answers:before {\n",
       "\tcontent: \"Answers.\";\n",
       "\tcolor:#682145;\n",
       "\tfont-weight: bold;\n",
       "\tfont-style: normal;\n",
       "    }\n",
       "    .Prop {    \n",
       "\tbackground-color:#f9ecd1;\n",
       "\tborder-left: 5px solid #ba7021;\n",
       "\tpadding: 0.5em;\n",
       "    }\n",
       "   .Prop:before {\n",
       "       content: \"Proposition.\";\n",
       "       color:#ba7021;\n",
       "       font-weight: bold;\n",
       "       font-style: normal;\n",
       "    }\n",
       "   .Thm {    \n",
       "\tbackground-color:#f9ecd1;\n",
       "\tborder-left: 5px solid #ba7021;\n",
       "\tpadding: 0.5em;\n",
       "    }\n",
       "   .Thm:before {\n",
       "       content: \"Theorem.\";\n",
       "       color:#ba7021;\n",
       "       font-weight: bold;\n",
       "       font-style: normal;\n",
       "    } \n",
       "   .Algo {    \n",
       "\tbackground-color:#f9ecd1;\n",
       "\tborder-left: 5px solid #ba7021;\n",
       "\tpadding: 0.5em;\n",
       "    }\n",
       "   .Algo:before {\n",
       "       content: \"Algorithm.\";\n",
       "       color:#ba7021;\n",
       "       font-weight: bold;\n",
       "       font-style: normal;\n",
       "    }\n",
       "    .Rmk {    \n",
       "\tbackground-color: #dbf1fc;\n",
       "\tborder-left: 5px solid #385487;\n",
       "\tpadding: 0.5em;\n",
       "    }\n",
       "    .Rmk:before {\n",
       "\tcontent: \"Remark.\";\n",
       "\tcolor:#385487;\n",
       "\tfont-weight: bold;\n",
       "\tfont-style: normal;\n",
       "    }\n",
       "    .Ex {    \n",
       "\tbackground-color: #dbf1fc;\n",
       "\tborder-left: 5px solid #385487;\n",
       "\tpadding: 0.5em;\n",
       "    }\n",
       "    .Ex:before {\n",
       "\tcontent: \"Example.\";\n",
       "\tcolor:#385487;\n",
       "\tfont-weight: bold;\n",
       "\tfont-style: normal;\n",
       "    }\n",
       "\n",
       "/*    .toc-item-num {\n",
       "#        display: none;\n",
       "#    }\n",
       "*/\n",
       "    .reveal section img{\n",
       "        margin: 0px auto;\n",
       "    }\n",
       "\n",
       "    div.output_area img{\n",
       "        display: block;\n",
       "        margin: 0px auto;\n",
       "    }\n",
       "  \n",
       "</style>\n",
       "\n",
       "<script>\n",
       "MathJax.Hub.Config({\n",
       "TeX: {extensions: [\"AMSmath.js\"] },\n",
       "                tex2jax: {\n",
       "                    inlineMath: [ ['$','$'], [\"\\\\(\",\"\\\\)\"] ],\n",
       "                    displayMath: [ ['$$','$$'], [\"\\\\[\",\"\\\\]\"] ]\n",
       "                },\n",
       "                displayAlign: 'center', // Change this to 'center' to center equations.\n",
       "                \"HTML-CSS\": {\n",
       "                    styles: {'.MathJax_Display': {\"margin\": 4}}\n",
       "                }\n",
       "        });\n",
       "\n",
       "\n",
       "\n",
       "</script>\n"
      ],
      "text/plain": [
       "<IPython.core.display.HTML object>"
      ]
     },
     "execution_count": 1,
     "metadata": {},
     "output_type": "execute_result"
    }
   ],
   "source": [
    "# css style\n",
    "from IPython.core.display import HTML\n",
    "def css_styling():\n",
    "    styles = open(\"./style/custom2.css\").read()\n",
    "    return HTML(styles)\n",
    "css_styling()"
   ]
  },
  {
   "cell_type": "code",
   "execution_count": 2,
   "metadata": {},
   "outputs": [],
   "source": [
    "# load the libraries\n",
    "import matplotlib.pyplot as plt # 2D plotting library\n",
    "import numpy as np              # package for scientific computing  \n",
    "import random\n",
    "%matplotlib inline  "
   ]
  },
  {
   "cell_type": "markdown",
   "metadata": {},
   "source": [
    "## Table des matières\n",
    "\n",
    "- [Arrêt optimal pour le dé](#De)\n",
    "   - [Simulations](#Simus)\n",
    "- [Parking optimal](#Parking)\n",
    "- [Problème des secrétaires](#Secretaires)"
   ]
  },
  {
   "cell_type": "markdown",
   "metadata": {},
   "source": [
    "# Introduction\n",
    "\n",
    "L'arrêt optimal est le problème que l'on rencontre dans le contexte suivant :\n",
    "* On dispose de variables aléatoires $X_1,\\dots ,X_n,\\dots$ dont la loi jointe est connue\n",
    "* Pour tout $n$ il existe une fonction de gain connue et déterministe $G_n:\\mathbb{R}^n\\to \\mathbb{R}$.\n",
    "* A chaque $n$, on observe $X_n$ et on doit prendre la décision :\n",
    "  * d'arrêter et on gagne alors $G_n(X_1,\\dots,X_n)$.\n",
    "  * de continuer.\n",
    "  \n",
    "En pratique la plupart des problèmes sont à <b>horizon fini</b> : le processus s'arrête pour un certain $N$ (connu d'avance), et alors on est obligé de s'arrêter et de gagner $G_N(X_1,\\dots,X_N)$.\n",
    "\n",
    "### Temps d'arrêt\n",
    "\n",
    "Dans ce contexte, le <i>temps d'arrêt</i> $\\tau$ associé à une stratégie est la variable aléatoire à valeurs dans $\\{1,\\dots,N\\}$ qui donne l'instant où l'on s'arrête. Par hypothèse on a que pour tout l'événement\n",
    "$$\n",
    "\\{\\tau = n\\}\n",
    "$$\n",
    "est une fonction de $\\{X_1,\\dots,X_n\\}$ (ça ne peut pas dépendre du futur!).\n",
    "\n",
    "On cherche le temps d'arrêt qui maximise\n",
    "$$\n",
    "\\mathbb{E}[G_\\tau(X_1,\\dots,X_\\tau)].\n",
    "$$"
   ]
  },
  {
   "cell_type": "markdown",
   "metadata": {},
   "source": [
    "<a id=\"De\"></a>\n",
    "# Arrêt optimal pour le dé\n"
   ]
  },
  {
   "cell_type": "markdown",
   "metadata": {},
   "source": [
    "On considère le problème d'arrêt optimal suivant. Soit $N\\geq 1$ fixé, vous avez le droit de lancer un dé équilibré jusqu'à $N$ fois de suite. Lorsque vous décidez de vous arrêter vous gagnez la somme indiquée sur le dé et le jeu s'arrête (si vous avez lancé le dé $N$ fois vous gagnez la valeur du dernier tirage).\n",
    "\n",
    "On a donc un jeu à horizon fini et\n",
    "\n",
    "<br><br>\n",
    "$$\n",
    "G(x_1,\\dots,x_n)=x_n.\n",
    "$$\n",
    "<br>\n",
    "\n",
    "et $X_1,X_2,\\dots , X_N$ sont les résultats des $N$ dés, qui sont donc des variables iid uniformes sur $\\{1,2,\\dots , 6\\}$. \n",
    "\n",
    "Le but de cette partie est d'implémenter une stratégie particulière (dont on peut montrer qu'elle est optimale) et d'évaluer son efficacité.\n",
    "\n",
    "Pour une stratégie fixée et un entier $1\\leq n\\leq N$ on note  $\\mathcal{G}(n,N)\\in \\{1,2,...,6\\}$ la variable aléatoire donnée par le gain d'un joueur qui s'apprête à lancer le $n$-ème dé. \n",
    "Ce qui nous intéresse est donc  $\\mathcal{G}(1,N)$ : le gain du joueur qui commence à jouer.\n",
    "\n",
    "On pose $g(n,N)=\\mathbb{E}[\\mathcal{G}(n,N)]$. \n",
    "\n",
    "On considère la stratégie suivante :\n",
    "* Si $n=N$ on doit lancer le dernier dé et on gagne  $\\mathcal{G}(N,N)=X_N$, et $g(n,N)=\\mathbb{E}[X_N]=\\frac{7}{2}$.\n",
    "* Sinon \n",
    "   * si c'est avantageux : $X_n >  g(n+1,N)$ on s'arrête ;\n",
    "   * si $X_n \\leq  g(n+1,N)$ on continue.\n",
    "\n",
    "On a donc par construction\n",
    "$$\n",
    "\\mathcal{G}(n,N)= X_n\\mathbf{1}_{X_n>g(n+1,N)}+\\mathcal{G}(n+1,N)\\mathbf{1}_{X_n\\leq g(n+1,N)} \\qquad (\\star)\n",
    "%\\max (X_n,g(n+1,N)).\n",
    "$$"
   ]
  },
  {
   "cell_type": "markdown",
   "metadata": {},
   "source": [
    "<div markdown=1 class=\"Rmk\"> \n",
    "Cette stratégie est en fait l'application à notre problème particulier de la stratégie appelée <a href=\"https://fr.wikipedia.org/wiki/Enveloppe_de_Snell\">Enveloppe de Snell</a>. On peut effectivement montrer que c'est la stratégie qui maximise l'espérance."
   ]
  },
  {
   "cell_type": "markdown",
   "metadata": {},
   "source": [
    "<div markdown=1 class=\"DoIt\"> \n",
    "\n",
    "1. Ecrire une fonction `EsperanceMaxDe(v)` qui prend en entrée un réel $v\\in [0,6]$ et renvoie\n",
    "$$\n",
    "\\mathbb{E}[\\max (X_1,v)].\n",
    "$$\n",
    "(Pour vérifier votre code : vous devez trouver `EsperanceMaxDe(1)=3.5` et `EsperanceMaxDe(4)=4.5`.)\n",
    "\n",
    "2.\n",
    "\n",
    " En passant à l'espérance dans l'équation $(\\star)$, trouver une relation de récurrence entre $g(n,N)$ et $g(n+1,N)$. En utilisant `EsperanceMaxDe()`, coder une fonction `GainOptimal(n,N)` qui calcule $g(n,N)$.<br>\n",
    "(Pour vérifier votre code : pour tout $N$ on doit trouver $g(N-1,N)=4,25$.)"
   ]
  },
  {
   "cell_type": "markdown",
   "metadata": {},
   "source": [
    "<div markdown=1 class=\"Answers\"> \n",
    "\n",
    "1. \n",
    "2. "
   ]
  },
  {
   "cell_type": "code",
   "execution_count": 28,
   "metadata": {},
   "outputs": [],
   "source": [
    "\n",
    "def EsperanceMaxDe(valeur):\n",
    "    # Renvoie l'espérance du max entre un dé uniforme et \"valeur\"\n",
    "    l = []\n",
    "    \n",
    "    dice = [max(valeur,i) for i in range(1,7)]\n",
    "    \n",
    "    return np.mean(dice)"
   ]
  },
  {
   "cell_type": "markdown",
   "metadata": {},
   "source": [
    "$$\n",
    "    \\mathbb{E}[\\mathcal{G}(n,N)] = \\mathbb{E}\\left[ X_n \\mathbf{1}_{X_n > g(n+1, N)}  \\right] + \\mathbb{E}\\left[ \\mathcal{G}(n+1, N) \\mathbf{1}_{X_n \\leq g(n+1, N)} \\right] \\\\\n",
    "    g(n,N) = \\mathbb{E}\\left[ max(X_n, g(n+1, N)) \\right]\n",
    "$$"
   ]
  },
  {
   "cell_type": "code",
   "execution_count": null,
   "metadata": {},
   "outputs": [],
   "source": []
  },
  {
   "cell_type": "code",
   "execution_count": null,
   "metadata": {},
   "outputs": [],
   "source": []
  },
  {
   "cell_type": "code",
   "execution_count": 76,
   "metadata": {},
   "outputs": [],
   "source": [
    "memo = {}\n",
    "def gain_optimal(n, N):\n",
    "    if n == N:\n",
    "        return 7/2\n",
    "    \n",
    "    g_next = gain_optimal(n+1, N)\n",
    "    # if (memo.get(n+1) is None):\n",
    "    #     g_next = gain_optimal(n+1, N)\n",
    "    #     memo[n+1] = g_next\n",
    "    \n",
    "    # else:\n",
    "    #     g_next = memo[n+1]\n",
    "\n",
    "    g_n = EsperanceMaxDe(g_next)\n",
    "    # memo[n] = g_n\n",
    "    return g_n"
   ]
  },
  {
   "cell_type": "code",
   "execution_count": 48,
   "metadata": {},
   "outputs": [
    {
     "data": {
      "text/plain": [
       "5.2749999999999995"
      ]
     },
     "execution_count": 48,
     "metadata": {},
     "output_type": "execute_result"
    }
   ],
   "source": [
    "EsperanceMaxDe(5.13)"
   ]
  },
  {
   "cell_type": "code",
   "execution_count": 60,
   "metadata": {},
   "outputs": [
    {
     "data": {
      "text/plain": [
       "5.6502176688004875"
      ]
     },
     "execution_count": 60,
     "metadata": {},
     "output_type": "execute_result"
    }
   ],
   "source": [
    "memo = {}\n",
    "gain_optimal(1,10)"
   ]
  },
  {
   "cell_type": "markdown",
   "metadata": {},
   "source": [
    "On souhaite comparer numériquement l'algorithme optimal avec 2 benchmark :\n",
    "\n",
    "**Algorithme Naïf :**\n",
    "* Si $X_n=6$ on s'arrête, sinon on relance le dé.\n",
    "\n",
    "**Oracle :**\n",
    "* On suppose que l'on connaît à l'avance les résultats $X_1,\\dots,X_N$. On s'arrête quand on tombe sur $\\max_{1\\leq n\\leq N} X_n$.\n",
    "\n"
   ]
  },
  {
   "cell_type": "markdown",
   "metadata": {},
   "source": [
    "<div markdown=1 class=\"DoIt\"> \n",
    "\n",
    "1. Pour l'algorithme naïf et l'oracle, déterminer le gain moyen.<br>\n",
    "<i>Indication : pour l'oracle, on rappelle que si $M$ est une variable aléatoire entière positive alors</i>\n",
    "$$\n",
    "\\mathbb{E}[M]=\\sum_{k\\geq 1}\\mathbb{P}(M\\geq k)=\\sum_{k\\geq 1}\\bigg(1-\\mathbb{P}(M\\leq k-1) \\bigg).\n",
    "$$\n",
    "2. Tracer sur le même graphique les gains pour l'algorithme optimal, l'algorithme naïf et l'oracle pour $n=1,...,N$ avec $N=20$."
   ]
  },
  {
   "cell_type": "markdown",
   "metadata": {},
   "source": [
    "<div markdown=1 class=\"Answers\"> \n",
    "\n",
    "1. "
   ]
  },
  {
   "cell_type": "markdown",
   "metadata": {},
   "source": [
    "Pour l'algorithme naive, \n",
    "\n",
    "$$\n",
    "    \\mathbb{E}[g(n, N)] = 6 \\times \\mathbf{1}_{X_n = 6} + \\mathbb{E}[g(n+1, N)] \\times \\mathbf{1}_{X_n \\neq 6}\n",
    "$$\n",
    "\n",
    "Pour l'oracle\n",
    "\n",
    "$$\n",
    "\\begin{aligned}\n",
    "    \\mathbb{P}(max(X_i) \\leq t ) &= \\mathbb{P}(X_1 \\leq  t)^N\\\\\n",
    "    &= \\left(\\frac{ t }{6} \\right)^N \\times \\mathbf{1}_{t \\in \\{1, 2, \\dots, 6\\}}\n",
    "\\end{aligned}\n",
    "$$"
   ]
  },
  {
   "cell_type": "code",
   "execution_count": 61,
   "metadata": {},
   "outputs": [],
   "source": [
    "memo2={}\n",
    "def gain_naive(n, N):\n",
    "    if n == N:\n",
    "        return 7/2\n",
    "    \n",
    "    return 1 + gain_naive(n+1, N)*5/6"
   ]
  },
  {
   "cell_type": "code",
   "execution_count": 64,
   "metadata": {},
   "outputs": [],
   "source": [
    "l = [1,2,3]"
   ]
  },
  {
   "cell_type": "code",
   "execution_count": 73,
   "metadata": {},
   "outputs": [
    {
     "data": {
      "text/plain": [
       "5.820159373068342"
      ]
     },
     "execution_count": 73,
     "metadata": {},
     "output_type": "execute_result"
    }
   ],
   "source": [
    "sum(1 - np.array([((t-1)/6)**10 for t in range(1,7)]))"
   ]
  },
  {
   "cell_type": "code",
   "execution_count": 74,
   "metadata": {},
   "outputs": [],
   "source": [
    "def gain_oracle(N):\n",
    "    probas = np.array([((t-1)/6)**N for t in range(1,7)])\n",
    "    return np.sum(1 - probas)"
   ]
  },
  {
   "cell_type": "code",
   "execution_count": 97,
   "metadata": {},
   "outputs": [
    {
     "data": {
      "text/plain": [
       "<matplotlib.legend.Legend at 0x7f11ba7cc730>"
      ]
     },
     "execution_count": 97,
     "metadata": {},
     "output_type": "execute_result"
    },
    {
     "data": {
      "image/png": "[encoded data removed]",
      "text/plain": [
       "<Figure size 640x480 with 1 Axes>"
      ]
     },
     "metadata": {},
     "output_type": "display_data"
    }
   ],
   "source": [
    "N = 20\n",
    "\n",
    "strategy_optimal = []\n",
    "strategy_naive = []\n",
    "strategy_oracle = []\n",
    "\n",
    "for i in range(1,N):\n",
    "    \n",
    "    strategy_optimal.append(gain_optimal(i, N))\n",
    "    strategy_naive.append(gain_naive(i, N))\n",
    "    strategy_oracle.append(gain_oracle(N-i+1))\n",
    "\n",
    "plt.plot(strategy_optimal,\n",
    "         label=\"optimal\")\n",
    "\n",
    "plt.plot(strategy_naive,\n",
    "         label = \"naive\")\n",
    "\n",
    "plt.plot(strategy_oracle,\n",
    "         label = \"oracle\")\n",
    "\n",
    "plt.grid()\n",
    "plt.legend()"
   ]
  },
  {
   "cell_type": "markdown",
   "metadata": {},
   "source": [
    "<div markdown=1 class=\"DoIt\"> \n",
    "\n",
    "On considère à nouveau l'algorithme optimal. Tracer pour $N$ fixé la courbe qui donne pour chaque $n\\leq N$ le résultat au-dessus duquel il faut arrêter de lancer le dé."
   ]
  },
  {
   "cell_type": "code",
   "execution_count": 92,
   "metadata": {},
   "outputs": [
    {
     "data": {
      "text/plain": [
       "5.580261202560585"
      ]
     },
     "execution_count": 92,
     "metadata": {},
     "output_type": "execute_result"
    }
   ],
   "source": [
    "gain_optimal(12,20)"
   ]
  },
  {
   "cell_type": "code",
   "execution_count": 110,
   "metadata": {},
   "outputs": [
    {
     "data": {
      "text/plain": [
       "[<matplotlib.lines.Line2D at 0x7f11addb0160>]"
      ]
     },
     "execution_count": 110,
     "metadata": {},
     "output_type": "execute_result"
    },
    {
     "data": {
      "image/png": "[encoded data removed]",
      "text/plain": [
       "<Figure size 640x480 with 1 Axes>"
      ]
     },
     "metadata": {},
     "output_type": "display_data"
    }
   ],
   "source": [
    "N = 20\n",
    "stop = []\n",
    "for n in range(N+1):\n",
    "    stop.append(int(gain_optimal(n,N)) + 1) \n",
    "\n",
    "plt.plot(stop,\n",
    "         label = \"stop when \",\n",
    "         marker = '.')"
   ]
  },
  {
   "cell_type": "markdown",
   "metadata": {},
   "source": [
    "<a id=\"Simus\"></a>\n",
    "\n",
    "## Simulations\n",
    "\n",
    "On souhaite maintenant utiliser des simulations pour afficher des réalisations de la variable aléatoire $\\mathcal{G}(0,N)$."
   ]
  },
  {
   "cell_type": "markdown",
   "metadata": {},
   "source": [
    "<div markdown=1 class=\"DoIt\"> \n",
    "\n",
    "1. Modifier le code précédent pour simuler des réalisations de la variable aléatoire $\\mathcal{G}(0,N)$.\n",
    "2. Afficher le résultat de $1000$ simulations de $\\mathcal{G}(0,8)$ dans un histogramme."
   ]
  },
  {
   "cell_type": "markdown",
   "metadata": {},
   "source": [
    "<div markdown=1 class=\"Answers\"> \n",
    "\n"
   ]
  },
  {
   "cell_type": "code",
   "execution_count": 103,
   "metadata": {},
   "outputs": [],
   "source": [
    "def simulate_g(N):\n",
    "    for n in range(N):\n",
    "        dice = int(6 * np.random.rand()) + 1\n",
    "        if n == N-1:\n",
    "            return dice\n",
    "        if gain_optimal(n,N) < dice:\n",
    "            return dice\n",
    "        \n"
   ]
  },
  {
   "cell_type": "code",
   "execution_count": 104,
   "metadata": {},
   "outputs": [],
   "source": [
    "import seaborn as sns"
   ]
  },
  {
   "cell_type": "code",
   "execution_count": 113,
   "metadata": {},
   "outputs": [
    {
     "data": {
      "text/plain": [
       "<seaborn.axisgrid.FacetGrid at 0x7f11adc59870>"
      ]
     },
     "execution_count": 113,
     "metadata": {},
     "output_type": "execute_result"
    },
    {
     "data": {
      "image/png": "[encoded data removed]",
      "text/plain": [
       "<Figure size 500x500 with 1 Axes>"
      ]
     },
     "metadata": {},
     "output_type": "display_data"
    }
   ],
   "source": [
    "N_sim = 1_000\n",
    "simulations = []\n",
    "for i in range(N_sim):\n",
    "    simulations.append(simulate_g(8))\n",
    "\n",
    "sns.displot(simulations)"
   ]
  },
  {
   "cell_type": "markdown",
   "metadata": {},
   "source": [
    "<a id=\"Parking\"></a>\n",
    "# Parking optimal"
   ]
  },
  {
   "cell_type": "markdown",
   "metadata": {},
   "source": [
    "On s'intéresse à un autre problème d'arrêt optimal : le problème du parking sur $\\mathbb{N}_*$.\n",
    "\n",
    "On suppose que les places $\\{1,2,3,...\\}$ sont occupées indépendamment avec probabilité $p$ par des voitures. Notre objectif est de se garer le plus proche possible de $K$ (un entier fixé et connu) de sorte que le coût pour se garer à la place $i$ est\n",
    "$$\n",
    "F(|i-K|),\n",
    "$$\n",
    "où $F$ est une fonction croissante positive. \n",
    "\n",
    "Le problème est que l'on ne peut observer les places occupées que une à une.\n",
    "On cherche donc le temps d'arrêt $\\tau$ qui minimise\n",
    "$$\n",
    "\\mathbb{E}[F(|\\tau-K|)].\n",
    "$$\n",
    "Pour une stratégie fixée et une position $1\\leq i $ on note\n",
    "$$\n",
    "\\mathcal{P}(i,K)\n",
    "$$\n",
    "la variable aléatoire donnée par la position à laquelle je vais me garer juste avant d'observer si $i$ est libre ou pas. On note $G(i,K)$ le coût que je vais subir :\n",
    "\\begin{align*}\n",
    "G(i,K)&=\\mathbb{E}\\left[F(|\\mathcal{P}(i,K)-K|)\\right],\\\\\n",
    "g(i,K)&=\\mathbb{E}\\left[G(i,K)\\right].\n",
    "\\end{align*}\n",
    "\n",
    "On considère la stratégie suivante :\n",
    "* Si $i\\geq K$ on se gare dès que possible\n",
    "* Si $i< K$ on se gare en $i$ si\n",
    "   * la place est vide\n",
    "   * <b>ET</b> c'est avantageux : $F(|i-K|) \\leq g(i+1,K)$.\n",
    "\n"
   ]
  },
  {
   "cell_type": "markdown",
   "metadata": {},
   "source": [
    "<div markdown=1 class=\"DoIt\"> \n",
    "\n",
    "1. Pour la stratégie ci-dessus, déterminer $\\mathbb{P}(\\mathcal{P}(i,K)=j)$ dans le cas $i\\geq K$. En déduire $g(K,K)$.\n",
    "2. Pour $i\\geq 1$ on note $Z_i=0$ (resp. $Z_i=1$) si la place $i$ est libre (resp.occupée). Pour $i<K$ écrire une relation de récurrence entre $G(i,K), G(i+1,K), Z_i$ et $g(i+1,K)$."
   ]
  },
  {
   "cell_type": "markdown",
   "metadata": {},
   "source": [
    "<div markdown=1 class=\"Answers\"> \n",
    "1. \n",
    "2. "
   ]
  },
  {
   "cell_type": "markdown",
   "metadata": {},
   "source": [
    "<div markdown=1 class=\"DoIt\"> \n",
    "\n",
    "1. Ecrire une fonction qui calcule $c(i,K,p)$. (On prendra $F(x)=|x|$.)\n",
    "2. Pour $K=20$ tracer une courbe qui permette de déterminer à partir de quand doit-on se garer à la première place disponible."
   ]
  },
  {
   "cell_type": "code",
   "execution_count": null,
   "metadata": {},
   "outputs": [],
   "source": []
  },
  {
   "cell_type": "code",
   "execution_count": null,
   "metadata": {},
   "outputs": [],
   "source": []
  },
  {
   "cell_type": "code",
   "execution_count": null,
   "metadata": {},
   "outputs": [],
   "source": []
  },
  {
   "cell_type": "markdown",
   "metadata": {},
   "source": [
    "<a id=\"Secretaires\"></a>\n",
    "# Problème des secrétaires"
   ]
  },
  {
   "cell_type": "markdown",
   "metadata": {},
   "source": [
    "On modélise maintenant un autre problème d'arrêt optimal.\n",
    "\n",
    "On considère une suite de variables aléatoires $X_1,\\dots , X_N$ i.i.d. de loi inconnue <a href=#Notes>(*)</a>, on observe successivement les $X_i$ et on cherche le temps d'arrêt qui maximise\n",
    "$$\n",
    "\\mathbb{P}(X_\\tau= \\max \\{X_i\\}).\n",
    "$$\n",
    "\n",
    "Pour $1\\leq k\\leq N$ fixé on considère la stratégie suivante :\n",
    "* On observe $X_1,\\dots , X_k$ sans s'arrêter, et on stocke en mémoire la plus grande valeur $M_k=\\max_{1\\leq i\\leq k} \\{X_i\\}$.\n",
    "* Ensuite pour $j>k$ on s'arrête dès que $X_j > M_k$. (Si cet événement n'arrive jamais alors on s'arrête en $N$.)\n",
    "\n",
    "Autrement dit on introduit le temps d'arrêt\n",
    "$$\n",
    "\\tau(k)=\\min \\{ j>k, X_j > \\max_{1\\leq i\\leq k} \\{X_i\\} \\},\n",
    "$$\n",
    "avec la convention $\\min \\varnothing = N$.\n",
    "\n",
    "Voici un schéma qui illustre les notations. A gauche un exemple de succès de la stratégie (on a $X_{\\tau(k)}= \\max \\{X_i\\}$) et à droite un échec : \n",
    "<center>\n",
    "    <img src='Figures/PermutationSecretaires.jpg' width=70%>\n",
    "</center>\n",
    "\n",
    "Le but est de calculer \n",
    "$$\n",
    "p_N(k)=\\mathbb{P}(\\text{ La stratégie est gagnante })=\\mathbb{P}(X_{\\tau(k)}= \\max \\{X_i\\})\n",
    "$$\n",
    "\n",
    "<a id=\"Notes\"></a>\n",
    "(*) On suppose pour simplifier que la loi est à densité, ce qui assure que tous les $Z_i$ sont distincts.\n"
   ]
  },
  {
   "cell_type": "markdown",
   "metadata": {},
   "source": [
    "<div markdown=1 class=\"DoIt\"> \n",
    "\n",
    "1. Pour $j> k$ calculer $\\mathbb{P}(\\tau(k) = j ; X_{\\tau(k)}= \\max \\{X_i\\})$.\n",
    "2. En déduire une expression de  $p_N(k)$.\n",
    "3. Pour différentes valeurs de $N$, tracer $k\\mapsto p_N(k)$."
   ]
  },
  {
   "cell_type": "markdown",
   "metadata": {},
   "source": [
    "<div markdown=1 class=\"Answers\"> \n",
    "1. \n",
    "2. "
   ]
  },
  {
   "cell_type": "code",
   "execution_count": null,
   "metadata": {},
   "outputs": [],
   "source": []
  },
  {
   "cell_type": "markdown",
   "metadata": {},
   "source": [
    "Sur les courbes de $p_N(k)$ que vous avez obtenues vous devez observer que $p_N(k)$ semble toujours maximale pour $k$ de l'ordre de $c\\times N$ où $c$ est une certaine constante dans $(0,1)$. (Pour observer cela le mieux est de tracer $c\\mapsto p_N( \\lfloor cN\\rfloor)$.\n",
    "\n",
    "<div markdown=1 class=\"DoIt\">\n",
    "<b>Question théorique.</b> En analysant votre expression de $p_N(k)$ déterminer la valeur du $c$ optimal."
   ]
  },
  {
   "cell_type": "markdown",
   "metadata": {},
   "source": [
    "<div markdown=1 class=\"Answers\"> \n"
   ]
  },
  {
   "cell_type": "code",
   "execution_count": null,
   "metadata": {},
   "outputs": [],
   "source": []
  }
 ],
 "metadata": {
  "kernelspec": {
   "display_name": "Python 3",
   "language": "python",
   "name": "python3"
  },
  "language_info": {
   "codemirror_mode": {
    "name": "ipython",
    "version": 3
   },
   "file_extension": ".py",
   "mimetype": "text/x-python",
   "name": "python",
   "nbconvert_exporter": "python",
   "pygments_lexer": "ipython3",
   "version": "3.10.9"
  }
 },
 "nbformat": 4,
 "nbformat_minor": 4
}
