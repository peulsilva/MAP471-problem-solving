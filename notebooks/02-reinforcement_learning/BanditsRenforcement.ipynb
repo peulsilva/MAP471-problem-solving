{
 "cells": [
  {
   "cell_type": "markdown",
   "metadata": {},
   "source": [
    "<center><b>Ecole Polytechnique, Cycle Ingénieur (2A)<b></center>\n",
    "<center>MAP471A - Problem solving en mathématiques appliquées</center>\n",
    "<center>Enseignants : Lucas Gerin <a href=\"mailto:lucas.gerin@polytechnique.edu\">(mail)</a> \n",
    "    Teddy Pichard\t<a href=\"mailto:teddy.pichard@polytechnique.edu\">(mail)</a>\n",
    "        </center>\n"
   ]
  },
  {
   "cell_type": "code",
   "execution_count": 209,
   "metadata": {
    "scrolled": true
   },
   "outputs": [
    {
     "data": {
      "text/html": [
       "<link href='http://fonts.googleapis.com/css?family=Fenix' rel='stylesheet' type='text/css'>\n",
       "<link href='http://fonts.googleapis.com/css?family=Alegreya+Sans:100,300,400,500,700,800,900,100italic,300italic,400italic,500italic,700italic,800italic,900italic' rel='stylesheet' type='text/css'>\n",
       "<link href='http://fonts.googleapis.com/css?family=Source+Code+Pro:300,400' rel='stylesheet' type='text/css'>\n",
       "<link href=\"https://fonts.googleapis.com/css?family=Oswald|Raleway\" rel=\"stylesheet\" type='text/css'> \n",
       "<style>\n",
       ".prompt{\n",
       "    display: none !important;\n",
       "}\n",
       "\n",
       ".rendered_html pre {\n",
       "    border: 1px solid #f0f6f9 !important;\n",
       "}\n",
       "\n",
       ".rendered_html pre, .rendered_html code {\n",
       "    background-color: #d3d8db !important;\n",
       "    padding: 1% !important;\n",
       "    line-height: 200% !important;\n",
       "    border-radius: 10px !important;\n",
       "}\n",
       "\n",
       "div.input_area {\n",
       "    border-radius: 10px !important;\n",
       "    background-color: #e1e1e6 !important;\n",
       "}\n",
       "\n",
       "div.cell{\n",
       "        width:85% !important;\n",
       "        margin-left:5% !important;\n",
       "        /*margin-right:auto;*/\n",
       "    }\n",
       "    h1, h2, h3, h4, h5 {\n",
       "        font-family: 'Oswald', sans-serif; !important;\n",
       "        font-style: oblique !important;\n",
       "    }\n",
       "    div.text_cell_render{\n",
       "        font-family: 'Raleway', sans-serif; !important;\n",
       "        line-height: 135% !important;\n",
       "        font-size: 120% !important;\n",
       "        width:100%;/*600px;*/\n",
       "        /*margin-left:auto;*/\n",
       "        /*margin-right:auto;*/\n",
       "    }\n",
       "    .CodeMirror{\n",
       "            font-family: \"Source Code Pro\" !important;\n",
       "\t\t\tfont-size: 100% !important;\n",
       "    }\n",
       "    .text_cell_render p{\n",
       "        text-align: justify !important;\n",
       "    }\n",
       "    .text_cell_render h1 {\n",
       "        font-weight: 200 !important;\n",
       "\t\tline-height: 100% !important;\n",
       "        color:#47597A !important;\n",
       "        margin-bottom: 10.em !important;\n",
       "        margin-top: 50.em !important;\n",
       "        padding-bottom: 50.em !important;\n",
       "        padding-top: 50.em !important;\n",
       "        display: block !important;\n",
       "        font-size: 300% !important;\n",
       "        text-align: center !important;\n",
       "        border-bottom: 1px solid #47597A !important;\n",
       "        border-top: 1px solid #47597A !important;\n",
       "    }\n",
       "    .text_cell_render h2 {\n",
       "        font-weight: 200 !important;\n",
       "\tline-height: 100% !important;\n",
       "        color:#47597A !important;\n",
       "        margin-bottom: 0.5em !important;\n",
       "        margin-top: 0.5em !important;\n",
       "        display: block !important;\n",
       "        font-size: 200% !important;\n",
       "        border-bottom: 1px solid #47597A !important;\n",
       "    }\n",
       "    .text_cell_render h3 {\n",
       "        font-weight: 200 !important;\n",
       "\tline-height: 100% !important;\n",
       "        color:#47597A !important;\n",
       "        margin-bottom: 0.5em !important;\n",
       "        margin-top: 0.5em !important;\n",
       "        display: block !important;\n",
       "        font-size: 150% !important;\n",
       "    }\n",
       "    .text_cell_render h4 {\n",
       "        font-style: italic !important;\n",
       "        font-weight: bold !important;\n",
       "\tline-height: 100% !important;\n",
       "        color:#47597A !important;\n",
       "        display: block !important;\n",
       "        font-size: 100% !important;\n",
       "    }\n",
       "    .text_cell_render h5 {\n",
       "        font-weight: 200 !important;\n",
       "\tline-height: 100% !important;\n",
       "        color:#47597A !important;\n",
       "        margin-bottom: 0.5em !important;\n",
       "        margin-top: 0.5em !important;\n",
       "        display: block !important;\n",
       "        font-size: 100% !important;\n",
       "    }\n",
       "    .text_cell_render ul {\n",
       "\tlist-style-type: disc !important;\n",
       "\tline-height: 2;\n",
       "\t/*color:#47597A !important;*/\n",
       "    }\n",
       "    .warning{\n",
       "        color: rgb( 240, 20, 20 ) !important;\n",
       "        }\n",
       "    .Abstract {  \n",
       "\ttext-align: justify;\n",
       "\tbackground-color: #d6edf9;\n",
       "\tborder-left: 5px solid #47597A;\n",
       "\tpadding: 0.5em;\n",
       "\tmargin: 0  150px 0 150px;\n",
       "    }\n",
       "    .Def {    \n",
       "\tbackground-color: #d9f7d7;\n",
       "\tborder-left: 5px solid #4a7047;\n",
       "\tpadding: 0.5em;\n",
       "    }\n",
       "    .Def:before {\n",
       "\tcontent: \"Definition.\";\n",
       "\tcolor:#4a7047;\n",
       "\tfont-weight: bold;\n",
       "\tfont-style: normal;\n",
       "    }\n",
       "    .DoIt {    \n",
       "\tbackground-color: #e8cfc9;\n",
       "\tborder-left: 5px solid #a90e05;\n",
       "\tpadding: 0.5em;\n",
       "    }\n",
       "    .DoIt:before {\n",
       "\tcontent: \"Do it yourself.\";\n",
       "\tcolor:#a90e05;\n",
       "\tfont-weight: bold;\n",
       "\tfont-style: normal;\n",
       "    }\n",
       "    .Answers {    \n",
       "\tbackground-color: #DDA0DD;\n",
       "\tborder-left: 5px solid #9932CC;\n",
       "\tpadding: 0.5em;\n",
       "    }\n",
       "    .Answers:before {\n",
       "\tcontent: \"Answers.\";\n",
       "\tcolor:#682145;\n",
       "\tfont-weight: bold;\n",
       "\tfont-style: normal;\n",
       "    }\n",
       "    .Prop {    \n",
       "\tbackground-color:#f9ecd1;\n",
       "\tborder-left: 5px solid #ba7021;\n",
       "\tpadding: 0.5em;\n",
       "    }\n",
       "   .Prop:before {\n",
       "       content: \"Proposition.\";\n",
       "       color:#ba7021;\n",
       "       font-weight: bold;\n",
       "       font-style: normal;\n",
       "    }\n",
       "   .Thm {    \n",
       "\tbackground-color:#f9ecd1;\n",
       "\tborder-left: 5px solid #ba7021;\n",
       "\tpadding: 0.5em;\n",
       "    }\n",
       "   .Thm:before {\n",
       "       content: \"Theorem.\";\n",
       "       color:#ba7021;\n",
       "       font-weight: bold;\n",
       "       font-style: normal;\n",
       "    } \n",
       "   .Algo {    \n",
       "\tbackground-color:#f9ecd1;\n",
       "\tborder-left: 5px solid #ba7021;\n",
       "\tpadding: 0.5em;\n",
       "    }\n",
       "   .Algo:before {\n",
       "       content: \"Algorithm.\";\n",
       "       color:#ba7021;\n",
       "       font-weight: bold;\n",
       "       font-style: normal;\n",
       "    }\n",
       "    .Rmk {    \n",
       "\tbackground-color: #dbf1fc;\n",
       "\tborder-left: 5px solid #385487;\n",
       "\tpadding: 0.5em;\n",
       "    }\n",
       "    .Rmk:before {\n",
       "\tcontent: \"Remark.\";\n",
       "\tcolor:#385487;\n",
       "\tfont-weight: bold;\n",
       "\tfont-style: normal;\n",
       "    }\n",
       "    .Ex {    \n",
       "\tbackground-color: #dbf1fc;\n",
       "\tborder-left: 5px solid #385487;\n",
       "\tpadding: 0.5em;\n",
       "    }\n",
       "    .Ex:before {\n",
       "\tcontent: \"Example.\";\n",
       "\tcolor:#385487;\n",
       "\tfont-weight: bold;\n",
       "\tfont-style: normal;\n",
       "    }\n",
       "\n",
       "/*    .toc-item-num {\n",
       "#        display: none;\n",
       "#    }\n",
       "*/\n",
       "    .reveal section img{\n",
       "        margin: 0px auto;\n",
       "    }\n",
       "\n",
       "    div.output_area img{\n",
       "        display: block;\n",
       "        margin: 0px auto;\n",
       "    }\n",
       "  \n",
       "</style>\n",
       "\n",
       "<script>\n",
       "MathJax.Hub.Config({\n",
       "TeX: {extensions: [\"AMSmath.js\"] },\n",
       "                tex2jax: {\n",
       "                    inlineMath: [ ['$','$'], [\"\\\\(\",\"\\\\)\"] ],\n",
       "                    displayMath: [ ['$$','$$'], [\"\\\\[\",\"\\\\]\"] ]\n",
       "                },\n",
       "                displayAlign: 'center', // Change this to 'center' to center equations.\n",
       "                \"HTML-CSS\": {\n",
       "                    styles: {'.MathJax_Display': {\"margin\": 4}}\n",
       "                }\n",
       "        });\n",
       "\n",
       "\n",
       "\n",
       "</script>\n"
      ],
      "text/plain": [
       "<IPython.core.display.HTML object>"
      ]
     },
     "execution_count": 209,
     "metadata": {},
     "output_type": "execute_result"
    }
   ],
   "source": [
    "# css style\n",
    "from IPython.core.display import HTML\n",
    "def css_styling():\n",
    "    styles = open(\"./style/custom2.css\").read()\n",
    "    return HTML(styles)\n",
    "css_styling()"
   ]
  },
  {
   "cell_type": "code",
   "execution_count": 1,
   "metadata": {},
   "outputs": [],
   "source": [
    "# load the libraries\n",
    "import matplotlib.pyplot as plt # 2D plotting library\n",
    "import numpy as np              # package for scientific computing  \n",
    "import random\n",
    "from tqdm import tqdm\n",
    "from typing import List\n",
    "import pandas as pd\n",
    "%matplotlib inline  "
   ]
  },
  {
   "cell_type": "markdown",
   "metadata": {},
   "source": [
    "<a id=\"Prelim\"></a>\n",
    "# Aléatoire 1 : Apprentissage par renforcement"
   ]
  },
  {
   "cell_type": "markdown",
   "metadata": {},
   "source": [
    "## Table des matières\n",
    "\n",
    "- [1. Le problème du bandit](#bandit)\n",
    "- [2. Apprentissage markovien : Pierre-Feuilles-Ciseaux](#PFC)\n",
    "   * [L'algorithme d'apprentissage](#Apprentissage)\n",
    "   * [1 joueur apprend](#Apprend_iid)\n",
    "   * [2 joueurs apprennent](#Apprend_apprend)\n",
    "\n",
    "L'objectif de ce TP est d'étudier de façon expérimentale deux problèmes simples qui se traitent naturellement par <i>Apprentissage par renforcement</i>. "
   ]
  },
  {
   "cell_type": "markdown",
   "metadata": {},
   "source": [
    "<a id=\"bandit\"></a>\n",
    "# 1. Le problème du bandit\n",
    "\n",
    "Considérons le problème suivant : un annonceur a le choix d'afficher sur une page web une publicité choisie parmi $\\{A,B\\}$, l'annonceur est payé au clic et l'objectif est d'afficher la publicité la plus attractive.\n",
    "\n",
    "On modélise le problème de la façon suivante : chaque utilisateur se comporte de façon indépendante des autres et clique sur la publicité $A$ (resp. $B$) avec probabilité $p_A$ (resp. $p_B$), on suppose que $p_A,p_B$ sont inconnues.\n",
    "\n",
    "On note $E_i\\in \\{A,B\\}$ la publicité affichée sur le site lorsque le $i$-ème client se connecte.\n",
    "On pose $X_i=1$ si le $i$-ème client clique, $0$ sinon. On a donc\n",
    "$$\n",
    "X_i\\sim \\mathrm{Bernoulli}(p_{E_i}).\n",
    "$$\n",
    "La stratégie $E_i$ à l'instant $i$ est une fonction (éventuellement aléatoire) de $(E_1,X_1),\\dots,(E_{i-1},X_{i-1})$.\n",
    "On cherche à définir une stratégie efficace pour l'annonceur, c'est-à-dire qu'asymptotiquement on propose la meilleure publicité :\n",
    "$$\n",
    "\\frac{X_1+\\dots +X_n}{n} \\stackrel{n\\to +\\infty}{\\to} \\max\\{p_A,p_B\\}\n",
    "$$\n",
    "(convergence presque-sûre ou en probabilité). Encore mieux : on souhaite maximiser les gains moyens à horizon fini\n",
    "$$\n",
    "\\max_{(E_i)_i\\text{ stratégies }}\\mathbb{E}[X_1+\\dots +X_n].\n",
    "$$\n",
    "\n"
   ]
  },
  {
   "cell_type": "markdown",
   "metadata": {},
   "source": [
    "### Une méthode sous-optimale : la $\\varepsilon$-exploration\n",
    "Considérons la stratégie suivante :\n",
    "- On fixe un paramètre $\\varepsilon>0$ \"petit\".\n",
    "- On choisit $E_1=A,E_2=B$.\n",
    "- Pour $i\\geq 3$, on note $M_i$ la publicité qui a eu le meilleur \"taux de clic\" jusque-là (en cas d'ex-aequo entre $A,B$ on se donne une règle arbitraire)\n",
    "   * Avec proba $1-\\varepsilon$, on prend $E_i=M_i$,\n",
    "   * Avec proba $\\varepsilon$ on prend $E_i=\\mathrm{non}(M_i)$.\n",
    "\n",
    "<i>(<b>Vocabulaire :</b> On considère qu'avec probabilité $\\varepsilon$ on \"explore\", alors qu'avec probabilité $1-\\varepsilon$ on \"exploite\".)</i>\n",
    "\n"
   ]
  },
  {
   "cell_type": "markdown",
   "metadata": {},
   "source": [
    "<div markdown=1 class=\"DoIt\"> \n",
    "\n",
    "1. Intuitivement, quelle est la limite de $(X_1+\\dots +X_n)/n$ ? Asymptotiquement (en $n$), quel semble être le meilleur choix pour $\\varepsilon$?\n",
    "2. On fixe $n=5000$, $p_A=0.4$, $p_B=0.6$, $\\varepsilon=0.001$. Tracer 10 trajectoires du processus\n",
    "$$\n",
    "i\\in \\{1,\\dots,n\\} \\mapsto \\frac{1}{i}\\left( X_1+\\dots +X_i\\right).\n",
    "$$\n",
    "Est-ce que les courbes sont compatibles avec votre intuition de la question précédente?\n",
    "3. Pour $n=100$,  $p_A=0.4$, $p_B=0.6$, déterminer par simulation la valeur de $\\varepsilon$ qui optimise $\\mathbb{E}\\left[X_1+\\dots +X_n\\right]$. (Prendre $10000$ simulations pour chaque valeur de $\\varepsilon$.)"
   ]
  },
  {
   "cell_type": "markdown",
   "metadata": {},
   "source": [
    "<div markdown=1 class=\"Answers\"> \n",
    "\n",
    "On sait que $ \\frac{(X_1 + \\dots X_n)}{n} \\rarr \\mathbb{E[X_1]} = (1 - \\varepsilon) \\ min\\{p_A, p_B \\} + \\varepsilon \\ max \\{ p_A, p_B \\}$\n",
    "\n",
    "Asymptotiquement en $n$, $\\varepsilon_n \\rarr 0 $ quand $n \\rarr \\infty$ "
   ]
  },
  {
   "cell_type": "code",
   "execution_count": 90,
   "metadata": {},
   "outputs": [],
   "source": [
    "# Question 2\n",
    "p=[0.6, 0.4]\n",
    "pA=p[0]\n",
    "pB=p[1]\n",
    "S=10 # Nombre de simulations\n",
    "N=5000 # Durée d'une simulation\n",
    "epsilon = 0.01\n",
    "\n",
    "\n",
    "# Rappel : \n",
    "# np.random.rand()<p renvoie une Bernoulli de moyenne p"
   ]
  },
  {
   "cell_type": "code",
   "execution_count": null,
   "metadata": {},
   "outputs": [],
   "source": []
  },
  {
   "cell_type": "code",
   "execution_count": 114,
   "metadata": {},
   "outputs": [],
   "source": [
    "def simulate_epoch(p_true : List,\n",
    "                   epsilon,\n",
    "                   simulations_par_epoch):\n",
    "    results = {\n",
    "        0: {\n",
    "            \"mean\": 0,\n",
    "            \"n\":  0\n",
    "        },\n",
    "        1: {\n",
    "            \"mean\": 0,\n",
    "            \"n\": 0,\n",
    "        }\n",
    "    }\n",
    "\n",
    "    l = []\n",
    "    for n in range(simulations_par_epoch):\n",
    "            if n == 0 :\n",
    "                action = 0\n",
    "\n",
    "            elif n == 1:\n",
    "                action = 1\n",
    "\n",
    "            else:\n",
    "                p_pred = [results[0][\"mean\"], results[1][\"mean\"]]\n",
    "                \n",
    "                action = np.argmax(p_pred)\n",
    "                if np.random.rand() < epsilon: #exploration\n",
    "                    action = 1 - action\n",
    "            \n",
    "            X_i = np.random.rand() < p_true[action]\n",
    "            l.append(X_i)\n",
    "\n",
    "            results[action][\"mean\"] = (results[action][\"mean\"] * results[action][\"n\"] + X_i)/(results[action][\"n\"]+ 1)\n",
    "            results[action][\"n\"] += 1\n",
    "\n",
    "    return np.mean(l)"
   ]
  },
  {
   "cell_type": "code",
   "execution_count": 92,
   "metadata": {},
   "outputs": [],
   "source": [
    "epochs = {}\n",
    "results = {\n",
    "    0: {\n",
    "        \"mean\": 0,\n",
    "        \"n\":  0\n",
    "    },\n",
    "    1: {\n",
    "        \"mean\": 0,\n",
    "        \"n\": 0,\n",
    "    }\n",
    "}\n",
    "\n",
    "for n_sim in range(S):\n",
    "    epochs[n_sim] = [0]\n",
    "    for n in range(N):\n",
    "        if n == 0 :\n",
    "            action = 0\n",
    "\n",
    "        elif n == 1:\n",
    "            action = 1\n",
    "\n",
    "        else:\n",
    "            p_pred = [results[0][\"mean\"], results[1][\"mean\"]]\n",
    "            \n",
    "            action = np.argmax(p_pred)\n",
    "            if np.random.rand() < epsilon: #exploration\n",
    "                action = 1 - action\n",
    "        \n",
    "        X_i = np.random.rand() < p[action]\n",
    "\n",
    "        results[action][\"mean\"] = (results[action][\"mean\"] * results[action][\"n\"] + X_i)/(results[action][\"n\"]+ 1)\n",
    "        results[action][\"n\"] += 1\n",
    "\n",
    "        epochs[n_sim].append(\n",
    "            (epochs[n_sim][-1] * (n) + X_i)/(n+1)\n",
    "        )"
   ]
  },
  {
   "cell_type": "code",
   "execution_count": 93,
   "metadata": {},
   "outputs": [
    {
     "data": {
      "text/plain": [
       "{0: {'mean': 0.598488980465833, 'n': 49503},\n",
       " 1: {'mean': 0.38028169014084484, 'n': 497}}"
      ]
     },
     "execution_count": 93,
     "metadata": {},
     "output_type": "execute_result"
    }
   ],
   "source": [
    "results"
   ]
  },
  {
   "cell_type": "code",
   "execution_count": null,
   "metadata": {},
   "outputs": [],
   "source": []
  },
  {
   "cell_type": "code",
   "execution_count": 95,
   "metadata": {},
   "outputs": [
    {
     "data": {
      "image/png": "[encoded data removed]",
      "text/plain": [
       "<Figure size 576x360 with 1 Axes>"
      ]
     },
     "metadata": {
      "needs_background": "light"
     },
     "output_type": "display_data"
    }
   ],
   "source": [
    "plt.figure(figsize=(8,5))\n",
    "plt.title(f\"Convergence for epsilon = {epsilon}\")\n",
    "for idx, result in epochs.items():\n",
    "    plt.plot(result)\n",
    "    \n",
    "    \n",
    "\n",
    "plt.hlines(\n",
    "    np.max(p) * (1-epsilon) + np.min(p) * (epsilon),\n",
    "    0,\n",
    "    N,\n",
    "    colors= \"black\",\n",
    "    linestyles= \"dashed\",\n",
    "    label = f\"max * (1- e) + min * e = {np.max(p) * (1-epsilon) + np.min(p) * (epsilon)}\"\n",
    ")\n",
    "\n",
    "plt.legend()\n",
    "plt.show()"
   ]
  },
  {
   "cell_type": "code",
   "execution_count": 118,
   "metadata": {},
   "outputs": [
    {
     "name": "stderr",
     "output_type": "stream",
     "text": [
      "100%|██████████| 10000/10000 [00:08<00:00, 1130.34it/s]\n",
      "100%|██████████| 10000/10000 [00:07<00:00, 1267.33it/s]\n",
      "100%|██████████| 10000/10000 [00:08<00:00, 1191.54it/s]\n",
      "100%|██████████| 10000/10000 [00:06<00:00, 1460.45it/s]\n",
      "100%|██████████| 10000/10000 [00:07<00:00, 1279.83it/s]\n",
      "100%|██████████| 10000/10000 [00:10<00:00, 946.60it/s]\n",
      "100%|██████████| 10000/10000 [00:09<00:00, 1096.59it/s]\n",
      "100%|██████████| 10000/10000 [00:08<00:00, 1231.49it/s]\n",
      "100%|██████████| 10000/10000 [00:07<00:00, 1317.79it/s]\n",
      "100%|██████████| 10000/10000 [00:08<00:00, 1184.72it/s]\n",
      "100%|██████████| 10000/10000 [00:09<00:00, 1064.26it/s]\n"
     ]
    }
   ],
   "source": [
    "\n",
    "# Question 3 : \n",
    "p=[0.6, 0.4]\n",
    "pA=p[0]\n",
    "pB=p[1]\n",
    "S=10000 # Nombre de simulations\n",
    "N=100 # Durée d'une simulation\n",
    "possible_epsilons =np.arange(0.05,0.20,0.015)\n",
    "\n",
    "epsilon_results = {}\n",
    "\n",
    "for epsilon in possible_epsilons:\n",
    "    epsilon_results[epsilon] = 0\n",
    "    for epoch in tqdm(range(S)):\n",
    "        m = simulate_epoch(\n",
    "            p,\n",
    "            epsilon,\n",
    "            N\n",
    "        )\n",
    "        epsilon_results[epsilon] = (epsilon_results[epsilon] * (epoch) + m ) / (epoch+1)\n"
   ]
  },
  {
   "cell_type": "code",
   "execution_count": 119,
   "metadata": {},
   "outputs": [
    {
     "data": {
      "text/plain": [
       "{0.05: 0.5620970000000093,\n",
       " 0.065: 0.5612750000000089,\n",
       " 0.08: 0.5590920000000082,\n",
       " 0.095: 0.5576080000000149,\n",
       " 0.11: 0.5572510000000104,\n",
       " 0.125: 0.5547880000000099,\n",
       " 0.14: 0.5540070000000085,\n",
       " 0.155: 0.5530810000000139,\n",
       " 0.16999999999999998: 0.5504890000000139,\n",
       " 0.185: 0.5482080000000101,\n",
       " 0.2: 0.5461560000000124}"
      ]
     },
     "execution_count": 119,
     "metadata": {},
     "output_type": "execute_result"
    }
   ],
   "source": [
    "epsilon_results"
   ]
  },
  {
   "cell_type": "code",
   "execution_count": 145,
   "metadata": {},
   "outputs": [
    {
     "data": {
      "text/plain": [
       "<AxesSubplot:>"
      ]
     },
     "execution_count": 145,
     "metadata": {},
     "output_type": "execute_result"
    },
    {
     "data": {
      "image/png": "[encoded data removed]",
      "text/plain": [
       "<Figure size 432x288 with 1 Axes>"
      ]
     },
     "metadata": {
      "needs_background": "light"
     },
     "output_type": "display_data"
    }
   ],
   "source": [
    "pd.Series(epsilon_results)\\\n",
    "    .plot()"
   ]
  },
  {
   "cell_type": "code",
   "execution_count": 57,
   "metadata": {},
   "outputs": [
    {
     "data": {
      "text/plain": [
       "array([0.05 , 0.065, 0.08 , 0.095, 0.11 , 0.125, 0.14 , 0.155, 0.17 ,\n",
       "       0.185, 0.2  ])"
      ]
     },
     "execution_count": 57,
     "metadata": {},
     "output_type": "execute_result"
    }
   ],
   "source": [
    "possible_epsilons"
   ]
  },
  {
   "cell_type": "markdown",
   "metadata": {},
   "source": [
    "## Une stratégie asymptotiquement optimale?\n",
    "\n",
    "On fait maintenant varier la probabilité d'exploration. L'algorithme est le même que précédemment sauf qu'on remplace $\\varepsilon$ par une suite\n",
    " $(\\varepsilon_i)_{i\\geq 3}$ d'éléments de $(0,1)$. On pourra essayer\n",
    "-  $\\varepsilon_i=1/i^2$\n",
    "-  $\\varepsilon_i=1/\\sqrt{i}$\n",
    "-  $\\varepsilon_i=1/\\log{i}$"
   ]
  },
  {
   "cell_type": "markdown",
   "metadata": {},
   "source": [
    "<div markdown=1 class=\"DoIt\"> \n",
    "\n",
    "Q1. On fixe à nouveau $n=1000$, $p_A=0.4$, $p_B=0.6$. Pour les exemples des 3 suites ci-dessus, tracer quelques trajectoires de courbes\n",
    "$$\n",
    "i\\in \\{1,\\dots,n\\} \\mapsto \\frac{1}{i}\\left( X_1+\\dots +X_i\\right).\n",
    "$$ "
   ]
  },
  {
   "cell_type": "code",
   "execution_count": 206,
   "metadata": {},
   "outputs": [],
   "source": [
    "####################################\n",
    "# Question 1\n",
    "\n",
    "p=[0.4, 0.6]\n",
    "pA=p[0]\n",
    "pB=p[1]\n",
    "S=10 # Nombre de simulations\n",
    "N=5000 # Durée d'une simulation\n",
    "\n",
    "\n",
    "# changer method pour visualizer diferents fonctions\n",
    "method = lambda x : 1/(x**2)\n",
    "\n"
   ]
  },
  {
   "cell_type": "code",
   "execution_count": 208,
   "metadata": {},
   "outputs": [
    {
     "name": "stdout",
     "output_type": "stream",
     "text": [
      "explore\n",
      "explore\n",
      "explore\n",
      "explore\n"
     ]
    }
   ],
   "source": [
    "epochs = {}\n",
    "results = {\n",
    "    0: {\n",
    "        \"mean\": 0,\n",
    "        \"n\":  0\n",
    "    },\n",
    "    1: {\n",
    "        \"mean\": 0,\n",
    "        \"n\": 0,\n",
    "    }\n",
    "}\n",
    "for epoch in range(S):\n",
    "    epochs[epoch] = [0]\n",
    "    for n in range(N):\n",
    "        if n == 0 :\n",
    "            action = 0\n",
    "\n",
    "        elif n == 1:\n",
    "            action = 1\n",
    "\n",
    "        else:\n",
    "            epsilon = method(n)\n",
    "            p_pred = [results[0][\"mean\"], results[1][\"mean\"]]\n",
    "            \n",
    "            action = np.argmax(p_pred)\n",
    "            if np.random.rand() < epsilon: #exploration\n",
    "                action = 1 - action\n",
    "        \n",
    "        X_i = np.random.rand() < p[action]\n",
    "\n",
    "        results[action][\"mean\"] = (results[action][\"mean\"] * results[action][\"n\"] + X_i)/(results[action][\"n\"]+ 1)\n",
    "        results[action][\"n\"] += 1\n",
    "\n",
    "        epochs[epoch].append(\n",
    "            (epochs[epoch][-1] * (n) + X_i)/(n+1)\n",
    "        )\n"
   ]
  },
  {
   "cell_type": "code",
   "execution_count": null,
   "metadata": {},
   "outputs": [],
   "source": []
  },
  {
   "cell_type": "code",
   "execution_count": 202,
   "metadata": {},
   "outputs": [
    {
     "data": {
      "image/png": "[encoded data removed]",
      "text/plain": [
       "<Figure size 576x360 with 1 Axes>"
      ]
     },
     "metadata": {
      "needs_background": "light"
     },
     "output_type": "display_data"
    }
   ],
   "source": [
    "plt.figure(figsize=(8,5))\n",
    "plt.title(f\"Convergence for method = 1/sqrt(x)\")\n",
    "for idx, result in epochs.items():\n",
    "    plt.plot(result)\n",
    "    \n",
    "    \n",
    "\n",
    "plt.hlines(\n",
    "    np.max(p),\n",
    "    0,\n",
    "    N,\n",
    "    colors= \"black\",\n",
    "    linestyles= \"dashed\",\n",
    "    label = np.max(p)\n",
    ")\n",
    "\n",
    "plt.legend()\n",
    "plt.show()"
   ]
  },
  {
   "cell_type": "markdown",
   "metadata": {},
   "source": [
    "<div markdown=1 class=\"DoIt\"> \n",
    "\n",
    "Q2. Que doit vérifier la suite $(\\varepsilon_i)$ pour que l'on ait\n",
    "$$\n",
    "\\frac{X_1+\\dots +X_n}{n} \\stackrel{n\\to +\\infty}{\\to} \\max\\{p_A,p_B\\}?\n",
    "$$"
   ]
  },
  {
   "cell_type": "markdown",
   "metadata": {},
   "source": [
    "<div markdown=1 class=\"Answers\"> \n",
    "\n",
    "2. $ \\varepsilon_n \\rarr  0$ quand $n$ tends vers l'infini et $\\sum \\varepsilon_i = \\infty $"
   ]
  },
  {
   "cell_type": "markdown",
   "metadata": {},
   "source": [
    "\n",
    "\n",
    "<a id=\"PFC\"></a>\n",
    "# 2. Apprentissage markovien : Pierre-Feuille-Ciseaux\n",
    "\n",
    "## Préliminaires et notations\n",
    "\n",
    "On considère $2$ joueurs $X,Y$ qui jouent à <i>Pierre-Feuille-Ciseaux</i>. Pour $t\\geq 1$ on note $X_t\\in \\{\\text{Pi,Fe,Ci}\\}$ le choix du joueur à l'instant $t$ et $Y_t$ le choix de son adversaire.\n",
    "\n",
    "On appelera `Historique` la liste \n",
    "$$\n",
    "[[X_1,Y_1],[X_2,Y_2],\\dots, [X_T,Y_T]]\n",
    "$$\n",
    "des choix des joueurs jusqu'à l'instant actuel.\n",
    "\n",
    "Dans la présentation on représentera aussi `Historique` schématiquement de la façon suivante :\n",
    "<img src=\"figures/ListeHistorique.jpg\" style=\"width:450px;\"/>\n",
    "désigne également la liste\n",
    "$$\n",
    "[[\\mathrm{Pi},\\mathrm{Fe}],[\\mathrm{Ci},\\mathrm{Fe}],\\dots, [\\mathrm{Pi},\\mathrm{Fe}]]\n",
    "$$\n",
    "avec $T=7$.\n"
   ]
  },
  {
   "cell_type": "markdown",
   "metadata": {},
   "source": [
    "On suppose que l'adversaire fait ses choix suivant une mémoire \"courte\" et une source d'aléa :\n",
    "* $Y_1,Y_2$ sont arbitraires.\n",
    "* pour tout $t\\geq 2$, \n",
    "$$\n",
    "Y_{t+1}=\\phi\\left(X_{t-1},X_t,Y_{t-1},Y_t,A_{t+1}\\right),\n",
    "$$\n",
    "où\n",
    "  * $\\phi$ est une fonction déterministe $\\{\\text{Pi,Fe,Ci}\\}^4\\times[0,1] \\to \\{\\text{Pi,Fe,Ci}\\}$\n",
    "  * $(A_t)$ est une suite de variables i.i.d. uniformes dans $[0,1]$.\n",
    "\n",
    "Par exemple, la stratégie (assez efficace...) consistant à toujours tirer uniformément au hasard (indépendamment des choix précédents) correspond à\n",
    "$$\n",
    "\\phi(X_{t-1},X_t,Y_{t-1},Y_t,A_{t+1}) = \\mathrm{Pi}\\times \\mathbf{1}_{A_{t+1}<1/3}\n",
    "+ \\mathrm{Fe}\\times \\mathbf{1}_{1/3<A_{t+1}21/3} + \\mathrm{Ci}\\times \\mathbf{1}_{2/3 < A_{t+1}}.\n",
    "$$\n",
    "alors que la stratégie (idiote) consistant à jouer ce que l'adversaire vient de jouer est\n",
    "$$\n",
    "\\phi(X_{t-1},X_t,Y_{t-1},Y_t,A_{t+1}) = X_t.\n",
    "$$"
   ]
  },
  {
   "cell_type": "markdown",
   "metadata": {},
   "source": [
    "\n",
    "### Réponse à une stratégie\n",
    "\n",
    "On introduit donc une fonction $(p,q,r)\\mapsto \\verb|ReponseStrategie|(p,q,r)\\in [0,1]^3$ de la façon suivante :\n",
    "<br><br>\n",
    "$$\n",
    "\\verb|ReponseStrategie|(p,q,r)=\\mathrm{argmax}_{(x,y,z)} \\mathbb{E}[\\text{Gain pour }X \\text{ si $X$ tire selon } (x,y,z)\\text{ et }Y\\text{ tire selon }(p,q,r)].\n",
    "$$\n",
    "<br>\n",
    "\n",
    "(Dans cette espérance on considère qu'un victoire vaut $1$ et une défaite $-1$.)<br><br>\n",
    "\n",
    "\n",
    "Par exemple, vous pouvez vérifier que si $(p,q,r)=(0.01,0,0.99)$ alors cela signifie que $Y$ va jouer `Ci` presque à tous les coups et donc $X$ joue `Pi` : \n",
    "$$\n",
    "\\verb|ReponseStrategie|(0.01,0,0.99)=(1,0,0).\n",
    "$$"
   ]
  },
  {
   "cell_type": "markdown",
   "metadata": {},
   "source": [
    "<div markdown=1 class=\"DoIt\"> \n",
    "\n",
    "Que vaut la fonction `ReponseStrategie()`? <i>(Indication : les calculs sont assez simples.)</i><br>\n",
    "Implémenter la fonction `ReponseStrategie()`."
   ]
  },
  {
   "cell_type": "markdown",
   "metadata": {},
   "source": [
    "On sait que \n",
    "\n",
    "$$\n",
    "\n",
    "\\mathbb{E}[Gain \\ pour \\ X] = x (r- q) + y (p- r) + z (q - p)\n",
    "$$\n",
    "\n",
    "Et appellons $ a = argmax_{(x, y, z)} \\mathbb{E}[Gain \\ pour \\ X] $\n",
    "\n",
    "$$\n",
    "\\verb|ResponseStrategie| (p, q, r) = (\\mathbf{1}_{x = a}, \\mathbf{1}_{y = a}, \\mathbf{1}_{z = a}) \n",
    "$$"
   ]
  },
  {
   "cell_type": "code",
   "execution_count": 8,
   "metadata": {},
   "outputs": [],
   "source": [
    "def response_strategie(p,q,r):\n",
    "    weights = np.array((r- q, p-r, q- p))\n",
    "    a = np.argmax(weights)\n",
    "\n",
    "    return np.array([int(a == 0), int(a==1), int(a== 2)])"
   ]
  },
  {
   "cell_type": "code",
   "execution_count": 9,
   "metadata": {},
   "outputs": [
    {
     "data": {
      "text/plain": [
       "array([0, 1, 0])"
      ]
     },
     "execution_count": 9,
     "metadata": {},
     "output_type": "execute_result"
    }
   ],
   "source": [
    "r = 1/3 \n",
    "p = 1/2\n",
    "q = 1 -p - r\n",
    "\n",
    "response_strategie(p,q,r)"
   ]
  },
  {
   "cell_type": "markdown",
   "metadata": {},
   "source": [
    "<center>\n",
    "    <font size=+3 color='red'>!! La partie obligatoire (à rendre sur Moodle) s'arrête ici !!</font>\n",
    "</center>\n",
    "\n",
    "Pour commencer à coder une stratégie d'apprentissage on définit une fonction `Stats` qui en fonction d'un historique `Historique` donné et de `PasseRecent`=$[[X_{t-1},X_t],[Y_{t-1},Y_t]]$  renvoie le nombre de fois où le joueur $i$ ($i=0$ correspond au joueur $X$) a joué `'Pi'`, `'Fe'` ou `'Ci'`.\n",
    "\n",
    "Par exemple, avec l'exemple précédent pour `Historique` et\n",
    "```python\n",
    "TestHistorique=[['Pi','Fe'],['Ci','Fe'],['Pi','Ci'],['Fe','Pi'],['Ci','Fe'],['Pi','Ci'],['Pi','Fe']]\n",
    "TestPasse=[['Ci','Fe'],['Pi','Ci']]\n",
    "```\n",
    "on doit obtenir\n",
    "```python\n",
    "Stats(TestHistorique,TestPasse,1)\n",
    ">[1, 1, 0]\n",
    "```\n",
    "car dans la situation de ce passé récent le joueur $1$ a joué $1$ fois `Pi` et une fois `Fe` :\n",
    "<img src=\"figures/ListeHistorique_AvecPasseRecent.jpg\" style=\"width:450px;\"/>"
   ]
  },
  {
   "cell_type": "markdown",
   "metadata": {},
   "source": [
    "<div markdown=1 class=\"DoIt\"> \n",
    "\n",
    "Implémenter la fonction `Stats`."
   ]
  },
  {
   "cell_type": "code",
   "execution_count": null,
   "metadata": {},
   "outputs": [],
   "source": []
  },
  {
   "cell_type": "markdown",
   "metadata": {},
   "source": [
    "<a id=\"Apprentissage\"></a>\n",
    "\n",
    "## L'algorithme d'apprentissage\n",
    "\n",
    "On considère la stratégie suivante. Pour un paramètre $\\varepsilon >0$ (petit),\n",
    "* Si $t=1,2,3$ on tire au hasard uniformément entre Pi,Fe,Ci.\n",
    "* Pour $t\\geq 4$\n",
    "    -  <b>avec probabilité $1-\\varepsilon$ on \"exploite\"</b> : on renvoie $\\verb|ReponseStrategie|(p,q,r)$ calculée sur les stats de $Y$ dans l'historique. Plus précisément\n",
    "          * En notant $(X_{t-2}=x_{t-2},X_{t-1}=x_{t-1})$ et $(Y_{t-2}=y_{t-2},Y_{t-1}=y_{t-1})$, on regarde toutes les fois où $Y$ s'est retrouvé dans la situation $(X_{s-2}=x_{t-2},X_{s-1}=x_{t-1})$ et $(Y_{s-2}=y_{t-2},Y_{s-1}=y_{t-1})$. On calcule alors les fréquences $\\hat{p},\\hat{q},\\hat{r}$ avec lesquelles $Y$ a joué Pi-Fe-Ci.\n",
    "          * On renvoie $\\verb|ReponseStrategie|(\\hat{p},\\hat{q},\\hat{r})$\n",
    "    - <b>avec probabilité $\\varepsilon$ on \"explore\"</b> : on tire au sort uniformément au hasard entre Pi,Fe,Ci."
   ]
  },
  {
   "cell_type": "markdown",
   "metadata": {},
   "source": [
    "### Tirages indépendants"
   ]
  },
  {
   "cell_type": "markdown",
   "metadata": {},
   "source": [
    "<div markdown=1 class=\"DoIt\"> \n",
    "\n",
    "Ecrire une fonction `TiragePiFeCi(p,q,r)` qui renvoie Pi,Fe,Ci avec les probabilités $p,q,r$."
   ]
  },
  {
   "cell_type": "code",
   "execution_count": null,
   "metadata": {},
   "outputs": [],
   "source": []
  },
  {
   "cell_type": "markdown",
   "metadata": {},
   "source": [
    "<div markdown=1 class=\"DoIt\"> \n",
    "\n",
    "Ecrire une fonction\n",
    "```python\n",
    "JoueurApprentissage(Historique,eps)\n",
    "```\n",
    "qui en fonction de l'historique et du paramètre $\\varepsilon$ renvoie le coup de $X$ suivant l'algorithme d'apprentissage ci-dessus.\n"
   ]
  },
  {
   "cell_type": "code",
   "execution_count": null,
   "metadata": {},
   "outputs": [],
   "source": []
  },
  {
   "cell_type": "markdown",
   "metadata": {},
   "source": [
    "<a id=\"Apprend_iid\"></a>\n",
    "## $X$ apprend / $Y$ joue i.i.d.\n",
    "\n",
    "On va jouer une partie de longueur $T$ entre $X$ (qui apprend) et $Y$ (qui joue de façon indé.)"
   ]
  },
  {
   "cell_type": "markdown",
   "metadata": {},
   "source": [
    "<div markdown=1 class=\"DoIt\"> \n",
    "\n",
    "Faire jouer $X$ selon l'algorithme d'apprentissage face à $Y$ qui joue des coups i.i.d. de probabilités $(0.6,0.2,0.2)$. Tracer l'évolution des proportions des coups joués par $X$."
   ]
  },
  {
   "cell_type": "code",
   "execution_count": null,
   "metadata": {},
   "outputs": [],
   "source": []
  },
  {
   "cell_type": "code",
   "execution_count": null,
   "metadata": {},
   "outputs": [],
   "source": []
  },
  {
   "cell_type": "markdown",
   "metadata": {},
   "source": [
    "<a id=\"Apprend_apprend\"></a>\n",
    "## $X$ apprend / $Y$ apprend"
   ]
  },
  {
   "cell_type": "markdown",
   "metadata": {},
   "source": [
    "<div markdown=1 class=\"DoIt\"> \n",
    "\n",
    "Faire jouer $X$ et $Y$ m'un contre l'autre,  chacun suivant selon l'algorithme d'apprentissage. Tracer l'évolution des proportions des coups joués par $X$."
   ]
  },
  {
   "cell_type": "code",
   "execution_count": null,
   "metadata": {},
   "outputs": [],
   "source": []
  }
 ],
 "metadata": {
  "kernelspec": {
   "display_name": "Python 3",
   "language": "python",
   "name": "python3"
  },
  "language_info": {
   "codemirror_mode": {
    "name": "ipython",
    "version": 3
   },
   "file_extension": ".py",
   "mimetype": "text/x-python",
   "name": "python",
   "nbconvert_exporter": "python",
   "pygments_lexer": "ipython3",
   "version": "3.9.12"
  }
 },
 "nbformat": 4,
 "nbformat_minor": 4
}
