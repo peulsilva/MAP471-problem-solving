{
 "cells": [
  {
   "cell_type": "markdown",
   "metadata": {},
   "source": [
    "<br/>\n",
    "  <FONT size =\"3pt\"> MODAL MAP472A : Problem solving en math app </FONT>   \n",
    "  \n",
    "---\n",
    "---\n",
    "<FONT size =\"5pt\"> TP déterministe 3 : <center><b>Génération de maillage</b>  </center></FONT> \n",
    "\n",
    "---\n",
    "---\n",
    "<br /> "
   ]
  },
  {
   "cell_type": "code",
   "execution_count": 1,
   "metadata": {},
   "outputs": [],
   "source": [
    "# importation de fonctions et de librairies\n",
    "import numpy as np\n",
    "from scipy.spatial import Delaunay\n",
    "import matplotlib.pyplot as plt"
   ]
  },
  {
   "cell_type": "markdown",
   "metadata": {},
   "source": [
    "De nombreux algorithmes de simulation (tels que la méthode des éléments finis) nécessitent l'utilisation d'un maillage en triangles du domaine de calcul. Le but de ce TP est de construire des maillages aussi réguliers que possible de domaines (presque) quelconques. On commence par introduire la définition d'un maillage.\n",
    "\n",
    "\n",
    "***\n",
    "**Définition: Maillage d'un ouvert connexe polyhédrique $\\Omega \\subset \\mathbb R^2$**\n",
    "\n",
    "Un maillage triangulaire, ou une triangulation de $\\Omega$, est un ensemble de $n$ triangles $(K_i)_{i\\in 1 \\leq i \\leq N}$ qui vérifient\n",
    "* $K_i \\subset Ω$ et $Ω = \\bigcup\\limits_{1 \\leq i \\leq N} K_i$,\n",
    "* l’intersection $K_i \\cap K_j$ de deux triangles est soit vide, soit réduite à un sommet commun, soit à une arête commune entière.\n",
    "\n",
    "Les sommets ou noeuds du maillage sont les sommets des triangles $K_i$ qui le composent. \n",
    "***\n",
    "\n",
    "On se donnera dans toute la suite une fonction $f(x,y)$ pour laquelle le domaine $\\Omega$ à mailler est \n",
    "\n",
    "$$ \\Omega = f^{-1}(\\mathbb{R}^-).$$"
   ]
  },
  {
   "cell_type": "markdown",
   "metadata": {},
   "source": [
    "# Génération de maillage\n",
    "Dans cette partie, on écrit le mailleur à proprement parler.\n",
    "\n",
    "## Nuage de points dans la boîte englobante\n",
    "\n",
    "Une boîte englobante de $\\Omega$ est un rectangle $B = ]x_0,x_1[ \\times ]y_0, y_1 [$ contenant $\\Omega$. On suppose qu'une boîte englobante de notre domaine est donnée. On cherche d'abord à construire un maillage en triangles le plus régulier possible de la boîte englobante $\\mathcal{B}$. On choisit un maillage composé de triangles équilatéraux de taille $h$ (pas du maillage). \n",
    "\n",
    " Construire une fonction prenant en argument les coordonnées de la boîte englobante et le pas du maillage $h$ et qui renvoie une matrice de coordonnées $N\\times 2$ des points d'un maillage triangulaire de $\\mathcal{B}$, ou d'une boîte englobante de $\\mathcal{B}$ si les dimensions de $\\mathcal{B}$ ne sont pas proportionnelles à la hauteur ou la largeur d'un triangle. Les points extérieurs à $\\mathcal{B}$ seront éliminés dans une prochaine étape.\n",
    " On remarquera que les points ne sont pas espacés de la même manière dans la direction $x$ et $y$ (typiquement ils\n",
    "diffèrent d'un coefficient $\\sqrt{3}/2$)."
   ]
  },
  {
   "cell_type": "code",
   "execution_count": 6,
   "metadata": {},
   "outputs": [],
   "source": [
    "xB = (0,1)\n",
    "yB = (2,3)\n",
    "h = 1/10\n",
    "\n",
    "\n"
   ]
  },
  {
   "cell_type": "code",
   "execution_count": 16,
   "metadata": {},
   "outputs": [],
   "source": [
    "x_range = np.linspace(\n",
    "    xB[0], \n",
    "    xB[1],\n",
    "    endpoint= False, \n",
    "    num= int(abs(xB[0] - xB[1])/h)\n",
    ")\n",
    "y_range = np.linspace(\n",
    "    yB[0], \n",
    "    yB[1],\n",
    "    endpoint= False, \n",
    "    num= int (abs(xB[0] - xB[1])/(2*h) * np.sqrt(3))\n",
    ")"
   ]
  },
  {
   "cell_type": "code",
   "execution_count": 17,
   "metadata": {},
   "outputs": [
    {
     "data": {
      "text/plain": [
       "array([0. , 0.1, 0.2, 0.3, 0.4, 0.5, 0.6, 0.7, 0.8, 0.9])"
      ]
     },
     "execution_count": 17,
     "metadata": {},
     "output_type": "execute_result"
    }
   ],
   "source": [
    "x_range"
   ]
  },
  {
   "cell_type": "code",
   "execution_count": 18,
   "metadata": {},
   "outputs": [],
   "source": [
    "x_maillage = []\n",
    "y_maillage = []\n",
    "\n",
    "for x in x_range:\n",
    "    for idx, y in enumerate(y_range):\n",
    "        if idx %2 == 0:\n",
    "            x_maillage.append(x)\n",
    "        else:\n",
    "            x_maillage.append(x + h/2)\n",
    "        y_maillage.append(y)"
   ]
  },
  {
   "cell_type": "code",
   "execution_count": 19,
   "metadata": {},
   "outputs": [
    {
     "data": {
      "text/plain": [
       "array([0. , 0.1, 0.2, 0.3, 0.4, 0.5, 0.6, 0.7, 0.8, 0.9])"
      ]
     },
     "execution_count": 19,
     "metadata": {},
     "output_type": "execute_result"
    }
   ],
   "source": [
    "x_range"
   ]
  },
  {
   "cell_type": "code",
   "execution_count": 20,
   "metadata": {},
   "outputs": [
    {
     "data": {
      "text/plain": [
       "<matplotlib.collections.PathCollection at 0x7fa66bf3fc70>"
      ]
     },
     "execution_count": 20,
     "metadata": {},
     "output_type": "execute_result"
    },
    {
     "data": {
      "image/png": "[encoded data removed]",
      "text/plain": [
       "<Figure size 640x480 with 1 Axes>"
      ]
     },
     "metadata": {},
     "output_type": "display_data"
    }
   ],
   "source": [
    "plt.scatter(x_maillage, y_maillage)"
   ]
  },
  {
   "cell_type": "code",
   "execution_count": 67,
   "metadata": {},
   "outputs": [],
   "source": [
    "def maillage_initial(xB, yB, h):\n",
    "    \"\"\"\n",
    "    Créé les points du maillage initiale\n",
    "    ----------   \n",
    "    Paramètres :\n",
    "    xB = ]x0, x1[, yB = ]y0, y1[ : coordonnées de la boite englobante\n",
    "    h      : pas de maillage\n",
    "    \n",
    "    Retourne :\n",
    "    -vecteur contenant les positions des points du maillage\n",
    "    \"\"\"\n",
    "    \n",
    "    x_range = np.arange(\n",
    "        xB[0], \n",
    "        xB[1],\n",
    "        step= h\n",
    "    )\n",
    "    y_range = np.arange(\n",
    "        yB[0], \n",
    "        yB[1],\n",
    "        step= h*np.sqrt(3) / 2\n",
    "    )\n",
    "\n",
    "    x_maillage = []\n",
    "    y_maillage = []\n",
    "\n",
    "    for x in x_range:\n",
    "        for idx, y in enumerate(y_range):\n",
    "            if idx %2 == 0:\n",
    "                x_maillage.append(x)\n",
    "            else:\n",
    "                x_maillage.append(x + h/2)\n",
    "            y_maillage.append(y)\n",
    "        \n",
    "    # return list(zip(x_maillage, y_maillage))\n",
    "    return x_maillage, y_maillage"
   ]
  },
  {
   "cell_type": "code",
   "execution_count": 68,
   "metadata": {
    "scrolled": true
   },
   "outputs": [],
   "source": [
    "# cas test simple\n",
    "x_maillage, y_maillage = maillage_initial(\n",
    "    (1, 2),\n",
    "    (1,2),\n",
    "    h = 1/10\n",
    ")"
   ]
  },
  {
   "cell_type": "code",
   "execution_count": 69,
   "metadata": {},
   "outputs": [
    {
     "data": {
      "text/plain": [
       "<matplotlib.collections.PathCollection at 0x7fa668a6c0d0>"
      ]
     },
     "execution_count": 69,
     "metadata": {},
     "output_type": "execute_result"
    },
    {
     "data": {
      "image/png": "[encoded data removed]",
      "text/plain": [
       "<Figure size 640x480 with 1 Axes>"
      ]
     },
     "metadata": {},
     "output_type": "display_data"
    }
   ],
   "source": [
    "# cas test \n",
    "\n",
    "plt.scatter(x_maillage, y_maillage, marker='.')"
   ]
  },
  {
   "cell_type": "code",
   "execution_count": 28,
   "metadata": {},
   "outputs": [
    {
     "data": {
      "text/plain": [
       "0.8660254037844386"
      ]
     },
     "execution_count": 28,
     "metadata": {},
     "output_type": "execute_result"
    }
   ],
   "source": [
    "np.sqrt(3)/2"
   ]
  },
  {
   "cell_type": "markdown",
   "metadata": {},
   "source": [
    "## Triangulation de Delaunay et création d'un 1er maillage de $\\Omega$\n",
    "\n",
    "***\n",
    "**Définition**: Etant donné un nuage de points $\\mathcal S$ (c'est-à-dire un ensemble fini de points dans $\\mathbb R^2$), on note $\\Omega$ son enveloppe convexe. Une triangulation de $\\mathcal S$ est un maillage de $\\Omega$ dont les sommets sont les points de $\\mathcal S$.\n",
    "***\n",
    "\n",
    "***\n",
    "**Définition**: Etant donné un nuage de points, une triangulation de ce nuage de points est dite *de Delaunay* si les cercles circonscrits (ouverts) aux triangles ne contiennent aucun des points du nuage.\n",
    "***\n",
    "\n",
    "Les triangulations de Delaunay maximisent le plus petit angle de l'ensemble des angles des triangles, évitant ainsi les triangles *allongés*. On peut montrer (mais ce n'est pas le but du TP) que pour un nuage de points donné qui ne possède pas 4\n",
    "points cocycliques ni trois points alignés, il existe une unique triangulation de Delaunay possédant ces points\n",
    "comme sommets.\n",
    "\n",
    "1. Prendre un nuage de six points au hasard, générer sa triangulation de Delaunay et afficher le tout. On\n",
    "utilisera la commande *scipy.spatial.Delaunay*. "
   ]
  },
  {
   "cell_type": "code",
   "execution_count": 87,
   "metadata": {},
   "outputs": [],
   "source": [
    "# test simple de la fonction Delaunay et tracé d'une triangulation\n",
    "points = np.array([(2*np.random.rand(), 2*np.random.rand()) for i in range(6)])"
   ]
  },
  {
   "cell_type": "code",
   "execution_count": 88,
   "metadata": {},
   "outputs": [],
   "source": [
    "tri = Delaunay(points)"
   ]
  },
  {
   "cell_type": "markdown",
   "metadata": {},
   "source": [
    "2. Utiliser les points obtenus à la partie précedente pour créer un maillage de la boite englobante (ou d'un domaine un peu plus grand) :\n",
    "    * Construire des triangles avec ces points avec la commande *scipy.spatial.Delaunay*. \n",
    "    * Tracer le maillage obtenu grâce à la commande *matplotlib.pyplot.triplot*."
   ]
  },
  {
   "cell_type": "code",
   "execution_count": 89,
   "metadata": {},
   "outputs": [
    {
     "data": {
      "text/plain": [
       "array([[1.71332759, 0.08031745],\n",
       "       [1.50436721, 1.89943097],\n",
       "       [1.65490022, 0.11932644],\n",
       "       [1.89473779, 0.07967358],\n",
       "       [0.15042377, 0.5831237 ],\n",
       "       [0.86071998, 0.41756002]])"
      ]
     },
     "execution_count": 89,
     "metadata": {},
     "output_type": "execute_result"
    }
   ],
   "source": [
    "points"
   ]
  },
  {
   "cell_type": "code",
   "execution_count": 74,
   "metadata": {},
   "outputs": [
    {
     "data": {
      "text/plain": [
       "[<matplotlib.lines.Line2D at 0x7fa6689959f0>]"
      ]
     },
     "execution_count": 74,
     "metadata": {},
     "output_type": "execute_result"
    },
    {
     "data": {
      "image/png": "[encoded data removed]",
      "text/plain": [
       "<Figure size 640x480 with 1 Axes>"
      ]
     },
     "metadata": {},
     "output_type": "display_data"
    }
   ],
   "source": [
    "plt.triplot(points[:,0], points[:,1], tri.simplices)\n",
    "plt.plot(points[:,0], points[:,1], 'o')"
   ]
  },
  {
   "cell_type": "code",
   "execution_count": 90,
   "metadata": {},
   "outputs": [
    {
     "data": {
      "text/plain": [
       "array([[5, 1, 4],\n",
       "       [1, 2, 3],\n",
       "       [5, 2, 1],\n",
       "       [2, 0, 3],\n",
       "       [0, 5, 4],\n",
       "       [0, 2, 5]], dtype=int32)"
      ]
     },
     "execution_count": 90,
     "metadata": {},
     "output_type": "execute_result"
    }
   ],
   "source": [
    "tri.simplices"
   ]
  },
  {
   "cell_type": "code",
   "execution_count": 3,
   "metadata": {
    "scrolled": false
   },
   "outputs": [],
   "source": [
    "# Cas test : boite englobante"
   ]
  },
  {
   "cell_type": "markdown",
   "metadata": {},
   "source": [
    "3. Parmi les points précédents, ne garder que ceux qui correspondent à $f(X) < 0$. On propose ci-dessous une fonction $f$ (sous le nom *f_domaine*) que vous pouvez changer."
   ]
  },
  {
   "cell_type": "code",
   "execution_count": 76,
   "metadata": {},
   "outputs": [],
   "source": [
    "xstar = [0.,1.]\n",
    "ystar = [0.,4.]\n",
    "\n",
    "def f_domaine(x): \n",
    "    return x[0]**2 + x[1]**2 - 2 #cercle\n",
    "    #return 1 -(0 < x[0] and x[0] < 1 and  0 < x[1] and x[1] < 1) #carré\n",
    "\n",
    "# Cas test : boite englobante sans les points en dehors de Omega\n",
    "\n",
    "# points and f_domaine(points)\n"
   ]
  },
  {
   "cell_type": "code",
   "execution_count": 82,
   "metadata": {},
   "outputs": [],
   "source": [
    "new_points = []\n",
    "for point in points:\n",
    "    if f_domaine(point) < 0:\n",
    "        new_points.append(point)\n",
    "    \n",
    "new_points = np.array(new_points)"
   ]
  },
  {
   "cell_type": "code",
   "execution_count": 83,
   "metadata": {},
   "outputs": [],
   "source": [
    "tri = Delaunay(new_points)"
   ]
  },
  {
   "cell_type": "code",
   "execution_count": null,
   "metadata": {},
   "outputs": [],
   "source": []
  },
  {
   "cell_type": "code",
   "execution_count": 84,
   "metadata": {},
   "outputs": [
    {
     "data": {
      "text/plain": [
       "[<matplotlib.lines.Line2D at 0x7fa66884ce20>]"
      ]
     },
     "execution_count": 84,
     "metadata": {},
     "output_type": "execute_result"
    },
    {
     "data": {
      "image/png": "[encoded data removed]",
      "text/plain": [
       "<Figure size 640x480 with 1 Axes>"
      ]
     },
     "metadata": {},
     "output_type": "display_data"
    }
   ],
   "source": [
    "plt.triplot(new_points[:,0], new_points[:,1], tri.simplices)\n",
    "plt.plot(points[:,0], points[:,1], 'o')\n"
   ]
  },
  {
   "cell_type": "code",
   "execution_count": 86,
   "metadata": {},
   "outputs": [
    {
     "data": {
      "text/plain": [
       "array([[2, 1, 0]], dtype=int32)"
      ]
     },
     "execution_count": 86,
     "metadata": {},
     "output_type": "execute_result"
    }
   ],
   "source": [
    "tri.simplices"
   ]
  },
  {
   "cell_type": "markdown",
   "metadata": {},
   "source": [
    "# Modification du maillage\n",
    "Les arrêtes du maillage précedemment construit ne coïncident pas en général avec le bord du domaine $\\Omega$. C'est ce que nous proposons d'adapter à présent.\n",
    "L'idée que nous allons utiliser est d'assimiler le maillage à un assemblage de ressorts. L'astuce consiste\n",
    "à calculer une longueur idéale pour les ressorts et d'essayer d'agrandir ceux qui sont trop courts afin de remplir le domaine avec les triangles les plus réguliers possibles.\n",
    "\n",
    "## Les arêtes du maillage\n",
    "\n",
    "1. Fabriquer un tableau qui contient pour chaque arête l'indice de ses deux sommets. On se servira du tableau des triangles (*Delaunay(points).simplices*) et on en extraira les arêtes. Attention, il faudra sans doute supprimer les doublons.\n",
    "\n",
    "2. Construire un tableau des vecteurs directeurs normalisés des arêtes, orientés du sommet 1 au sommet 2 de chacune des arêtes, ainsi que le tableau des longueurs $L[i]$ de ces vecteurs.\n",
    "\n",
    "3. Calculer la longueur idéale $L_0 = 1.2 \\sqrt{\\sum\\limits_i L[i]^2 /N}$, le paramètre $1.2$ servira à faire \"augmenter\" les longueurs des arêtes.\n",
    "\n",
    "4. Construire un tableau de \"forces\" orientées le long des arêtes et de module $max(L_0 − L[i], 0)$ (on ne bougera pas les longueurs dejà plus grandes que $L_0$)."
   ]
  },
  {
   "cell_type": "code",
   "execution_count": 118,
   "metadata": {},
   "outputs": [],
   "source": [
    "# Construction des tableaux d'arêtes, de vecteurs directeurs, de forces...\n",
    "points = np.array([[0,0], [0,1], [1,0], [1,1], [2,0]])\n",
    "tri = Delaunay(points)"
   ]
  },
  {
   "cell_type": "code",
   "execution_count": 119,
   "metadata": {},
   "outputs": [
    {
     "data": {
      "text/plain": [
       "[<matplotlib.lines.Line2D at 0x7fa66aee94b0>,\n",
       " <matplotlib.lines.Line2D at 0x7fa66aee2620>]"
      ]
     },
     "execution_count": 119,
     "metadata": {},
     "output_type": "execute_result"
    },
    {
     "data": {
      "image/png": "[encoded data removed]",
      "text/plain": [
       "<Figure size 640x480 with 1 Axes>"
      ]
     },
     "metadata": {},
     "output_type": "display_data"
    }
   ],
   "source": [
    "plt.triplot(points[:,0], points[:,1], tri.simplices)"
   ]
  },
  {
   "cell_type": "code",
   "execution_count": 124,
   "metadata": {},
   "outputs": [],
   "source": [
    "vector_vertices = list()\n",
    "visited = set()\n",
    "\n",
    "for triangle in tri.simplices:\n",
    "    for i in range(len(triangle)):\n",
    "        for j in range(i, len(triangle)):\n",
    "            if i == j:\n",
    "                continue\n",
    "            \n",
    "            idx1 = triangle[i]\n",
    "            idx2 = triangle[j]\n",
    "\n",
    "            this_points = tuple((tuple(points[idx1]), tuple(points[idx2])))\n",
    "            same_points = tuple((tuple(points[idx2]), tuple(points[idx1])))\n",
    "\n",
    "            if not this_points in visited and not same_points in visited:\n",
    "                vector_vertices.append([points[idx1], points[idx2]])\n",
    "                visited.add(this_points)\n"
   ]
  },
  {
   "cell_type": "code",
   "execution_count": 130,
   "metadata": {},
   "outputs": [
    {
     "data": {
      "text/plain": [
       "[[array([1, 1]), array([1, 0])],\n",
       " [array([1, 1]), array([2, 0])],\n",
       " [array([1, 0]), array([2, 0])],\n",
       " [array([1, 0]), array([0, 0])],\n",
       " [array([1, 1]), array([0, 0])],\n",
       " [array([1, 1]), array([0, 1])],\n",
       " [array([0, 1]), array([0, 0])]]"
      ]
     },
     "execution_count": 130,
     "metadata": {},
     "output_type": "execute_result"
    }
   ],
   "source": [
    "vector_vertices"
   ]
  },
  {
   "cell_type": "code",
   "execution_count": 128,
   "metadata": {},
   "outputs": [],
   "source": [
    "unit_vectors = []\n",
    "vector_norms = []\n",
    "\n",
    "for idx, vertices in enumerate((vector_vertices)):\n",
    "    v = vertices[1] - vertices[0]\n",
    "    u = v/np.linalg.norm(v)\n",
    "\n",
    "    unit_vectors.append(u)\n",
    "    vector_norms.append(np.linalg.norm(v))\n",
    "\n",
    "assert len(unit_vectors) == len(vector_norms)"
   ]
  },
  {
   "cell_type": "code",
   "execution_count": 129,
   "metadata": {},
   "outputs": [
    {
     "data": {
      "text/plain": [
       "[array([ 0., -1.]),\n",
       " array([ 0.70710678, -0.70710678]),\n",
       " array([1., 0.]),\n",
       " array([-1.,  0.]),\n",
       " array([-0.70710678, -0.70710678]),\n",
       " array([-1.,  0.]),\n",
       " array([ 0., -1.])]"
      ]
     },
     "execution_count": 129,
     "metadata": {},
     "output_type": "execute_result"
    }
   ],
   "source": [
    "unit_vectors"
   ]
  },
  {
   "cell_type": "code",
   "execution_count": 133,
   "metadata": {},
   "outputs": [
    {
     "data": {
      "text/plain": [
       "array([1., 2., 1., 1., 2., 1., 1.])"
      ]
     },
     "execution_count": 133,
     "metadata": {},
     "output_type": "execute_result"
    }
   ],
   "source": []
  },
  {
   "cell_type": "code",
   "execution_count": 134,
   "metadata": {},
   "outputs": [],
   "source": [
    "L0 = 1.2 * np.sqrt(np.power(vector_norms,2).sum()/len(vector_norms))"
   ]
  },
  {
   "cell_type": "code",
   "execution_count": 135,
   "metadata": {},
   "outputs": [],
   "source": [
    "forces = [max(L0- l, 0) for l in vector_norms]"
   ]
  },
  {
   "cell_type": "code",
   "execution_count": 138,
   "metadata": {},
   "outputs": [
    {
     "data": {
      "text/plain": [
       "[array([ 0.       , -0.3606721]),\n",
       " array([ 0., -0.]),\n",
       " array([0.3606721, 0.       ]),\n",
       " array([-0.3606721,  0.       ]),\n",
       " array([-0., -0.]),\n",
       " array([-0.3606721,  0.       ]),\n",
       " array([ 0.       , -0.3606721])]"
      ]
     },
     "execution_count": 138,
     "metadata": {},
     "output_type": "execute_result"
    }
   ],
   "source": [
    "[forces[i]*unit_vectors[i] for i in range(len(forces))]"
   ]
  },
  {
   "cell_type": "code",
   "execution_count": 6,
   "metadata": {},
   "outputs": [],
   "source": [
    "# Cas test simple"
   ]
  },
  {
   "cell_type": "markdown",
   "metadata": {},
   "source": [
    "## Algorithme de Newton : Projection sur le bord\n",
    "\n",
    "Après une étape de déplacement des points, certains d'entre eux peuvent se retrouver en dehors du domaine. On va donc reprojeter ces points sur le bord du domaine.  \n",
    "\n",
    "Pour ce faire, on se donne une fonction $f$ (suffisament régulière) dont l'isovaleur $f(X) = 0$ décrit le bord\n",
    "du domaine de calcul. On cherchera à projeter des points proches du bord orthogonalement sur le bord. On utilise pour cela une méthode de type Newton : étant donné un point $X_0$ à projeter, on définit la fonction $g(\\lambda)$ par\n",
    "\n",
    "$$g(\\lambda) = f\\left(X_0 + \\lambda \\nabla f(X_0)\\right),$$\n",
    "\n",
    "et on construit une suite $\\lambda_k$ qui converge vers $\\lambda_*$ tel que $g(\\lambda_*) = 0$. Plus précisément, on applique l'algorithme :\n",
    "\n",
    "$$\\lambda_0 = 0 \\quad \\text{ et } \\quad \\lambda_{k+1} = \\lambda_k - g(\\lambda_k)/g'(\\lambda_k) \\quad \\text{ jusqu'à convergence.}$$"
   ]
  },
  {
   "cell_type": "markdown",
   "metadata": {},
   "source": [
    "Implémenter une fonction *Newton* qui prend comme argument (entre autre) la fonction $f$ et renvoie le coefficient $\\lambda$ calculé par cette méthode. Le point projeté est $X_0 +  \\lambda \\nabla f(X_0)$.  Tester la méthode sur des cas pratiques.\n",
    "\n",
    "*Indications :* Pour le calcul de $\\nabla f(X)$ on pourra (par exemple) :\n",
    "- Soit passer la fonction qui calcule aussi $\\nabla f$ en paramètre si on la connait analytiquement.\n",
    "- Soit calculer $\\nabla f(X)$ en l'approchant par différences finies (prendre typiquement $\\epsilon = 1e-4$) \n",
    "\n",
    "$$ \\nabla f(X) \\approx \\left( \\frac{f(X_0+\\epsilon e_1) - f(X_0-\\epsilon e_1)}{2 \\epsilon}, \\quad  \\frac{f(X_0+\\epsilon e_2) - f(X_0- \\epsilon e_2)}{2\\epsilon}\\right)^T.$$"
   ]
  },
  {
   "cell_type": "code",
   "execution_count": 7,
   "metadata": {},
   "outputs": [],
   "source": [
    "def grad_approx(f, X, epsilon):\n",
    "    # calcul du gradient par différences finies centrées avec un pas epsilon\n",
    "    return np.array([ f([X[0]+epsilon, X[1]])-f([X[0]-epsilon,X[1]]), f([X[0], X[1]+epsilon])-f([X[0],X[1]-epsilon])])/(2*epsilon)\n",
    "\n",
    "def Newton(f, X0, iter_max, TOL):\n",
    "    \"\"\"\n",
    "    Renvoie X_* tel que g(X_*) = 0 donnée par la méthode de Newton\n",
    "    ----------   \n",
    "    Paramètres :\n",
    "    f        : fonction pour laquelle on cherche une isovaleur f(X_*) = 0\n",
    "    X0       : position initiale \n",
    "    iter_max : nombre maximum d'itérations\n",
    "    TOL      : tolérance pour le critère d'arrêt\n",
    "    \n",
    "    Retourne :\n",
    "    -la position approchée par la méthode de Newton\n",
    "    \"\"\"   \n",
    "    return "
   ]
  },
  {
   "cell_type": "code",
   "execution_count": 8,
   "metadata": {},
   "outputs": [],
   "source": [
    "# Cas test simple"
   ]
  },
  {
   "cell_type": "markdown",
   "metadata": {},
   "source": [
    "## Déplacement des points\n",
    "\n",
    "1. Pour chaque sommet, sommer les forces issues des sommets auxquels il est relié par une arête.\n",
    "\n",
    "2. Appliquer à chaque sommet un déplacement égal à sa force cumulée multipliée par un paramètre $\\delta t = 0.2$. On notera (avec des abus de notations) \n",
    "\n",
    "    $$ X_i^{n+1} = X_i^n + \\delta t F_i$$\n",
    "\n",
    "    la position du sommet numéro $i$ à l'étape $n+1$ de l'algorithme, en fonction de la force $F_i$ qu'il reçoit.\n",
    "\n",
    "3. Repérer les points qui sortent du domaine et les reprojeter sur le bord grâce à la méthode de Newton.\n",
    "\n",
    "4. Retrianguler le nuage de points nouvellement obtenu et tracer le maillage courant.\n",
    "\n",
    "5. Réitérer la procédure jusqu'à convergence."
   ]
  },
  {
   "cell_type": "code",
   "execution_count": 10,
   "metadata": {},
   "outputs": [],
   "source": [
    "# Cas test "
   ]
  },
  {
   "cell_type": "markdown",
   "metadata": {},
   "source": [
    "# Pour aller plus loin\n",
    "\n",
    "Améliorer les maillages construits par le code que l'on vient d'écrire en :\n",
    "1. Supprimant les points trop proches :\n",
    "    Si la longueur d'une arêtes descend sous la tolérance $\\delta$, fusionner les deux points qui compose cette arête pour en former un seul à mi-distance.\n",
    "\n",
    "2. Considérant des domaînes non-convexes :\n",
    "    Faire une procédure qui supprime les triangles à l'extérieur du domaine (la fonction Delaunay maille en effet l'enveloppe convexe des points fournis).\n",
    "    \n",
    "3. Adaptant localement le pas du maillage :\n",
    "    Faire varier la longueur idéal $L_0$ en fonction de la position dans le domaine (pour faire du raffinement local de maillage).\n",
    "    \n",
    "4. Étendant la méthode en 3D :\n",
    "    Construire un mailleur en tétraèdres en 3D. Qu'est-ce qui change par rapport aux idées évoquées ici?"
   ]
  },
  {
   "cell_type": "code",
   "execution_count": null,
   "metadata": {},
   "outputs": [],
   "source": []
  },
  {
   "cell_type": "code",
   "execution_count": null,
   "metadata": {},
   "outputs": [],
   "source": []
  }
 ],
 "metadata": {
  "kernelspec": {
   "display_name": "Python 3",
   "language": "python",
   "name": "python3"
  },
  "language_info": {
   "codemirror_mode": {
    "name": "ipython",
    "version": 3
   },
   "file_extension": ".py",
   "mimetype": "text/x-python",
   "name": "python",
   "nbconvert_exporter": "python",
   "pygments_lexer": "ipython3",
   "version": "3.10.9"
  },
  "latex_envs": {
   "LaTeX_envs_menu_present": true,
   "autoclose": false,
   "autocomplete": true,
   "bibliofile": "biblio.bib",
   "cite_by": "apalike",
   "current_citInitial": 1,
   "eqLabelWithNumbers": true,
   "eqNumInitial": 1,
   "hotkeys": {
    "equation": "Ctrl-E",
    "itemize": "Ctrl-I"
   },
   "labels_anchors": false,
   "latex_user_defs": false,
   "report_style_numbering": false,
   "user_envs_cfg": false
  },
  "toc": {
   "base_numbering": 1,
   "nav_menu": {},
   "number_sections": true,
   "sideBar": true,
   "skip_h1_title": false,
   "title_cell": "Table of Contents",
   "title_sidebar": "Contents",
   "toc_cell": false,
   "toc_position": {},
   "toc_section_display": true,
   "toc_window_display": false
  }
 },
 "nbformat": 4,
 "nbformat_minor": 2
}
