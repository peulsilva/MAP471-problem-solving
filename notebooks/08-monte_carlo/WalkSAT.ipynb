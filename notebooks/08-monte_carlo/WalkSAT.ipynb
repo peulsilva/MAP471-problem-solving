{
 "cells": [
  {
   "cell_type": "markdown",
   "metadata": {},
   "source": [
    "<img src='./figures/logo-ecole-polytechnique-ve.jpg' style='position:absolute; top:0; right:0;' width='100px' height='' alt='' />\n",
    "\n",
    "<center>**Ecole Polytechnique, Cycle ingénieur**</center>\n",
    "<center>MAP572</center>\n",
    "\n",
    "# Résolution de k-SAT par Monte-Carlo"
   ]
  },
  {
   "cell_type": "code",
   "execution_count": 1,
   "metadata": {
    "scrolled": true
   },
   "outputs": [
    {
     "data": {
      "text/html": [
       "<link href='http://fonts.googleapis.com/css?family=Fenix' rel='stylesheet' type='text/css'>\n",
       "<link href='http://fonts.googleapis.com/css?family=Alegreya+Sans:100,300,400,500,700,800,900,100italic,300italic,400italic,500italic,700italic,800italic,900italic' rel='stylesheet' type='text/css'>\n",
       "<link href='http://fonts.googleapis.com/css?family=Source+Code+Pro:300,400' rel='stylesheet' type='text/css'>\n",
       "<link href=\"https://fonts.googleapis.com/css?family=Oswald|Raleway\" rel=\"stylesheet\" type='text/css'> \n",
       "<style>\n",
       ".prompt{\n",
       "    display: none !important;\n",
       "}\n",
       "\n",
       ".rendered_html pre {\n",
       "    border: 1px solid #f0f6f9 !important;\n",
       "}\n",
       "\n",
       ".rendered_html pre, .rendered_html code {\n",
       "    background-color: #d3d8db !important;\n",
       "    padding: 1% !important;\n",
       "    line-height: 200% !important;\n",
       "    border-radius: 10px !important;\n",
       "}\n",
       "\n",
       "div.input_area {\n",
       "    border-radius: 10px !important;\n",
       "    background-color: #e1e1e6 !important;\n",
       "}\n",
       "\n",
       "div.cell{\n",
       "        width:85% !important;\n",
       "        margin-left:5% !important;\n",
       "        /*margin-right:auto;*/\n",
       "    }\n",
       "    h1, h2, h3, h4, h5 {\n",
       "        font-family: 'Oswald', sans-serif; !important;\n",
       "        font-style: oblique !important;\n",
       "    }\n",
       "    div.text_cell_render{\n",
       "        font-family: 'Raleway', sans-serif; !important;\n",
       "        line-height: 135% !important;\n",
       "        font-size: 120% !important;\n",
       "        width:100%;/*600px;*/\n",
       "        /*margin-left:auto;*/\n",
       "        /*margin-right:auto;*/\n",
       "    }\n",
       "    .CodeMirror{\n",
       "            font-family: \"Source Code Pro\" !important;\n",
       "\t\t\tfont-size: 100% !important;\n",
       "    }\n",
       "    .text_cell_render p{\n",
       "        text-align: justify !important;\n",
       "    }\n",
       "    .text_cell_render h1 {\n",
       "        font-weight: 200 !important;\n",
       "\t\tline-height: 100% !important;\n",
       "        color:#47597A !important;\n",
       "        margin-bottom: 10.em !important;\n",
       "        margin-top: 50.em !important;\n",
       "        padding-bottom: 50.em !important;\n",
       "        padding-top: 50.em !important;\n",
       "        display: block !important;\n",
       "        font-size: 300% !important;\n",
       "        text-align: center !important;\n",
       "        border-bottom: 1px solid #47597A !important;\n",
       "        border-top: 1px solid #47597A !important;\n",
       "    }\n",
       "    .text_cell_render h2 {\n",
       "        font-weight: 200 !important;\n",
       "\tline-height: 100% !important;\n",
       "        color:#47597A !important;\n",
       "        margin-bottom: 0.5em !important;\n",
       "        margin-top: 0.5em !important;\n",
       "        display: block !important;\n",
       "        font-size: 200% !important;\n",
       "        border-bottom: 1px solid #47597A !important;\n",
       "    }\n",
       "    .text_cell_render h3 {\n",
       "        font-weight: 200 !important;\n",
       "\tline-height: 100% !important;\n",
       "        color:#47597A !important;\n",
       "        margin-bottom: 0.5em !important;\n",
       "        margin-top: 0.5em !important;\n",
       "        display: block !important;\n",
       "        font-size: 150% !important;\n",
       "    }\n",
       "    .text_cell_render h4 {\n",
       "        font-style: italic !important;\n",
       "        font-weight: bold !important;\n",
       "\tline-height: 100% !important;\n",
       "        color:#47597A !important;\n",
       "        display: block !important;\n",
       "        font-size: 100% !important;\n",
       "    }\n",
       "    .text_cell_render h5 {\n",
       "        font-weight: 200 !important;\n",
       "\tline-height: 100% !important;\n",
       "        color:#47597A !important;\n",
       "        margin-bottom: 0.5em !important;\n",
       "        margin-top: 0.5em !important;\n",
       "        display: block !important;\n",
       "        font-size: 100% !important;\n",
       "    }\n",
       "    .text_cell_render ul {\n",
       "\tlist-style-type: disc !important;\n",
       "\tline-height: 2;\n",
       "\t/*color:#47597A !important;*/\n",
       "    }\n",
       "    .warning{\n",
       "        color: rgb( 240, 20, 20 ) !important;\n",
       "        }\n",
       "    .Abstract {  \n",
       "\ttext-align: justify;\n",
       "\tbackground-color: #d6edf9;\n",
       "\tborder-left: 5px solid #47597A;\n",
       "\tpadding: 0.5em;\n",
       "\tmargin: 0  150px 0 150px;\n",
       "    }\n",
       "    .Def {    \n",
       "\tbackground-color: #d9f7d7;\n",
       "\tborder-left: 5px solid #4a7047;\n",
       "\tpadding: 0.5em;\n",
       "    }\n",
       "    .Def:before {\n",
       "\tcontent: \"Definition.\";\n",
       "\tcolor:#4a7047;\n",
       "\tfont-weight: bold;\n",
       "\tfont-style: normal;\n",
       "    }\n",
       "    .DoIt {    \n",
       "\tbackground-color: #e8cfc9;\n",
       "\tborder-left: 5px solid #a90e05;\n",
       "\tpadding: 0.5em;\n",
       "    }\n",
       "    .DoIt:before {\n",
       "\tcontent: \"Do it yourself.\";\n",
       "\tcolor:#a90e05;\n",
       "\tfont-weight: bold;\n",
       "\tfont-style: normal;\n",
       "    }\n",
       "    .Answers {    \n",
       "\tbackground-color: #DDA0DD;\n",
       "\tborder-left: 5px solid #9932CC;\n",
       "\tpadding: 0.5em;\n",
       "    }\n",
       "    .Answers:before {\n",
       "\tcontent: \"Answers.\";\n",
       "\tcolor:#682145;\n",
       "\tfont-weight: bold;\n",
       "\tfont-style: normal;\n",
       "    }\n",
       "    .Prop {    \n",
       "\tbackground-color:#f9ecd1;\n",
       "\tborder-left: 5px solid #ba7021;\n",
       "\tpadding: 0.5em;\n",
       "    }\n",
       "   .Prop:before {\n",
       "       content: \"Proposition.\";\n",
       "       color:#ba7021;\n",
       "       font-weight: bold;\n",
       "       font-style: normal;\n",
       "    }\n",
       "   .Thm {    \n",
       "\tbackground-color:#f9ecd1;\n",
       "\tborder-left: 5px solid #ba7021;\n",
       "\tpadding: 0.5em;\n",
       "    }\n",
       "   .Thm:before {\n",
       "       content: \"Theorem.\";\n",
       "       color:#ba7021;\n",
       "       font-weight: bold;\n",
       "       font-style: normal;\n",
       "    } \n",
       "   .Algo {    \n",
       "\tbackground-color:#f9ecd1;\n",
       "\tborder-left: 5px solid #ba7021;\n",
       "\tpadding: 0.5em;\n",
       "    }\n",
       "   .Algo:before {\n",
       "       content: \"Algorithm.\";\n",
       "       color:#ba7021;\n",
       "       font-weight: bold;\n",
       "       font-style: normal;\n",
       "    }\n",
       "    .Rmk {    \n",
       "\tbackground-color: #dbf1fc;\n",
       "\tborder-left: 5px solid #385487;\n",
       "\tpadding: 0.5em;\n",
       "    }\n",
       "    .Rmk:before {\n",
       "\tcontent: \"Remark.\";\n",
       "\tcolor:#385487;\n",
       "\tfont-weight: bold;\n",
       "\tfont-style: normal;\n",
       "    }\n",
       "    .Ex {    \n",
       "\tbackground-color: #dbf1fc;\n",
       "\tborder-left: 5px solid #385487;\n",
       "\tpadding: 0.5em;\n",
       "    }\n",
       "    .Ex:before {\n",
       "\tcontent: \"Example.\";\n",
       "\tcolor:#385487;\n",
       "\tfont-weight: bold;\n",
       "\tfont-style: normal;\n",
       "    }\n",
       "\n",
       "/*    .toc-item-num {\n",
       "#        display: none;\n",
       "#    }\n",
       "*/\n",
       "    .reveal section img{\n",
       "        margin: 0px auto;\n",
       "    }\n",
       "\n",
       "    div.output_area img{\n",
       "        display: block;\n",
       "        margin: 0px auto;\n",
       "    }\n",
       "  \n",
       "</style>\n",
       "\n",
       "<script>\n",
       "MathJax.Hub.Config({\n",
       "TeX: {extensions: [\"AMSmath.js\"] },\n",
       "                tex2jax: {\n",
       "                    inlineMath: [ ['$','$'], [\"\\\\(\",\"\\\\)\"] ],\n",
       "                    displayMath: [ ['$$','$$'], [\"\\\\[\",\"\\\\]\"] ]\n",
       "                },\n",
       "                displayAlign: 'center', // Change this to 'center' to center equations.\n",
       "                \"HTML-CSS\": {\n",
       "                    styles: {'.MathJax_Display': {\"margin\": 4}}\n",
       "                }\n",
       "        });\n",
       "\n",
       "\n",
       "\n",
       "</script>\n"
      ],
      "text/plain": [
       "<IPython.core.display.HTML object>"
      ]
     },
     "execution_count": 1,
     "metadata": {},
     "output_type": "execute_result"
    }
   ],
   "source": [
    "# css style\n",
    "from IPython.core.display import HTML\n",
    "def css_styling():\n",
    "    styles = open(\"./style/custom2.css\").read()\n",
    "    return HTML(styles)\n",
    "css_styling()"
   ]
  },
  {
   "cell_type": "code",
   "execution_count": 2,
   "metadata": {},
   "outputs": [],
   "source": [
    "# load the libraries\n",
    "import matplotlib.pyplot as plt # 2D plotting library\n",
    "import numpy as np              # package for scientific computing  \n",
    "import random\n",
    "%matplotlib inline  "
   ]
  },
  {
   "cell_type": "markdown",
   "metadata": {},
   "source": [
    "## Table des matières\n",
    "\n",
    "- [k-SAT et exploration aléatoire](#kSAT)\n",
    "  - k-SAT : Définition et Préliminaires\n",
    "  - [Résolution de $2$-SAT avec <i>WalkSat</i>](#WalkSat)\n",
    "  - [<i>WalkSat</i> : choix du paramètre $T$](#ChoixT)  \n",
    "- [Matrices de transitions : Calcul de $\\mathbb{P}(\\tau < 2n^2)$](#Annexe)\n",
    "- [Application : Transition de phase pour $2$-SAT](#Transition)\n"
   ]
  },
  {
   "cell_type": "markdown",
   "metadata": {},
   "source": [
    "Pour un problème sur un espace fini, les méthodes <i>Monte-Carlo Markov Chain</i> (MCMC) consistent à parcourir l'ensemble des solutions possibles de façon aléatoire mais astucieuse. On cherche ainsi à déterminer la solution optimale, ou proche de l'optimal.\n",
    "\n",
    "L'objectif de ce TP est d'illustrer la puissance de la stratégie MCMC sur un problème particulier : le problème $k$-SAT en informatique théorique. C'est aussi un prétexte pour utiliser les matrices de transitions.\n",
    "\n",
    "Une référence pour ce TP est :<br>\n",
    "[1] MITZENMACHER, Michael et UPFAL, Eli. Probability and computing: Randomization and probabilistic techniques in algorithms and data analysis. Cambridge university press, 2017. (pages 156-159)\n"
   ]
  },
  {
   "cell_type": "markdown",
   "metadata": {},
   "source": [
    "<a id=\"kSAT\"></a>\n",
    "# Le problème k-SAT"
   ]
  },
  {
   "cell_type": "markdown",
   "metadata": {},
   "source": [
    "Le problème SAT en informatique théorique (aussi appelé problème de satisfaisabilité booléenne) est le problème de décision qui, étant donné une formule de logique booléenne, détermine s'il existe une assignation des variables qui rend la formule vraie.\n",
    "\n",
    "Nous allons définir tous les termes et restreindre le contexte.\n",
    "\n",
    "Ici on va spécifiquement s'intéresser au problème $k$-SAT. Soit $k$ fixé (dans ce TP on va prendre uniquement $k\\in \\{2,3\\})$ et étant données $n$ variables booléennes $x_1,x_2,\\dots,x_n \\in \\{\\text{Vrai},\\text{Faux}\\}$, on considère les formules booléennes de la forme ($\\vee$ signifie 'ou' et $\\wedge$ signifie 'et')<br><br>\n",
    "$$\n",
    "(z_{1,1} \\vee z_{1,2} \\vee \\dots \\vee z_{1,k}) \\wedge \\dots \\wedge (z_{M,1} \\vee z_{M,2} \\vee \\dots \\vee z_{M,k})\n",
    "$$\n",
    "\n",
    "<br>\n",
    "où\n",
    "\n",
    "* $M$ est un entier quelconque \n",
    "* pour chaque $1\\leq m\\leq M$ et chaque $i\\leq k$ on a\n",
    "\n",
    "<br>\n",
    "\n",
    "$$\n",
    "z_{m,i}\\in \\big\\{x_1,x_2,\\dots,x_n,\\overline{x_1},\\overline{x_2},\\dots,\\overline{x_n}\\big\\}.\n",
    "$$\n",
    "\n",
    "(La notation $\\overline{x}$ désigne la négation de $x$.)\n",
    "Chaque terme $(z_{m,1} \\vee z_{m,2} \\vee \\dots \\vee z_{m,k})$ est appelée une clause. \n",
    "\n",
    "Par exemple pour $2$-SAT avec $n=5$ variables, une formule à $M=3$ clauses est donnée par\n",
    "\n",
    "<br><br>\n",
    "$$\n",
    "F=(x_1 \\vee \\overline{x_5}) \\wedge (x_2 \\vee x_3)  \\wedge (\\overline{x_1} \\vee x_2) \n",
    "$$\n",
    "<br>\n",
    "\n",
    "Une <i>affectation</i> est une fonction $x_1,x_2,\\dots,x_n \\in \\{\\text{Vrai},\\text{Faux}\\}$. S'il existe une affectation qui rende $F$ vraie on dit que $F$ est **satisfiable**.\n",
    "\n",
    "Dans le cas de l'exemple ci-dessus, une <i>affectation</i> des variables qui rende $F$ vraie est :\n",
    "$$\n",
    "x_1=\\text{Faux},\\ x_2=\\text{Vrai},\\ x_3=\\text{Faux},\\ x_4=\\text{Faux},\\ x_5=\\text{Faux}.\n",
    "$$\n",
    "\n",
    "Spécifiquement, le problème $k$-SAT est de trouver un algorithme qui, étant donnée une formule $F$, trouve une affectation des variables qui rende $F$ vraie (ou qui retourne `impossible` si une telle affectation n'existe pas). Le problème 2-SAT est polynomial alors que 3-SAT est NP-complet (voir par exemple : S.Perifel. Complexité algorithmique. Ellipses (2014))"
   ]
  },
  {
   "cell_type": "markdown",
   "metadata": {},
   "source": [
    "<div markdown=1 class=\"DoIt\"> \n",
    "\n",
    "Ecrire des fonctions `ClauseVraie(Clause,Affectation,nb_variables)` et `FonctionVraie(Formule,Affectation,nb_variables)` qui prennent en entrée des clauses ou formules et une affectation, et calcule si la clause/formule est vraie ou pas.\n",
    "\n",
    "On pourra représenter les formules sous la forme de liste :\n",
    "```\n",
    "Formule = [Clause1,Clause2,...,ClauseM]\n",
    "```\n",
    "où chaque `Clause` est de la forme\n",
    "```\n",
    "Clause = [z_1,...,z_k]\n",
    "```\n",
    "et chaque $z_i$ est un booléen. Dans les clauses on peut numéroter les booléens de $0$ à $n-1$ pour $x_1, \\dots,x_n$ et de $n$ à $2n-1$ pour leurs négations. Pour l'exemple plus haut :\n",
    "```\n",
    "F=[[0,9],[1,2],[5,1]]\n",
    "```\n",
    "car (par exemple) $\\overline {x_5}$ est codé par $9$. L'affectation donnée en exemple est alors\n",
    "```\n",
    "[0,1,0,0,0]\n",
    "```"
   ]
  },
  {
   "cell_type": "code",
   "execution_count": 3,
   "metadata": {},
   "outputs": [
    {
     "name": "stdout",
     "output_type": "stream",
     "text": [
      "True\n",
      "False\n",
      "True\n"
     ]
    }
   ],
   "source": [
    "####################################\n",
    "# ---- tester une clause\n",
    "####################################\n",
    "\n",
    "def ClauseVraie(\n",
    "    Clause,\n",
    "    Affectation,\n",
    "    nb_variables\n",
    "):\n",
    "    \n",
    "    for idx, val in enumerate(Clause):\n",
    "        if val < nb_variables:\n",
    "            if Affectation[val]:\n",
    "                return True\n",
    "        \n",
    "        else:\n",
    "            var = val - nb_variables\n",
    "            if not Affectation[var]:\n",
    "                return True\n",
    "            \n",
    "    return False\n",
    "\n",
    "\n",
    "# Test\n",
    "n=2\n",
    "Clause1=[0,1]  # x_1 ou x_2\n",
    "Clause2=[2,1]  # non(x_1) ou x_2\n",
    "Clause3=[2,3]  # non(x_1) ou non(x_2)\n",
    "        \n",
    "Affectation1=[1,0] # x_1 vraie et x_2 fausse\n",
    "\n",
    "print(ClauseVraie(Clause1,Affectation1,n)) # doit renvoyer True\n",
    "print(ClauseVraie(Clause2,Affectation1,n)) # doit renvoyer False\n",
    "print(ClauseVraie(Clause3,Affectation1,n)) # doit renvoyer True"
   ]
  },
  {
   "cell_type": "code",
   "execution_count": 5,
   "metadata": {},
   "outputs": [
    {
     "name": "stdout",
     "output_type": "stream",
     "text": [
      "[False, True, False]\n",
      "True\n"
     ]
    }
   ],
   "source": [
    "####################################\n",
    "# ---- tester une formule\n",
    "####################################\n",
    "\n",
    "def FormuleVraie(Formule,Affectation,nb_variables):\n",
    "    for clause in Formule:\n",
    "        if not ClauseVraie(clause, Affectation, nb_variables):\n",
    "            return False\n",
    "    \n",
    "    return True\n",
    "        \n",
    "\n",
    "# test\n",
    "Formule1=[Clause1,Clause2]\n",
    "Formule2=[Clause1,Clause3]\n",
    "Formule3=[Clause2,Clause3]\n",
    "print([FormuleVraie(f,Affectation1,2) for f in [Formule1,Formule2,Formule3]]) # Doit renvoyer [False, True, False]\n",
    "\n",
    "# test\n",
    "Formule=[[0,9],[1,2],[5,1]]\n",
    "Affectation=[0,1,0,0,0]\n",
    "print(FormuleVraie(Formule,Affectation,5)) # Doit renvoyer True"
   ]
  },
  {
   "cell_type": "markdown",
   "metadata": {},
   "source": [
    "<a id=\"WalkSat\"></a>\n",
    "## 2-SAT : l'algorithme WalkSat\n",
    "\n",
    "Le problème 2-SAT est polynomial, donc \"simple\" à résoudre. Nous allons voir qu'un algorithme probabiliste extrêmement naïf en vient (presque) à bout.<br><br>\n",
    "<b>Algorithme WalkSat</b> <br>\n",
    "<b>entrées :</b> Formule $F$ à $M$ clauses sur $n$ variables.<br>\n",
    "<b>paramètre :</b> $T$ entier<br>\n",
    "<b>sortie :</b> \n",
    "* Si c'est possible, renvoyer une affectation qui rende $F$ vraie\n",
    "* Sinon, renvoyer `je n'ai pas trouvé`.\n",
    "\n",
    "1. Initialisation : \n",
    "    - On tire une affectation `Affectation`$=(x_1,\\dots,x_n)$ uniforme au hasard dans $\\{\\text{Vrai},\\text{Faux}\\}^n$\n",
    "    - On pose Compteur $= 0$.\n",
    "2. Tant que Compteur < $2Tn^2$  : \n",
    "  * 2a) Chercher la première clause non satisfaite\n",
    "  * 2b) Dans cette clause, choisir une variable $x_i$ uniformément au hasard et la changer de valeur : $x_i \\leftarrow \\text{non}(x_i)$.\n",
    "  * 2c) Si `Affectation` rend la formule vraie, renvoyer `Affectation`\n",
    "  * 2d) Compteur = Compteur $+ 1$.\n",
    "3. Renvoyer `je n'ai pas trouvé`\n",
    "\n",
    "<i>(La raison pour laquelle on écrit le nombre de boucles sous la forme $2Tn^2$ apparaîtra à la partie suivante.)</i>\n"
   ]
  },
  {
   "cell_type": "markdown",
   "metadata": {},
   "source": [
    "<div markdown=1 class=Rmk>\n",
    "\n",
    "**Attention** L'algorithme WalkSat n'est pas tout à fait correct. Lorsque WalkSat renvoie `je n'ai pas trouvé`, cela ne signifie pas forcément que la formule n'est pas satisfiable mais peut-être simplement que l'algorithme n'a pas cherché assez longtemps."
   ]
  },
  {
   "cell_type": "markdown",
   "metadata": {},
   "source": [
    "<div markdown=1 class=\"DoIt\"> \n",
    "\n",
    "Ecrire une fonction `UneEtapeWalkSat(n_var,Formule,Affectation)` qui effectue une fois les opérations 2a)-2b)-2c) dans la description de l'Algorithme WalkSat."
   ]
  },
  {
   "cell_type": "code",
   "execution_count": 34,
   "metadata": {},
   "outputs": [
    {
     "data": {
      "text/plain": [
       "array([0, 0, 0, 0, 1, 0, 0, 0, 1, 0])"
      ]
     },
     "execution_count": 34,
     "metadata": {},
     "output_type": "execute_result"
    }
   ],
   "source": [
    "np.random.randint(0,2, size = 10)"
   ]
  },
  {
   "cell_type": "code",
   "execution_count": 35,
   "metadata": {},
   "outputs": [],
   "source": [
    "def UneEtapeWalkSat(\n",
    "    n_var,\n",
    "    Formule,\n",
    "    Affectation\n",
    "):\n",
    "    if FormuleVraie(Formule, Affectation, n_var):\n",
    "        return Affectation\n",
    "    for clause in Formule:\n",
    "        if not ClauseVraie(clause, Affectation, n_var):\n",
    "            idx = np.random.randint(0, len(clause))\n",
    "            clause[idx] = not clause[idx]\n",
    "            break\n",
    "\n",
    "    if FormuleVraie(Formule, Affectation, n_var):\n",
    "        return Affectation"
   ]
  },
  {
   "cell_type": "code",
   "execution_count": 37,
   "metadata": {},
   "outputs": [
    {
     "data": {
      "text/plain": [
       "[1, 0]"
      ]
     },
     "execution_count": 37,
     "metadata": {},
     "output_type": "execute_result"
    }
   ],
   "source": [
    "UneEtapeWalkSat(2, Formule1, [1,0])"
   ]
  },
  {
   "cell_type": "code",
   "execution_count": 38,
   "metadata": {},
   "outputs": [
    {
     "data": {
      "text/plain": [
       "True"
      ]
     },
     "execution_count": 38,
     "metadata": {},
     "output_type": "execute_result"
    }
   ],
   "source": [
    "FormuleVraie(Formule1,\n",
    "             [1,0],\n",
    "             2)"
   ]
  },
  {
   "cell_type": "markdown",
   "metadata": {},
   "source": [
    "<a id=\"ChoixT\"></a>\n",
    "## WalkSat : choix du paramètre $T$\n",
    "\n",
    "Rappelons les propriétés suivantes de l'algorithme WalkSat appliqué à une formule $F$ à $n$ variables :\n",
    "   - Si $F$ est fausse, l'algorithme renvoie `impossible`\n",
    "   - Si $F$ est satisfiable\n",
    "      * Avec une proba que l'on va noter $p(n,T,F,\\mathbf{x})$ où $\\mathbf{x}=(x_1,\\dots,x_n)$ est l'affectation initiale, l'algorithme se trompe et renvoie `impossible`\n",
    "      * Avec une proba $1-p(n,T,F,\\mathbf{x})$ il renvoie une affectation correcte.\n",
    "   \n",
    "On note \n",
    "$$\n",
    "p_\\star(n,T) = \\max_{F\\text{ satisfiable},\\mathbf{x}} p(n,T,F,\\mathbf{x}) \n",
    "$$\n",
    "où $\\mathbf{x}=(x_1,\\dots,x_n)$ est l'affectation initiale.\n",
    "\n",
    "Tout l'enjeu est d'avoir une bonne majoration de $p_\\star(n,T)$ en fonction de $T$.\n",
    "\n",
    "Fixons une formule $F$ satisfiable, et fixons également une affectation $(y_1,\\dots,y_n)$ correcte pour $F$. Pour $t\\geq 0$ on note $(x_1^t,\\dots,x_n^t)$ l'affectation de WalkSat à l'instant $t$.<br>\n",
    "<!--<i>(Rappelons que $(x_1^0,\\dots,x_n^0)$ sont uniformes indépendants.)</i><br>-->\n",
    "Soit \n",
    "$$\n",
    "D_t = \\mathrm{card} \\{ i \\text{ tels que } x_i^t \\neq y_i\\}.\n",
    "$$\n",
    "Le processus $(D_t)_{t}$ est un processus aléatoire à valeurs dans $\\{0,1,\\dots,n\\}$, lorsqu'il touche $0$ alors on a trouvé une affectation pour $F$. On introduit le temps aléatoire :\n",
    "\n",
    "$$\n",
    "\\tau_E = \\min\\{t, (x_1^t,\\dots,x_n^t)\\text{ est une affectation correcte.}\\}\n",
    "$$"
   ]
  },
  {
   "cell_type": "markdown",
   "metadata": {},
   "source": [
    "<div markdown=1 class=\"DoIt\">\n",
    "\n",
    "**(Théorie)** \n",
    "\n",
    "Soit $(S_t)_{t}$ le processus défini de la façon suivante :\n",
    "\n",
    "   - $S_0=n$ \n",
    "   - Si $S_t=n$, alors $S_{t+1}=n-1$ \n",
    "   - Si $S_t=0$ alors $S_{t+1}=0$\n",
    "   - Sinon $S_t$ vaut $S_t -1$ ou $S_t + 1$ avec probabilité $1/2$, indépendamment du passé.\n",
    "   \n",
    "Ainsi $(S_t)$ est la marche aléatoire symétrique sur l'intervalle $[0,n]$, réfléchie en $n$ et absorbée en $0$. On note \n",
    "<br>\n",
    "<br>\n",
    "$$\n",
    "\\tau_S = \\min\\{t, S_t=0\\}.\n",
    "$$\n",
    "<br>\n",
    "\n",
    "Démontrer que dans un certain sens $\\tau_E$ a tendance à arriver plus tôt que $\\tau_S$. Formellement, pour tout $t$,\n",
    "<br><br>\n",
    "\n",
    "$$\n",
    "\\mathbb{P}(\\tau_E\\geq t) \\leq \\mathbb{P}(\\tau_S\\geq t).\n",
    "$$\n",
    "<i>(Il n'est pas facile de rédiger soigneusement cette question, essayez plutôt de vous convaincre que c'est vrai!)</i>"
   ]
  },
  {
   "cell_type": "markdown",
   "metadata": {},
   "source": [
    "<img src=\"figures/MarchesAleatoires.jpg\" style=\"width:600px;\"/>\n"
   ]
  },
  {
   "cell_type": "markdown",
   "metadata": {},
   "source": [
    "Entre l'instant $t$ et l'instant $t+1$, il est plus probable que $D_{t+1}$ diminue de 1 unité par rapport à $D_t$ que $S_{t+1}$ diminue de 1 unité par rapport à $S_t$. Cette observation découle du fait que:\n",
    "\n",
    "$$\n",
    "\\mathbb{P}(S_{t+1} < S_t) = \\frac{1}{2}\n",
    "$$\n",
    "\n",
    "Et pour $D_t$, chaque clause qui est fausse offre deux possibilités : soit les deux éléments de la clause ne correspondent pas à l'affectation, soit un seul élément ne correspond pas. Par conséquent, nous avons :\n",
    "\n",
    "$$\n",
    "\\mathbb{P}(D_{t+1} < D_t) \\geq \\frac{1}{2}\n",
    "$$\n",
    "\n",
    "Ainsi, il est plus probable que $D_t$ atteigne 0 avant que $S_t$ n'atteigne 0, ce qui signifie :\n",
    "\n",
    "$$\n",
    "\\mathbb{P}(\\tau_E\\geq t) \\leq \\mathbb{P}(\\tau_S\\geq t).\n",
    "$$\n"
   ]
  },
  {
   "cell_type": "markdown",
   "metadata": {},
   "source": [
    "<div markdown=1 class=\"DoIt\"> \n",
    "\n",
    "**(Théorie)**\n",
    "\n",
    "Dans la section suivante vous allez vérifier numériquement que pour tout $n\\geq 10$ alors\n",
    "$$\n",
    "\\mathbb{P}(\\tau_S\\leq 2n^2) \\geq  0.89.\n",
    "$$\n",
    "Grâce aux questions précédentes cela implique que\n",
    "$$\n",
    "\\mathbb{P}(\\tau_E\\leq 2n^2) \\geq  0.89.\\qquad (\\star)\n",
    "$$\n",
    "\n",
    "En utilisant $(\\star)$, déterminer $T$ pour que pour toute formule satisfiable $F$ alors\n",
    "$$\n",
    "\\mathbb{P}(\\mathrm{WalkSat}\\text{ trouve une affectation pour }F)\\geq 1-\\varepsilon.\n",
    "$$\n",
    "**Application numérique.**\n",
    "Trouver $T$ pour que\n",
    "$$\n",
    "\\mathbb{P}(\\mathrm{WalkSat}\\text{ trouve une affectation pour }F)\\geq 99,99\\%\n",
    "$$"
   ]
  },
  {
   "cell_type": "markdown",
   "metadata": {},
   "source": [
    "On si souvient que \n",
    "\n",
    "$$\n",
    "    \\tau_{E} = \\min \\{ t, (x_1^T, \\dots, x_n^T)\\} \\text{ est vraie}\n",
    "$$\n",
    "\n",
    "Donc \n",
    "\n",
    "$$\n",
    "\\begin{aligned}\n",
    "    \\mathbb{P}(\\text{WalkSat trouve une affectation pour } F) &= \\mathbb{P}(\\text{WalkSat trouve une affectation pour } F \\text{ dans $2n^2T$ itérations}) \\\\\n",
    "    & = \\mathbb{P} (\\tau_E < 2n^2 T) \\\\\n",
    "    & = 1 - \\mathbb{P}(\\tau_E > 2n^2 T) \\\\\n",
    "    & = 1 - \\mathbb{P}(\\tau_E > 2n^2 )^T\n",
    "\\end{aligned}\n",
    "$$"
   ]
  },
  {
   "cell_type": "markdown",
   "metadata": {},
   "source": [
    "Donc, il faut que \n",
    "\n",
    "$$\n",
    "    \\mathbb{P}(\\tau_E > 2n^2)^T \\leq \\varepsilon\n",
    "$$\n",
    "\n",
    "$$ \n",
    "    T = \\frac{\\log{\\varepsilon}} {\\log \\mathbb{P}(\\tau_E > 2n^2)}\n",
    "$$"
   ]
  },
  {
   "cell_type": "code",
   "execution_count": null,
   "metadata": {},
   "outputs": [],
   "source": []
  },
  {
   "cell_type": "code",
   "execution_count": 41,
   "metadata": {},
   "outputs": [
    {
     "data": {
      "text/plain": [
       "4.172720088892945"
      ]
     },
     "execution_count": 41,
     "metadata": {},
     "output_type": "execute_result"
    }
   ],
   "source": [
    "# Application numérique\n",
    "T = np.log(1e-4)/np.log(1 - 0.89)\n",
    "T"
   ]
  },
  {
   "cell_type": "markdown",
   "metadata": {},
   "source": [
    "<div markdown=1 class=\"DoIt\"> \n",
    "\n",
    "**(Théorie)** Mais au fait, pourquoi la stratégie WalkSat ne marche pas pour $3$-SAT?"
   ]
  },
  {
   "cell_type": "markdown",
   "metadata": {},
   "source": [
    "<div markdown=1 class=\"Answers\"> "
   ]
  },
  {
   "cell_type": "markdown",
   "metadata": {},
   "source": [
    "<a id=\"Annexe\"></a>\n",
    "# Calcul de $\\mathbb{P}(\\tau_S\\leq \\lambda  𝑛^2)$ (matrices de transition)\n",
    "\n",
    "Rappelons que $(S_t)$ est la marche aléatoire symétrique partant de $n$, réfléchie en $n$ et absorbée en $0$. On note $\\tau_S = \\min\\{t, S_t=0\\}$.\n",
    "\n",
    "Pour déterminer $T$ nous avons eu besoin d'estimer numériquement la probabilité $\\mathbb{P}(\\tau_S\\leq 2 𝑛^2)$. Nous allons pour cela utiliser une matrice de transition. Pour $t\\geq 0$ et $0\\leq i,j\\leq n$ on note\n",
    "<br><br>\n",
    "$$\n",
    "p_{i,j}^{(t)}=\\mathbb{P}\\left(\\text{ en partant de $i$, }S_t=j\\right).\n",
    "$$\n"
   ]
  },
  {
   "cell_type": "markdown",
   "metadata": {},
   "source": [
    "<div markdown=1 class=\"DoIt\"> \n",
    "\n",
    "1. Soit $0\\leq i\\leq n$, $1\\leq j\\leq n-1$ et $t\\geq 0$. Justifier que\n",
    "$$\n",
    "p^{(t)}_{i,j}=\\tfrac{1}{2}p^{(t-1)}_{i,j-1}+\\tfrac{1}{2}p^{(t-1)}_{i,j+1}.\n",
    "$$\n",
    "\n",
    "2. Réfléchir rapidement au cas $j=0$ ou $j=n$ dans l'équation suivante et en déduire qu'il existe une matrice $Q_n$ de taille $(n+1)\\times (n+1)$ telle que pour tous $t,i,j$,\n",
    "\n",
    "$$\n",
    "p^{(t)}_{i,j}= (Q_n^t)_{i,j}.\n",
    "$$\n",
    "Cette matrice $Q_n$ est appellée matrice de transition du processus $(S_t)$.\n",
    "\n",
    "3. Ecrire $\\mathbb{P}(\\tau_S\\leq t)$ en fonction de $Q_n$. En déduire un code python qui calcule $\\mathbb{P}(\\tau_S\\leq 2 n^2)$ de façon exacte et vérifier sur un graphique que cette probabilité semble converger lorsque $n\\to +\\infty$. "
   ]
  },
  {
   "cell_type": "markdown",
   "metadata": {},
   "source": [
    "1. \n",
    "\n",
    "\n",
    "Ça c'est a cause de que, étant donné que nous sommes à la position $ S_t = j$ au temps $t$, on a une probabilité de $1/2$ d'être à la position $S_{t-1} = j+1$ et $1/2$ d'être à la position $S_{t-1} = j -1$. \n",
    "\n",
    "2. \n",
    "\n",
    "Quand $j = 0$\n",
    "\n",
    "$$\n",
    "    p^{(t)}_{i,0}=\\frac{1}{2}p^{(t-1)}_{i,1}.\n",
    "$$\n",
    "\n",
    "Quand $ j = n $\n",
    "\n",
    "$$\n",
    "    p^{(t)}_{i,n}=\\frac{1}{2}p^{(t-1)}_{i,n-1}.\n",
    "$$\n",
    "\n",
    "    "
   ]
  },
  {
   "cell_type": "markdown",
   "metadata": {},
   "source": [
    "$$\n",
    "    (Q_n^t)_{i,j} = \\begin{cases} \n",
    "        \\frac{1}{2} (Q_n^{(t-1)})_{i,j-1} + \\frac{1}{2} (Q_n^{(t-1)})_{i,j+1} \\text{ si $0 < j < n$} \\\\\n",
    "        \\frac{1}{2} (Q_n^{(t-1)})_{i,j-1} \\text{ si $j = n$} \\\\\n",
    "        \\frac{1}{2} (Q_n^{(t-1)})_{i,j+1} \\text{ si $j = 0$} \n",
    "    \\end{cases}\n",
    "$$\n",
    "\n",
    "Et, pour la valeur initiale\n",
    "\n",
    "$$\n",
    "    (Q_n^0)_{i,j} = \\mathbf{I}_{n+1}\n",
    "$$"
   ]
  },
  {
   "cell_type": "markdown",
   "metadata": {},
   "source": [
    "De plus, \n",
    "\n",
    "$$\n",
    "    \\mathbb{P}(\\tau_S < t) = \\sum_{k = 1}^t (Q_n^{t-1})_{n, 0}\n",
    "$$"
   ]
  },
  {
   "cell_type": "code",
   "execution_count": 51,
   "metadata": {},
   "outputs": [],
   "source": [
    "# Queston 3\n",
    "n = 5\n",
    "T = int(2*n**2)\n",
    "Q_vec = [np.zeros([n+1,n+1]) for i in range(T)]\n"
   ]
  },
  {
   "cell_type": "code",
   "execution_count": 52,
   "metadata": {},
   "outputs": [],
   "source": [
    "Q_vec[0] = np.eye(n+1)\n",
    "for t in range(1,T):\n",
    "    for i in range(n+1):\n",
    "        for j in range(n+1):\n",
    "            if j >1 and j < n-1:\n",
    "                Q_vec[t][i][j] = Q_vec[t-1][i][j+1]*1/2 + Q_vec[t-1][i][j-1]*1/2 \n",
    "            elif j ==0 :\n",
    "                Q_vec[t][i][j] = Q_vec[t-1][i][j+1]*1/2\n",
    "            elif j == 1:\n",
    "                Q_vec[t][i][j] = Q_vec[t-1][i][0] + Q_vec[t-1][i][2]*1/2\n",
    "            elif j == n:\n",
    "                Q_vec[t][i][j] = Q_vec[t-1][i][j-1]*1/2\n",
    "            elif j == n-1:\n",
    "                Q_vec[t][i][j] = Q_vec[t-1][i][j-1]*1/2 + Q_vec[t-1][i][j+1]"
   ]
  },
  {
   "cell_type": "code",
   "execution_count": 67,
   "metadata": {},
   "outputs": [
    {
     "data": {
      "text/plain": [
       "array([[0.        , 0.40323585, 0.        , 0.39876401, 0.        ,\n",
       "        0.19800013],\n",
       "       [0.20161793, 0.        , 0.40099993, 0.        , 0.39738214,\n",
       "        0.        ],\n",
       "       [0.        , 0.40099993, 0.        , 0.39961806, 0.        ,\n",
       "        0.19938201],\n",
       "       [0.19938201, 0.        , 0.39961806, 0.        , 0.40099993,\n",
       "        0.        ],\n",
       "       [0.        , 0.39738214, 0.        , 0.40099993, 0.        ,\n",
       "        0.20161793],\n",
       "       [0.19800013, 0.        , 0.39876401, 0.        , 0.40323585,\n",
       "        0.        ]])"
      ]
     },
     "execution_count": 67,
     "metadata": {},
     "output_type": "execute_result"
    }
   ],
   "source": [
    "Q_vec[25]"
   ]
  },
  {
   "cell_type": "code",
   "execution_count": 56,
   "metadata": {},
   "outputs": [],
   "source": [
    "s = 0\n",
    "for k in range(T):\n",
    "    s+=Q_vec[k][n][0]"
   ]
  },
  {
   "cell_type": "code",
   "execution_count": 57,
   "metadata": {},
   "outputs": [
    {
     "data": {
      "text/plain": [
       "4.200023413292708"
      ]
     },
     "execution_count": 57,
     "metadata": {},
     "output_type": "execute_result"
    }
   ],
   "source": [
    "s"
   ]
  },
  {
   "cell_type": "markdown",
   "metadata": {},
   "source": [
    "<a id=\"Transition\"></a>\n",
    "# Application : Illustration de la transition de phase\n",
    "\n",
    "Le problème $2$-SAT aléatoire (lorsque les formules sont tirées aléatoirement et uniformément) présente un phénomène de <i>transition de phase</i>. Pour être plus formel nous introduisons quelques notations.<br><br>\n",
    "Il y a $\\binom{2n}{2}^M$ formules différentes avec $M$ clauses et $n$ variables (on considère que l'ordre des clauses compte, mais pas l'ordre des variables dans une clause). Notons\n",
    "$$\n",
    "p(n,M)\n",
    "$$\n",
    "la probabilité qu'une formule aléatoire uniforme parmi les $\\binom{2n}{2}^M$ formules différentes soit vraie. \n",
    "On a bien sûr $p(n,M)$ qui est décroissante en $M$ (plus il y a de clauses plus c'est difficile d'être vraie).\n",
    "\n",
    "Pour $c>0$ on a, lorsque $n\\to +\\infty$ :\n",
    "$$\n",
    "p(n,c\\times n)\\to\n",
    "\\begin{cases}\n",
    "1 &\\text{ si }c<1\\\\\n",
    "0 &\\text{ si }c>1\n",
    "\\end{cases}\n",
    "$$\n",
    "\n",
    "Référence : GENT, Ian P. et WALSH, Toby. The SAT phase transition. In : <i>ECAI</i>, 1994. p. 105-109."
   ]
  },
  {
   "cell_type": "markdown",
   "metadata": {},
   "source": [
    "<div markdown=1 class=\"DoIt\"> \n",
    "\n",
    "1. Ecrire une fonction `TirerClause(k,nb_variables)` qui prend en entrées deux entiers $k,n$ et renvoie une clause de $k$-SAT à $n$ variables, uniformément au hasard.\n",
    "2. Ecrire une fonction `TirerFormule(k,nb_variables,M)` qui renvoie une formule de $M$ clauses de $k$-SAT à $n$ variables, uniformément au hasard.\n",
    "\n",
    "<br>\n",
    "<i>(On considère qu'il y a $\\binom{2n}{2}^M$ formules différentes avec $M$ clauses et $n$ variables : l'ordre des clauses compte, mais pas l'ordre des variables dans une clause.)</i>"
   ]
  },
  {
   "cell_type": "code",
   "execution_count": null,
   "metadata": {},
   "outputs": [],
   "source": []
  },
  {
   "cell_type": "markdown",
   "metadata": {},
   "source": [
    "<div markdown=1 class=\"DoIt\"> \n",
    "\n",
    "1. Ecrire un solveur WalkSat qui avec le paramètre $T$ choisi à l'exercice précédent.\n",
    "2. En utilisant des simulations et le solveur WalkSat, illustrer la transition de phase en $c=1$."
   ]
  },
  {
   "cell_type": "code",
   "execution_count": null,
   "metadata": {},
   "outputs": [],
   "source": [
    "\n"
   ]
  },
  {
   "cell_type": "code",
   "execution_count": null,
   "metadata": {},
   "outputs": [],
   "source": [
    "\n"
   ]
  },
  {
   "cell_type": "code",
   "execution_count": null,
   "metadata": {},
   "outputs": [],
   "source": []
  },
  {
   "cell_type": "code",
   "execution_count": null,
   "metadata": {},
   "outputs": [],
   "source": []
  }
 ],
 "metadata": {
  "kernelspec": {
   "display_name": "Python 3",
   "language": "python",
   "name": "python3"
  },
  "language_info": {
   "codemirror_mode": {
    "name": "ipython",
    "version": 3
   },
   "file_extension": ".py",
   "mimetype": "text/x-python",
   "name": "python",
   "nbconvert_exporter": "python",
   "pygments_lexer": "ipython3",
   "version": "3.10.9"
  }
 },
 "nbformat": 4,
 "nbformat_minor": 4
}
