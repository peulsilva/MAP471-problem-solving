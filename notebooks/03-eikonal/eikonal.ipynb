{
 "cells": [
  {
   "cell_type": "markdown",
   "metadata": {},
   "source": [
    "<br/>\n",
    "  <FONT size =\"3pt\"> MODAL MAP471A : Problem solving en math app </FONT>   \n",
    "  \n",
    "---\n",
    "---\n",
    "<FONT size =\"5pt\"> TP déterministe 2 : <center><b>Autour de l'équation eikonale</b>  </center></FONT> \n",
    "\n",
    "---\n",
    "---\n",
    "<br /> "
   ]
  },
  {
   "cell_type": "markdown",
   "metadata": {},
   "source": [
    "Dans ce TP, on cherche à modéliser la propagation (de la lumière par exemple) dans un milieu à indice variable, c'est-à-dire que la vitesse dépend de l'endroit où l'on est.\n",
    "\n",
    "Le but est de pouvoir calculer le plus court chemin entre un point de départ $(s_x,s_y)$ et un point d'arrivée. Pour ce faire, on calcule pout tout point $(x,y)$ le temps $\\phi(x,y)$ mis pour aller de $(s_x,s_y)$ jusqu'à $(x,y)$. On peut montrer que $\\phi$ vérifie l'équation eikonale\n",
    "\n",
    "$$\\|\\nabla \\phi \\|=n(x,y), \\qquad\\phi(s_x,s_y) = 0.$$\n",
    "\n",
    "Afin de résoudre cette équation, on propose de la réécrire sous la forme  d'une équation instationnaire\n",
    "\n",
    "$$\\frac{\\partial \\phi}{\\partial t} + \\|\\nabla \\phi \\|=n(x,y), \\qquad \\phi(t,s_x,s_y) = 0\\qquad\\phi(0,x,y)=0.$$\n",
    "\n",
    "et de chercher des solutions stationnaires (indépendantes du temps) en faisant tendre $t$ vers l'infini."
   ]
  },
  {
   "cell_type": "code",
   "execution_count": 54,
   "metadata": {},
   "outputs": [],
   "source": [
    "import numpy as np\n",
    "import numpy.linalg as lin\n",
    "import matplotlib.pyplot as plt\n",
    "from tqdm import tqdm"
   ]
  },
  {
   "cell_type": "markdown",
   "metadata": {},
   "source": [
    "# Résolution de l'équation eikonale\n",
    "On va dans un premier temps résoudre l'équation eikonal sur $\\phi$ avec le schéma numérique de Lax-Friedrichs.\n",
    "On propose de mailler le domaine $\\Omega=[0,1]^2$ dans lequel l'onde se propage à l'aide d'un pas $h$ constant en $x$ et en $y$.\n",
    "On prendra dans un premier temps $h=1/64$, mais on modifiera $h$ pour le réduire par la suite.\n",
    "Le schéma de Lax-Friedrichs consiste à écrire (on utilisera $\\phi_{ij} \\approx \\phi(ih,jh)$)\n",
    "\n",
    "$$\\phi_{ij}^{p+1} = \\frac{\\phi_{i+1,j}^{p}+\\phi_{i-1,j}^{p}+\\phi_{i,j+1}^{p}+\\phi_{i,j-1}^{p}}{4}-\\Delta t H\\left(ih,jh,\\frac{\\phi_{i+1,j}^{p}-\\phi_{i-1,j}^{p}}{2h},\\frac{\\phi_{i,j+1}^{p}-\\phi_{i,j-1}^{p}}{2h}\\right),$$\n",
    "\n",
    "où\n",
    "\n",
    "$$H(x,y,\\phi_x,\\phi_y) = \\sqrt{\\phi_x^2+\\phi_y^2}-n(x,y).$$"
   ]
  },
  {
   "cell_type": "markdown",
   "metadata": {},
   "source": [
    "1. Implémenter le schéma de Lax-Friedrichs pour résoudre l'équation eikonal. On prendra par exemple (mais vous pouvez bien sûr tester d'autres paramètres) :\n",
    "    - $\\Delta t=h/2$\n",
    "    - $h = 1/64$\n",
    "    - le temps final doit être suffisamment grand pour atteindre un régime stationnaire. On pourra par exemple utiliser un critère d'arrêt.\n",
    "    - On prendra soin de maintenir la valeur $\\phi^p_{i_*,j_*}=0$ au point de départ $(s_x,s_y)$ pour tout $p$. On pourra choisir $(s_x,s_y)=(i_*h,j_*h)$ sur la grille.\n",
    "    - On prendra également au bord\n",
    "\n",
    "$$\\phi_{1,j}^p = \\phi_{2,j}^p, \\qquad \\phi_{N,j}^p = \\phi_{N-1,j}^p,\\qquad \\phi_{i,1}^p = \\phi_{i,2}^p,\\qquad\\phi_{i,N}^p=\\phi_{i,N-1}^p.$$\n",
    "\n",
    "*Indication :* Penser à bien décomposer les différentes parties de votre algorithme pour simplifier son implémentation. Un exemple modifiable vous est proposé."
   ]
  },
  {
   "cell_type": "code",
   "execution_count": 9,
   "metadata": {},
   "outputs": [],
   "source": [
    "def H(x, y, phi_x, phi_y, n):\n",
    "    return np.sqrt(phi_x**2 + phi_y**2) - n[x,y]"
   ]
  },
  {
   "cell_type": "code",
   "execution_count": 12,
   "metadata": {},
   "outputs": [],
   "source": [
    "h = 1/64\n",
    "dt = h/2\n",
    "phi_0 = np.zeros([int(1/h), int(1/h)])\n",
    "n = np.ones_like(phi_0)\n",
    "\n",
    "phi = phi_0\n",
    "\n",
    "new_phi = np.zeros_like(phi)\n",
    "for i in range(phi.shape[0]):\n",
    "    for j in range(phi.shape[1]):\n",
    "        if i >= 1 and j >=1 and i < phi.shape[0] - 1 and j < phi.shape[0] - 1:\n",
    "            \n",
    "            h_x_y = H(i, j, (phi[i+1, j] - phi[i-1,j])/(2*h), (phi[i, j+1] - phi[i, j - 1])/(2* h), n)\n",
    "            new_phi[i,j] = 1/4 * (phi[i, j +1] + phi[i, j-1] + phi[i-1, j] + phi[i+1,j])  - dt * h_x_y\n",
    "\n"
   ]
  },
  {
   "cell_type": "code",
   "execution_count": 13,
   "metadata": {},
   "outputs": [
    {
     "data": {
      "text/plain": [
       "array([[0.       , 0.       , 0.       , ..., 0.       , 0.       ,\n",
       "        0.       ],\n",
       "       [0.       , 0.0078125, 0.0078125, ..., 0.0078125, 0.0078125,\n",
       "        0.       ],\n",
       "       [0.       , 0.0078125, 0.0078125, ..., 0.0078125, 0.0078125,\n",
       "        0.       ],\n",
       "       ...,\n",
       "       [0.       , 0.0078125, 0.0078125, ..., 0.0078125, 0.0078125,\n",
       "        0.       ],\n",
       "       [0.       , 0.0078125, 0.0078125, ..., 0.0078125, 0.0078125,\n",
       "        0.       ],\n",
       "       [0.       , 0.       , 0.       , ..., 0.       , 0.       ,\n",
       "        0.       ]])"
      ]
     },
     "execution_count": 13,
     "metadata": {},
     "output_type": "execute_result"
    }
   ],
   "source": [
    "new_phi"
   ]
  },
  {
   "cell_type": "code",
   "execution_count": 69,
   "metadata": {},
   "outputs": [],
   "source": [
    "# 1.\n",
    "\n",
    "def LF_iteration(phi : np.ndarray, \n",
    "                 dt, \n",
    "                 h, \n",
    "                 indice\n",
    "                ):\n",
    "    \"\"\"\n",
    "    Renvoie la nouvelle valeur de phi (après une itération) par le schéma de Lax-Friedrichs\n",
    "    ----------   \n",
    "    \n",
    "    Paramètres :\n",
    "    -phi    : solution au pas n\n",
    "    -dt     : pas de temps\n",
    "    -h      : pas d'espace\n",
    "    -indice : matrice des indices sigma_ij\n",
    "    \n",
    "    Retourne :\n",
    "    -solution au pas n+1\n",
    "    \"\"\"\n",
    "    new_phi = np.zeros_like(phi)\n",
    "    for i in range(phi.shape[0]):\n",
    "        for j in range(phi.shape[1]):\n",
    "            if i >= 1 and j >=1 and i < phi.shape[0] - 1 and j < phi.shape[1] - 1:\n",
    "                \n",
    "                h_x_y = H(\n",
    "                    i, \n",
    "                    j, \n",
    "                    (phi[i+1, j] - phi[i-1,j])/(2*h), \n",
    "                    (phi[i, j+1] - phi[i, j - 1])/(2* h), \n",
    "                    indice\n",
    "                )\n",
    "                new_phi[i,j] = 1/4 * (phi[i, j +1] + phi[i, j-1] + phi[i-1, j] + phi[i+1,j]) - dt * h_x_y\n",
    "\n",
    "    return new_phi"
   ]
  },
  {
   "cell_type": "code",
   "execution_count": 82,
   "metadata": {},
   "outputs": [],
   "source": [
    "def condition_bord(phi : np.ndarray): \n",
    "    \"\"\"\n",
    "    Impose une condition de flux nul au bord\n",
    "    ----------   \n",
    "    \n",
    "    Paramètres :\n",
    "    -phi    : solution au pas n\n",
    "    \n",
    "    Retourne :\n",
    "    -solution avec un flux nul au bord (même valeur à l'intérieur)\n",
    "    \"\"\"\n",
    "    N = len(phi) - 1\n",
    "    for i in range(phi.shape[0]):\n",
    "        phi[i, 0] = phi[i, 1]\n",
    "        phi[i, N] = phi[i, N - 1]\n",
    "    for j in range(phi.shape[1]):\n",
    "        phi[0,j] = phi[1,j]\n",
    "        phi[N, j] = phi[N - 1, j]\n",
    "\n",
    "    return phi"
   ]
  },
  {
   "cell_type": "code",
   "execution_count": 83,
   "metadata": {},
   "outputs": [],
   "source": [
    "h = 1/64\n",
    "dt = h/2\n",
    "phi_0 = np.zeros([int(1/h), int(1/h)])\n",
    "n = np.ones_like(phi_0)"
   ]
  },
  {
   "cell_type": "code",
   "execution_count": 84,
   "metadata": {},
   "outputs": [],
   "source": [
    "phi = LF_iteration(\n",
    "    phi_0,\n",
    "    dt,\n",
    "    h,\n",
    "    indice= n \n",
    ")\n",
    "phi = condition_bord(phi)"
   ]
  },
  {
   "cell_type": "code",
   "execution_count": 85,
   "metadata": {},
   "outputs": [
    {
     "data": {
      "text/plain": [
       "array([[0.0078125, 0.0078125, 0.0078125, ..., 0.0078125, 0.0078125,\n",
       "        0.0078125],\n",
       "       [0.0078125, 0.0078125, 0.0078125, ..., 0.0078125, 0.0078125,\n",
       "        0.0078125],\n",
       "       [0.0078125, 0.0078125, 0.0078125, ..., 0.0078125, 0.0078125,\n",
       "        0.0078125],\n",
       "       ...,\n",
       "       [0.0078125, 0.0078125, 0.0078125, ..., 0.0078125, 0.0078125,\n",
       "        0.0078125],\n",
       "       [0.0078125, 0.0078125, 0.0078125, ..., 0.0078125, 0.0078125,\n",
       "        0.0078125],\n",
       "       [0.0078125, 0.0078125, 0.0078125, ..., 0.0078125, 0.0078125,\n",
       "        0.0078125]])"
      ]
     },
     "execution_count": 85,
     "metadata": {},
     "output_type": "execute_result"
    }
   ],
   "source": [
    "phi"
   ]
  },
  {
   "cell_type": "code",
   "execution_count": 99,
   "metadata": {},
   "outputs": [],
   "source": [
    "def LF_eikonal(indice: np.ndarray, \n",
    "               depart: np.ndarray, \n",
    "               h: float, \n",
    "               dt: float, \n",
    "               TOL : float = 1e-5, \n",
    "               N_max: int = 1_000):\n",
    "    \"\"\"\n",
    "    Renvoie la solution de l'équation eikonal par le schéma de Lax-Friedrichs\n",
    "    ----------   \n",
    "    \n",
    "    Paramètres :\n",
    "    -indice : matrice des indices sigma_ij\n",
    "    -depart : point de départ (indices i,j de la maille)\n",
    "    -TOL    : tolérance pour la condition d'arrêt pour atteindre le régime stationnaire\n",
    "    -N_max  : nombre maximal d'itérations\n",
    "    \n",
    "    Retourne :\n",
    "    - la solution numérique\n",
    "    \"\"\"\n",
    "    phi = np.zeros([int(1/h), int(1/h)])\n",
    "    for count in tqdm(range(N_max)):\n",
    "        new_phi = LF_iteration(\n",
    "            phi,\n",
    "            dt,\n",
    "            h,\n",
    "            indice\n",
    "        )\n",
    "\n",
    "        new_phi = condition_bord(new_phi)\n",
    "        new_phi[depart[0], depart[1]] = 0\n",
    "        \n",
    "        if np.linalg.norm(phi - new_phi) < TOL:\n",
    "            phi = new_phi\n",
    "            break\n",
    "        \n",
    "        phi = new_phi\n",
    "    \n",
    "    return phi"
   ]
  },
  {
   "cell_type": "markdown",
   "metadata": {},
   "source": [
    "2. Tracer les lignes de niveau de $\\phi$ au cours du temps dans le cas où $n(x,y) = 1$ et $(s_x,s_y)=(0.4,0.5)$.\n",
    "Vérifier que les lignes de niveau sont des cercles."
   ]
  },
  {
   "cell_type": "code",
   "execution_count": 101,
   "metadata": {},
   "outputs": [
    {
     "data": {
      "text/plain": [
       "25.6"
      ]
     },
     "execution_count": 101,
     "metadata": {},
     "output_type": "execute_result"
    }
   ],
   "source": [
    "0.4/h"
   ]
  },
  {
   "cell_type": "code",
   "execution_count": 103,
   "metadata": {},
   "outputs": [
    {
     "name": "stderr",
     "output_type": "stream",
     "text": [
      " 15%|█▌        | 150/1000 [00:02<00:15, 55.72it/s]\n"
     ]
    }
   ],
   "source": [
    "h = 1/64\n",
    "dt = h/2\n",
    "n = np.ones([int(1/h), int(1/h)])\n",
    "depart = [int(0.4/h),int(0.5/h)]\n",
    "\n",
    "phi = LF_eikonal(\n",
    "    n,\n",
    "    depart,\n",
    "    h,\n",
    "    dt,\n",
    "    TOL=1e-5\n",
    ")"
   ]
  },
  {
   "cell_type": "code",
   "execution_count": 107,
   "metadata": {},
   "outputs": [
    {
     "data": {
      "text/plain": [
       "<matplotlib.contour.QuadContourSet at 0x1ef7dea09a0>"
      ]
     },
     "execution_count": 107,
     "metadata": {},
     "output_type": "execute_result"
    },
    {
     "data": {
      "image/png": "[encoded data removed]",
      "text/plain": [
       "<Figure size 432x288 with 1 Axes>"
      ]
     },
     "metadata": {
      "needs_background": "light"
     },
     "output_type": "display_data"
    }
   ],
   "source": [
    "plt.contour(phi)"
   ]
  },
  {
   "cell_type": "markdown",
   "metadata": {},
   "source": [
    "3. Considérer également le cas d'un dioptre où l'indice est différent dans deux parties du domaine :\n",
    "\n",
    "$$n(x,y) = \\left\\{\n",
    "\\begin{array}{ll}\n",
    "1  &\\text{ si } y \\leq 0.5\\\\\n",
    "10 &\\text{ si } y >    0.5\n",
    "\\end{array}\\right.$$\n",
    "\n",
    "et avec $(s_x,s_y)=(0.5,0.1)$. \n",
    "\n",
    "Cette expérience correspond à chercher les plus courts chemins pour rallier le point d'une plage (où l'indice est petit et donc la vitesse est grande) à n'importe quel autre point du domaine, y compris au milieu de la mer (l'indice est plus grand, donc la vitesse de déplacement est inférieure).\n"
   ]
  },
  {
   "cell_type": "code",
   "execution_count": 108,
   "metadata": {},
   "outputs": [],
   "source": [
    "h = 1/64\n",
    "dt = h/2\n",
    "depart = [int(0.5/h),int(0.1/h)]\n",
    "\n",
    "n = np.ones([int(1/h), int(1/h)])\n",
    "for i in range(n.shape[0]):\n",
    "    for j in range(n.shape[1]):\n",
    "        if j > 0.5/h:\n",
    "            n[i,j] = 10"
   ]
  },
  {
   "cell_type": "code",
   "execution_count": 109,
   "metadata": {},
   "outputs": [
    {
     "name": "stderr",
     "output_type": "stream",
     "text": [
      " 20%|█▉        | 196/1000 [00:03<00:12, 62.32it/s]\n"
     ]
    }
   ],
   "source": [
    "\n",
    "\n",
    "phi = LF_eikonal(\n",
    "    n,\n",
    "    depart,\n",
    "    h,\n",
    "    dt,\n",
    "    TOL=1e-5\n",
    ")"
   ]
  },
  {
   "cell_type": "code",
   "execution_count": 111,
   "metadata": {},
   "outputs": [
    {
     "data": {
      "text/plain": [
       "<matplotlib.contour.QuadContourSet at 0x1ef7ef40550>"
      ]
     },
     "execution_count": 111,
     "metadata": {},
     "output_type": "execute_result"
    },
    {
     "data": {
      "image/png": "[encoded data removed]",
      "text/plain": [
       "<Figure size 432x288 with 1 Axes>"
      ]
     },
     "metadata": {
      "needs_background": "light"
     },
     "output_type": "display_data"
    }
   ],
   "source": [
    "plt.contour(phi)"
   ]
  },
  {
   "cell_type": "markdown",
   "metadata": {},
   "source": [
    "4. Prendre maintenant pour l'indice la fonction\n",
    "\n",
    "$$n(x,y) = 1+\\sigma\\exp(-50(x-l_x)^2 - 100(y-l_y)^2),$$\n",
    "\n",
    "avec $\\sigma = 1.5$, $l_x = 0.6$ et $l_y=0.5$. Tracer les lignes de niveau de $n$, et celles de $\\phi$. Vérifier que les lignes de niveau de $\\phi$ sont plus resserrées là où $n$ est plus grand."
   ]
  },
  {
   "cell_type": "code",
   "execution_count": 121,
   "metadata": {},
   "outputs": [],
   "source": [
    "# 4. \n",
    "# paramètres de simulation\n",
    "sigma = 1.5\n",
    "h = 1/64\n",
    "lx = 0.6\n",
    "ly = 0.5\n",
    "dt = h/2\n",
    "depart = [int(0.5/h),int(0.1/h)]\n",
    "\n",
    "n = np.ones([int(1/h), int(1/h)])\n",
    "for x in range(n.shape[0]):\n",
    "    for y in range(n.shape[1]):\n",
    "        n[x,y] = 1 + sigma * np.exp(-50*(x*h - lx)**2 - 100 * (y*h - ly)**2)\n",
    "\n",
    "\n"
   ]
  },
  {
   "cell_type": "code",
   "execution_count": 122,
   "metadata": {},
   "outputs": [
    {
     "name": "stderr",
     "output_type": "stream",
     "text": [
      "  0%|          | 0/1000 [00:00<?, ?it/s]"
     ]
    },
    {
     "name": "stderr",
     "output_type": "stream",
     "text": [
      " 19%|█▉        | 192/1000 [00:02<00:12, 64.88it/s]\n"
     ]
    }
   ],
   "source": [
    "phi = LF_eikonal(\n",
    "    n,\n",
    "    depart,\n",
    "    h,\n",
    "    dt,\n",
    "    TOL=1e-5\n",
    ")"
   ]
  },
  {
   "cell_type": "code",
   "execution_count": 123,
   "metadata": {},
   "outputs": [
    {
     "data": {
      "text/plain": [
       "<matplotlib.contour.QuadContourSet at 0x1ef7f0e04f0>"
      ]
     },
     "execution_count": 123,
     "metadata": {},
     "output_type": "execute_result"
    },
    {
     "data": {
      "image/png": "[encoded data removed]",
      "text/plain": [
       "<Figure size 432x288 with 1 Axes>"
      ]
     },
     "metadata": {
      "needs_background": "light"
     },
     "output_type": "display_data"
    }
   ],
   "source": [
    "# plots\n",
    "plt.contour(phi)"
   ]
  },
  {
   "cell_type": "markdown",
   "metadata": {},
   "source": [
    "# Calcul de chemins\n",
    "\n",
    "À partir de la solution $\\phi$ de l'équation eikonal, on va maintenant chercher le trajet le plus court reliant deux points.\n",
    "\n",
    "## Rayons lumineux\n",
    "\n",
    "On appelle $\\phi$ la solution obtenue par la méthode précédente au bout d'un temps infini (solution convergée). Comme nous l'avons dit $\\phi(X)$ est le temps mis par un rayon pour atteindre $X$ en partant de la source $(s_x,s_y)$. \n",
    "\n",
    "Les rayons lumineux se dirigent le long du gradient de $\\phi$. Etant donné un point $X_0=(x_0,y_0)$, on considère l'équation différentielle\n",
    "\n",
    "$$\\frac{dX}{dt} = -\\frac{\\nabla \\phi(X(t))}{n^2(X(t))}, \\qquad X(0)=X_0. \\qquad (1) $$"
   ]
  },
  {
   "cell_type": "markdown",
   "metadata": {},
   "source": [
    "1. Vérifier analytiquement que \n",
    " \n",
    "$$\\frac{d}{dt}\\phi(X(t)) = -1$$\n",
    "\n",
    "ce qui signifie que le long des trajectoires de l'équation différentielle, on remonte le temps à vitesse constante. Ainsi, la courbe partant de $X_0$ se termine au bout du temps $T=\\phi(X_0)$ en $(s_x,s_y)$."
   ]
  },
  {
   "cell_type": "markdown",
   "metadata": {},
   "source": [
    "2. Implémenter une fonction qui calcul $\\phi(x,y)$ en tout point $(x,y) \\in \\Omega$ à partir des valeurs de $\\phi_{i,j} \\approx \\phi(ih,jh)$. \n",
    "    - Pour cela, on pourra calculer les indices $(i,j)$ des quatres voisins les plus proches $x \\in [ih,(i+1)h[$ et $y\\in[jh,(j+1)h[$. \n",
    "    - Et on calculera une interpolation de $\\phi$ basée sur ces quatres valeurs voisines de $\\phi_{i,j},\\phi_{i+1,j},\\phi_{i,j+1},\\phi_{i+1,j+1}.$ \n",
    "    - Faites de même pour calculer le gradient $\\nabla\\phi$ en tout point de $\\Omega$."
   ]
  },
  {
   "cell_type": "markdown",
   "metadata": {},
   "source": [
    "3. Implémenter un schéma d'Euler explicite, puis pour plus de précision un schéma de Heun (voir par exemple https://en.wikipedia.org/wiki/Heun%27s_method)."
   ]
  },
  {
   "cell_type": "code",
   "execution_count": null,
   "metadata": {},
   "outputs": [],
   "source": [
    "# 2.\n",
    "def cherche_indice(mesh_x, mesh_y, position):\n",
    "    \"\"\"\n",
    "    Cherche les point du maillage les plus proches du point position\n",
    "    ----------   \n",
    "    \n",
    "    Paramètres :\n",
    "    -mesh_x, mesh_y : vecteurs des points du maillage en x et en y\n",
    "    -position       : point (vecteur 2x2) dont on cherche les points du maillage le plus proche\n",
    "    \n",
    "    Retourne :\n",
    "    - indices i,j du point x[i], y[j] le plus proche\n",
    "    \"\"\"\n",
    "    \n",
    "    return \n",
    "\n",
    "def interpole_phi(mesh_x, mesh_y, position, phi):    \n",
    "    \"\"\"\n",
    "    Interpole la valeur de phi au point \"position\"\n",
    "    ----------   \n",
    "    \n",
    "    Paramètres :\n",
    "    -mesh_x, mesh_y : vecteurs des points du maillage en x et en y\n",
    "    -position       : point (vecteur 2x2) où l'on cherche à évaluer la fonction phi\n",
    "    -phi            : matrices des phi_{i,j} ~ phi(x_i,y_j) aux points du maillage \n",
    "    \n",
    "    Retourne :\n",
    "    - valeur approchée de phi au point \"position\"\n",
    "    \"\"\" \n",
    "\n",
    "    return \n",
    "\n",
    "def interpole_grad_phi(mesh_x, mesh_y, position, phi):\n",
    "    \"\"\"\n",
    "    Interpole le gradient de phi au point \"position\"\n",
    "    ----------   \n",
    "    \n",
    "    Paramètres :\n",
    "    -mesh_x, mesh_y : vecteurs des points du maillage en x et en y\n",
    "    -position       : point (vecteur 2x2) où l'on cherche à évaluer la fonction phi\n",
    "    -phi            : matrices des phi_{i,j} ~ phi(x_i,y_j) aux points du maillage \n",
    "    \n",
    "    Retourne :\n",
    "    - valeur approchée du gradient de phi au point \"position\"\n",
    "    \"\"\" \n",
    "\n",
    "    return "
   ]
  },
  {
   "cell_type": "code",
   "execution_count": null,
   "metadata": {},
   "outputs": [],
   "source": [
    "# proposer un test unitaire\n"
   ]
  },
  {
   "cell_type": "code",
   "execution_count": null,
   "metadata": {},
   "outputs": [],
   "source": [
    "# paramètres de simation\n"
   ]
  },
  {
   "cell_type": "code",
   "execution_count": null,
   "metadata": {},
   "outputs": [],
   "source": [
    "# plots\n"
   ]
  },
  {
   "cell_type": "code",
   "execution_count": null,
   "metadata": {},
   "outputs": [],
   "source": [
    "# 3. \n",
    "def solve_Euler(mesh_x, mesh_y, depart, phi, indice, N_max):\n",
    "    \"\"\"\n",
    "    Résoud numériquement l'EDO avec un schéma d'Euler explicite\n",
    "    ----------   \n",
    "    \n",
    "    Paramètres :\n",
    "    -mesh_x, mesh_y : vecteurs des points du maillage en x et en y\n",
    "    -depart         : point de départ (ou d'arrivée) \n",
    "    -phi            : matrice des phi_{i,j} ~ phi(x_i,y_j) aux points du maillage  \n",
    "    -indice         : matrice des indices aux points du maillage\n",
    "    -N_max          : nombre d'itérations en temps\n",
    "    \n",
    "    Retourne :\n",
    "    - vecteur des positions X(t^n) à chaque pas de temps\n",
    "    \"\"\" \n",
    "\n",
    "    return "
   ]
  },
  {
   "cell_type": "code",
   "execution_count": null,
   "metadata": {},
   "outputs": [],
   "source": [
    "# proposer un test unitaire\n"
   ]
  },
  {
   "cell_type": "code",
   "execution_count": null,
   "metadata": {},
   "outputs": [],
   "source": [
    "# paramètres de simulation\n"
   ]
  },
  {
   "cell_type": "code",
   "execution_count": null,
   "metadata": {},
   "outputs": [],
   "source": [
    "# plots \n"
   ]
  },
  {
   "cell_type": "code",
   "execution_count": null,
   "metadata": {},
   "outputs": [],
   "source": [
    "def solve_Heun(mesh_x, mesh_y, depart, phi, indice, N_max):\n",
    "    \"\"\"\n",
    "    Résoud numériquement l'EDO avec un schéma de Heun\n",
    "    ----------   \n",
    "    \n",
    "    Paramètres :\n",
    "    -mesh_x, mesh_y : vecteurs des points du maillage en x et en y\n",
    "    -depart         : point de départ (ou d'arrivée) \n",
    "    -phi            : matrice des phi_{i,j} ~ phi(x_i,y_j) aux points du maillage  \n",
    "    -indice         : matrice des indices aux points du maillage\n",
    "    -N_max          : nombre d'itérations en temps\n",
    "    \n",
    "    Retourne :\n",
    "    - vecteur des positions X(t^n) à chaque pas de temps\n",
    "    \"\"\" \n",
    "                   \n",
    "    return "
   ]
  },
  {
   "cell_type": "code",
   "execution_count": null,
   "metadata": {},
   "outputs": [],
   "source": [
    "# proposer un test unitaire\n"
   ]
  },
  {
   "cell_type": "code",
   "execution_count": null,
   "metadata": {},
   "outputs": [],
   "source": [
    "# paramètres de simulation\n"
   ]
  },
  {
   "cell_type": "code",
   "execution_count": null,
   "metadata": {},
   "outputs": [],
   "source": [
    "# plots \n"
   ]
  },
  {
   "cell_type": "markdown",
   "metadata": {},
   "source": [
    "# Pour aller plus loin\n",
    "\n",
    "Quelques idées pour approfondir et s'entraîner :"
   ]
  },
  {
   "cell_type": "markdown",
   "metadata": {},
   "source": [
    "## Choix du point de départ\n",
    "\n",
    "Demander à l'utilisateur de cliquer sur le dessin à l'endroit souhaité pour $X_0$ et l'on récupèrera les coordonnées grâce à la commande *ginput*."
   ]
  },
  {
   "cell_type": "code",
   "execution_count": null,
   "metadata": {},
   "outputs": [],
   "source": []
  },
  {
   "cell_type": "code",
   "execution_count": null,
   "metadata": {},
   "outputs": [],
   "source": []
  },
  {
   "cell_type": "markdown",
   "metadata": {},
   "source": [
    "## Obstacles\n",
    "\n",
    "Des obstacles sont des endroits où l'indice est infini. Mettre un obstacle au milieu du domaine et constater les changements. En particulier, vérifier que les trajectoires évitent les obstacles.\n",
    "\n",
    "Le programme précédent permet facilement de calculer les temps d'évacuation d'une pièce possédant des obstacles d'une personne située en $(s_x,s_y)$. Les rayons précédemment calculés représenteront la trajectoire qu'elle doit suivre pour évacuer la pièce au plus vite."
   ]
  },
  {
   "cell_type": "code",
   "execution_count": null,
   "metadata": {},
   "outputs": [],
   "source": [
    "def indice_funct2(x,y,lx,ly):\n",
    "    # calcul l'indice au point x,y avec les données lx, ly\n",
    "    return "
   ]
  },
  {
   "cell_type": "code",
   "execution_count": null,
   "metadata": {},
   "outputs": [],
   "source": [
    "# paramètres de simulation\n"
   ]
  },
  {
   "cell_type": "code",
   "execution_count": null,
   "metadata": {},
   "outputs": [],
   "source": [
    "# plots\n"
   ]
  },
  {
   "cell_type": "markdown",
   "metadata": {},
   "source": [
    "## L'île\n",
    "\n",
    "La fonction suivante vous donne la carte d'indice d'une île. L'île contient des montagnes dans lesquelles on se déplace plus difficilement (l'indice est plus élevé). Elle est entourée d'eau, il y a une rivière qui la traverse et un pont par dessus la rivière. \n",
    "- Tracer les lignes de niveau de l'indice, ce qui permet d'avoir une carte de l'île.\n",
    "- Utiliser le programme précédent pour calculer les trajectoires optimales reliant deux points. On demandera à l'utilisateur de cliquer successivement sur le point de départ, ce qui permettra de calculer les lignes de niveau de $\\phi$, puis sur le point d'arrivée, ce qui permettra de résoudre l'équation différentielle (1).\n",
    "- Calculer en particulier les trajectoires optimales pour se rendre d'une plage à l'autre de l'île."
   ]
  },
  {
   "cell_type": "code",
   "execution_count": null,
   "metadata": {},
   "outputs": [],
   "source": [
    "def indice_ile(x):\n",
    "    # Renvoie l'indice de l'île\n",
    "    indice_plage    = 2.\n",
    "    indice_foret    = 1.\n",
    "    indice_montagne = 10.\n",
    "    indice_riviere  = 1.e7\n",
    "    indice_mer      = 1.e10\n",
    "    \n",
    "    if( (x[0]**2+x[1]**2) > 100.):\n",
    "        val = indice_mer\n",
    "    else:\n",
    "        if( (x[0]**2+x[1]**2) > 81.):\n",
    "            val = indice_plage\n",
    "        elif( ((x[0]+2.)**2+(x[1]-1.)**2) > 25):\n",
    "            val = indice_montagne\n",
    "        else:\n",
    "            val = indice_foret\n",
    "\n",
    "        if(2.*x[0]-x[1] > 1. and 2.*x[0]-x[1] < 2.):\n",
    "            if(x[0]+2.*x[1] > 1. and x[0]+2.*x[1] < 2.):\n",
    "                val = indice_foret\n",
    "            else:\n",
    "                val = indice_riviere\n",
    "\n",
    "    return val"
   ]
  },
  {
   "cell_type": "code",
   "execution_count": null,
   "metadata": {},
   "outputs": [],
   "source": []
  }
 ],
 "metadata": {
  "kernelspec": {
   "display_name": "Python 3 (ipykernel)",
   "language": "python",
   "name": "python3"
  },
  "language_info": {
   "codemirror_mode": {
    "name": "ipython",
    "version": 3
   },
   "file_extension": ".py",
   "mimetype": "text/x-python",
   "name": "python",
   "nbconvert_exporter": "python",
   "pygments_lexer": "ipython3",
   "version": "3.9.12"
  },
  "latex_envs": {
   "LaTeX_envs_menu_present": true,
   "autoclose": false,
   "autocomplete": true,
   "bibliofile": "biblio.bib",
   "cite_by": "apalike",
   "current_citInitial": 1,
   "eqLabelWithNumbers": true,
   "eqNumInitial": 1,
   "hotkeys": {
    "equation": "Ctrl-E",
    "itemize": "Ctrl-I"
   },
   "labels_anchors": false,
   "latex_user_defs": false,
   "report_style_numbering": false,
   "user_envs_cfg": false
  },
  "toc": {
   "base_numbering": 1,
   "nav_menu": {},
   "number_sections": true,
   "sideBar": true,
   "skip_h1_title": false,
   "title_cell": "Table of Contents",
   "title_sidebar": "Contents",
   "toc_cell": false,
   "toc_position": {},
   "toc_section_display": true,
   "toc_window_display": true
  }
 },
 "nbformat": 4,
 "nbformat_minor": 4
}
