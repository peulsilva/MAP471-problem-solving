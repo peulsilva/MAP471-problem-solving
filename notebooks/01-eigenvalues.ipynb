{
 "cells": [
  {
   "cell_type": "markdown",
   "metadata": {},
   "source": [
    "<br/>\n",
    "  <FONT size =\"3pt\"> MODAL MAP472A : Problem solving en math app </FONT>   \n",
    "  \n",
    "---\n",
    "---\n",
    "<FONT size =\"5pt\"> TP déterministe 1 : <center><b>Problème aux valeurs propres</b>  </center></FONT> \n",
    "\n",
    "---\n",
    "---\n",
    "<br /> "
   ]
  },
  {
   "cell_type": "code",
   "execution_count": 21,
   "metadata": {},
   "outputs": [],
   "source": [
    "# importation de fonctions et de librairies\n",
    "import numpy as np\n",
    "import numpy.linalg as lin\n",
    "import matplotlib.pyplot as plt\n",
    "from scipy.linalg import lu_factor, lu_solve, qr\n",
    "from tqdm import tqdm"
   ]
  },
  {
   "cell_type": "markdown",
   "metadata": {},
   "source": [
    "Dans ce TP, on va étudier plusieurs méthodes numérique pour la recherche de valeurs propres et de vecteurs propres, c'est à dire pour une matrice $A\\in\\mathbb{R}^{N\\times N}$, on cherche un ou tous les $\\lambda\\in\\mathbb{R}$ et $V\\in\\mathbb{R}^N$ tels que\n",
    "\n",
    "$$AV = \\lambda V.$$\n",
    "\n",
    "On pourra dans un premier temps tester ces méthodes sur les matrices de la forme (pour différentes valeurs de $N$) :"
   ]
  },
  {
   "cell_type": "code",
   "execution_count": 2,
   "metadata": {},
   "outputs": [
    {
     "name": "stdout",
     "output_type": "stream",
     "text": [
      "Laplacien(3) :\n",
      " [[ 2. -1.  0.]\n",
      " [-1.  2. -1.]\n",
      " [ 0. -1.  2.]]\n"
     ]
    }
   ],
   "source": [
    "def Laplacien(N):\n",
    "    #construit la matrice du Laplacien 1D\n",
    "    return 2*np.eye(N) - np.diag(np.ones(N-1),1) - np.diag(np.ones(N-1),-1)\n",
    "\n",
    "print(\"Laplacien(3) :\\n\", Laplacien(3))"
   ]
  },
  {
   "cell_type": "markdown",
   "metadata": {},
   "source": [
    "On appliquera dans un second temps ces méthodes pour étudier les ondes émises par un tambour et on étudiera alors les valeurs propres du Laplacien 2D discrétisé. \n",
    "\n",
    "\n",
    "On notera $\\|V\\| = \\sqrt{V^T V}$ dans tout ce TP.  "
   ]
  },
  {
   "cell_type": "markdown",
   "metadata": {},
   "source": [
    "# Méthode de la puissance\n",
    "La méthode de la puissance consiste à multiplier itérativement un vecteur par la matrice $A$ afin de récupérer sa plus grande valeur propre. L'algorithme prend la forme\n",
    "- **Initialisation** : Choix d'un vecteur $V^0\\in\\mathbb{R}^N$ de norme $\\|V^0\\| = 1$.\n",
    "- **Itération** : Calculer $$W^{i+1} = A V^0, \\qquad V^{i+1} = \\frac{W^{i+1}}{ \\|W^{i+1}\\|}$$ jusqu'à convergence. "
   ]
  },
  {
   "cell_type": "markdown",
   "metadata": {},
   "source": [
    "1. Implémenter cet algorithme et le tester avec la matrice du Laplacien $L\\in\\mathbb{R}^{N\\times N}$ pour $N = 50$ avec un critère de tolérance de $10^{-3}$. Puis avec un critère de tolérance de $10^{-12}$."
   ]
  },
  {
   "cell_type": "code",
   "execution_count": 14,
   "metadata": {},
   "outputs": [],
   "source": [
    "def puissance(\n",
    "    A : np.ndarray, \n",
    "    V : np.ndarray, \n",
    "    N_max : int = 10_000, \n",
    "    TOL : float = 1e-10\n",
    "):\n",
    "    \"\"\"\n",
    "    Renvoie une valeur propre approchée de A par la méthode de la puissance\n",
    "    ----------   \n",
    "    Paramètres :\n",
    "    A     : matrice\n",
    "    V     : vecteur initial \n",
    "    N_max : nombre maximum d'itérations\n",
    "    TOL   : tolérance pour le critère d'arrêt\n",
    "    \n",
    "    Retourne :\n",
    "    -Valeur propre approchée à la fin des itérations\n",
    "    -Vecteur propre associé\n",
    "    -Vecteur contenant l'erreur à chaque itération pour étudier la convergence\n",
    "    \"\"\"\n",
    "    W_i = A @ V\n",
    "    V_i = V\n",
    "    err = []\n",
    "    eigenvalue = np.inf\n",
    "    for n_inter in range(N_max):\n",
    "        eigenvalue = np.mean((A@ V_i )/ V_i)\n",
    "        err_i = np.linalg.norm((A@ V_i ) - eigenvalue * V_i)\n",
    "        err.append(err_i)\n",
    "\n",
    "        V_i1 = W_i / np.linalg.norm(W_i)\n",
    "\n",
    "        if err_i < TOL:\n",
    "            return eigenvalue, V_i, err\n",
    "\n",
    "        V_i = V_i1\n",
    "        W_i = A @ V_i\n",
    "    return "
   ]
  },
  {
   "cell_type": "code",
   "execution_count": 84,
   "metadata": {},
   "outputs": [],
   "source": [
    "A = Laplacien(50)\n",
    "V = np.random.rand(A.shape[0])\n",
    "V = V / np.linalg.norm(V)\n",
    "\n",
    "eigenvalue, V_i, err = puissance(\n",
    "    A, \n",
    "    V, \n",
    ")"
   ]
  },
  {
   "cell_type": "code",
   "execution_count": 85,
   "metadata": {},
   "outputs": [
    {
     "name": "stdout",
     "output_type": "stream",
     "text": [
      "\n",
      "        Test case: Identity of size 10\n",
      "        Test success\n",
      "        real eigenvalue: 1\n",
      "        calculated eigenvalue: 1.0\n",
      "        \n",
      "\n",
      "        Test case: Matrix of ones size 50\n",
      "        Test success\n",
      "        real eigenvalue: 50.0\n",
      "        calculated eigenvalue: 49.99999999999999\n",
      "        \n",
      "\n",
      "        Test case: Random matrix of size 50\n",
      "        Test success\n",
      "        real eigenvalue: 25.146703592869365\n",
      "        calculated eigenvalue: 25.146703592869248\n",
      "        \n"
     ]
    }
   ],
   "source": [
    "# On commence par tester l'algorithme sur un cas trivial que l'on peut vérifier !\n",
    "# 1.b Proposer un/des cas test (matrice, vecteur initiale...) pour tester votre algorithme\n",
    "\n",
    "random_matrix = np.random.rand(50,50)\n",
    "eig, _ = np.linalg.eig(random_matrix)\n",
    "abs_eig = np.abs(eig)\n",
    "max_abs_eig = np.max(abs_eig) \n",
    "\n",
    "test_cases = {\n",
    "    \"Identity of size 10\": {\n",
    "        \"A\" : np.eye(10),\n",
    "        \"lambda\" : 1\n",
    "    },\n",
    "\n",
    "    # \"Zero matrix of size 10\" : {\n",
    "    #     \"A\": np.zeros((10,10)),\n",
    "    #     \"lambda\" : 0\n",
    "    # },\n",
    "\n",
    "    \"Matrix of ones size 50\": {\n",
    "        \"A\": np.ones((50,50)),\n",
    "        \"lambda\": np.max(np.abs(np.linalg.eig(np.ones((50,50)))[0]))\n",
    "    },\n",
    "\n",
    "    \"Random matrix of size 50\": {\n",
    "        \"A\" : random_matrix,\n",
    "        \"lambda\" : max_abs_eig\n",
    "    }\n",
    "}\n",
    "\n",
    "for name, test_case in test_cases.items():\n",
    "    A = test_case[\"A\"]\n",
    "    V = np.random.rand(A.shape[0])\n",
    "    V = V / np.linalg.norm(V)\n",
    "\n",
    "    eigenvalue, V_i, err = puissance(\n",
    "        A, \n",
    "        V,    \n",
    "    )\n",
    "    \n",
    "    if (abs(eigenvalue - test_case[\"lambda\"]) > 1e-3):\n",
    "        print(\n",
    "        f\"\"\"\n",
    "        Test case: {name}\n",
    "        Test failed\n",
    "        real eigenvalue: {test_case[\"lambda\"]}\n",
    "        calculated eigenvalue: {eigenvalue}\n",
    "        \"\"\"\n",
    "        )\n",
    "\n",
    "    else:\n",
    "        print(\n",
    "        f\"\"\"\n",
    "        Test case: {name}\n",
    "        Test success\n",
    "        real eigenvalue: {test_case[\"lambda\"]}\n",
    "        calculated eigenvalue: {eigenvalue}\n",
    "        \"\"\"\n",
    "        )\n",
    "\n"
   ]
  },
  {
   "cell_type": "markdown",
   "metadata": {},
   "source": [
    "2. En supposant que l'algorithme converge vers une solution $V^{\\infty} = \\frac{A V^\\infty}{ \\|AV^\\infty\\|}$, comment obtenir la valeur propre associée? Proposer un critère de convergence pour l'algorithme.\n",
    "---\n",
    "\n"
   ]
  },
  {
   "cell_type": "markdown",
   "metadata": {},
   "source": [
    "$$ \n",
    "    V^{i+1} = \\frac{A V^{i}}{|A V^{i}|}\n",
    "$$\n",
    "\n",
    "$$\n",
    "    V^{1} =  \\frac{A V^{0}}{|A V^{0}|}\n",
    "$$"
   ]
  },
  {
   "cell_type": "code",
   "execution_count": 71,
   "metadata": {},
   "outputs": [],
   "source": [
    "A = np.ones([50,50])\n",
    "V = np.random.rand(A.shape[0])\n",
    "V = V/np.linalg.norm(V)\n",
    "\n",
    "eigenvalue, V_inf, err = puissance(\n",
    "    A, \n",
    "    V, \n",
    "    N_max = 100_000,\n",
    "    TOL = 1e-15\n",
    ")"
   ]
  },
  {
   "cell_type": "code",
   "execution_count": 86,
   "metadata": {},
   "outputs": [
    {
     "data": {
      "text/plain": [
       "[<matplotlib.lines.Line2D at 0x22b8f4cca90>]"
      ]
     },
     "execution_count": 86,
     "metadata": {},
     "output_type": "execute_result"
    },
    {
     "data": {
      "image/png": "[encoded data removed]",
      "text/plain": [
       "<Figure size 432x288 with 1 Axes>"
      ]
     },
     "metadata": {
      "needs_background": "light"
     },
     "output_type": "display_data"
    }
   ],
   "source": [
    "plt.title(\"Error over iterations\")\n",
    "plt.plot(err)"
   ]
  },
  {
   "cell_type": "code",
   "execution_count": 87,
   "metadata": {},
   "outputs": [
    {
     "data": {
      "text/plain": [
       "[<matplotlib.lines.Line2D at 0x22b8f5105b0>]"
      ]
     },
     "execution_count": 87,
     "metadata": {},
     "output_type": "execute_result"
    },
    {
     "data": {
      "image/png": "[encoded data removed]",
      "text/plain": [
       "<Figure size 432x288 with 1 Axes>"
      ]
     },
     "metadata": {
      "needs_background": "light"
     },
     "output_type": "display_data"
    }
   ],
   "source": [
    "plt.title(\"Error over iterations- log scale\")\n",
    "plt.plot(np.log(err))"
   ]
  },
  {
   "cell_type": "code",
   "execution_count": 77,
   "metadata": {},
   "outputs": [
    {
     "data": {
      "text/plain": [
       "49.99999999999999"
      ]
     },
     "execution_count": 77,
     "metadata": {},
     "output_type": "execute_result"
    }
   ],
   "source": [
    "np.max(A @ V_inf / V_inf)"
   ]
  },
  {
   "cell_type": "markdown",
   "metadata": {},
   "source": [
    "3. En supposant que $A$ est symétrique définie positive, montrer que l'algorithme converge et donner son taux de convergence. \n",
    "---\n"
   ]
  },
  {
   "cell_type": "markdown",
   "metadata": {},
   "source": [
    "Si $A$ est symétrique définie positive, $A$ est diagonalizable, *i.e.*, les vecteurs propres de $A$ $v_1, v_2, \\dots v_n$ sont LI et donc forment une base de $M_n(\\mathbb{R})$.\n",
    "\n",
    "En définissant $v_1, v_2, \\dots, v_n$ comme \n",
    "\n",
    "$$\n",
    "    |v_1| > |v_2| \\geq |v_3| \\geq \\dots \\geq |v_n|  \n",
    "$$  \n",
    "\n",
    "Alors, \n",
    "\n",
    "\n",
    "$$\n",
    "\\begin{aligned}\n",
    "    \\frac{A V} {|A V|} &= a_1 (A v_1) + a_2 (A v_2) + \\dots + a_n (A v_n) \\\\\n",
    "        & = a_1 (\\lambda_1 v_1 ) + \\dots + a_n (\\lambda_n v_n)\n",
    "\n",
    "\\end{aligned}\n",
    "$$\n",
    "\n",
    "De même\n",
    "\n",
    "$$\n",
    "\\begin{aligned}\n",
    "    \\frac{A^k V} {|A^k V|} &= a_1 (A^k v_1) + a_2 (A^k v_2) + \\dots + a_n (A^k v_n) \\\\\n",
    "        & = a_1 (\\lambda_1^k v_1 ) + \\dots + a_n (\\lambda_n^k v_n) \\\\\n",
    "        & = \\lambda_1^k \\left( a_1 v_1 + a_2 \\frac{\\lambda_2^k}{\\lambda_1^k} v_2 + \\dots + a_n \\frac{\\lambda_n^k}{\\lambda_1^k} v_n \\right)\n",
    "\n",
    "\\end{aligned}\n",
    "$$\n",
    "\n",
    "À la limite $k \\rarr \\infty$\n",
    "\n",
    "$$\n",
    "    V ^\\infty = \\frac{A^k V} {|A^k V|} \\propto  v_1\n",
    "$$\n",
    "\n",
    "Et on a trouvé le vecteur propre $v_1$"
   ]
  },
  {
   "cell_type": "markdown",
   "metadata": {},
   "source": [
    "4. Tracer les courbes de convergence avec les matrices *Laplacien(10)*. Évaluer numériquement le taux de convergence de l'algorithme. Qu'en déduire sur la seconde valeur propre de ces matrices?"
   ]
  },
  {
   "cell_type": "code",
   "execution_count": 79,
   "metadata": {},
   "outputs": [
    {
     "name": "stdout",
     "output_type": "stream",
     "text": [
      "\n",
      "        Test case: Laplacien(10)\n",
      "        Test success\n",
      "        real eigenvalue: 3.9189859472289967\n",
      "        calculated eigenvalue: 3.9189859472289954\n",
      "        \n"
     ]
    }
   ],
   "source": [
    "# Cas test Laplacien(10)\n",
    "L_10 = Laplacien(10)\n",
    "\n",
    "eig, _ = np.linalg.eig(L_10)\n",
    "abs_eig = np.abs(eig)\n",
    "max_abs_eig = np.max(abs_eig)\n",
    "\n",
    "test_cases = {\n",
    "    \"Laplacien(10)\" : {\n",
    "        \"A\": Laplacien(10),\n",
    "        \"lambda\": max_abs_eig\n",
    "    }\n",
    "}\n",
    "\n",
    "\n",
    "for name, test_case in test_cases.items():\n",
    "    A = test_case[\"A\"]\n",
    "    V = np.random.rand(A.shape[0])\n",
    "    V = V / np.linalg.norm(V)\n",
    "\n",
    "    eigenvalue, V_i, err = puissance(\n",
    "        A, \n",
    "        V,    \n",
    "    )\n",
    "    \n",
    "    if (abs(eigenvalue - test_case[\"lambda\"]) > 1e-5):\n",
    "        print(\n",
    "        f\"\"\"\n",
    "        Test case: {name}\n",
    "        Test failed\n",
    "        real eigenvalue: {test_case[\"lambda\"]}\n",
    "        calculated eigenvalue: {eigenvalue}\n",
    "        \"\"\"\n",
    "        )\n",
    "\n",
    "    else:\n",
    "        print(\n",
    "        f\"\"\"\n",
    "        Test case: {name}\n",
    "        Test success\n",
    "        real eigenvalue: {test_case[\"lambda\"]}\n",
    "        calculated eigenvalue: {eigenvalue}\n",
    "        \"\"\"\n",
    "        )\n",
    "\n"
   ]
  },
  {
   "cell_type": "code",
   "execution_count": 100,
   "metadata": {},
   "outputs": [
    {
     "data": {
      "image/png": "[encoded data removed]",
      "text/plain": [
       "<Figure size 432x288 with 1 Axes>"
      ]
     },
     "metadata": {
      "needs_background": "light"
     },
     "output_type": "display_data"
    }
   ],
   "source": [
    "# calcul d'erreur\n",
    "log_err = np.log(err)\n",
    "\n",
    "plt.title(\"Error - log scale\")\n",
    "plt.plot(log_err)\n",
    "\n",
    "err_tax = np.mean(np.diff(log_err))"
   ]
  },
  {
   "cell_type": "code",
   "execution_count": 102,
   "metadata": {},
   "outputs": [
    {
     "data": {
      "text/plain": [
       "-2.643753839103678"
      ]
     },
     "execution_count": 102,
     "metadata": {},
     "output_type": "execute_result"
    }
   ],
   "source": [
    "err_tax"
   ]
  },
  {
   "cell_type": "code",
   "execution_count": 108,
   "metadata": {},
   "outputs": [
    {
     "data": {
      "text/plain": [
       "<matplotlib.legend.Legend at 0x22b8f9b4490>"
      ]
     },
     "execution_count": 108,
     "metadata": {},
     "output_type": "execute_result"
    },
    {
     "data": {
      "image/png": "[encoded data removed]",
      "text/plain": [
       "<Figure size 720x576 with 1 Axes>"
      ]
     },
     "metadata": {
      "needs_background": "light"
     },
     "output_type": "display_data"
    }
   ],
   "source": [
    "plt.figure(figsize = (10,8))\n",
    "plt.plot(\n",
    "    err,\n",
    "    label = \"error-log scale\"\n",
    ")\n",
    "plt.plot(\n",
    "    [err[0]*np.exp(err_tax*t) for t in range(len(err))],\n",
    "    label = \"exp(-error_tax * t)\"\n",
    ")\n",
    "\n",
    "plt.legend()"
   ]
  },
  {
   "cell_type": "markdown",
   "metadata": {},
   "source": [
    "# Son d'un tambour\n",
    "\n",
    "On peut relier la description des ondes accoustiques produites à la déformation périodique de l'objet qui l'a produit. Ces ondes de déformation sont généralement régies par l'équation des ondes \n",
    "\n",
    "$$\\partial_t^2 d - \\Delta_x d = 0.$$ \n",
    "\n",
    "En faisant une hypothèse de séparation des variables $d(t,x) = H(t)D(x)$, on arrive à un problème aux valeurs propres suivant \n",
    "\n",
    "- \"Chercher $\\lambda$ et $D(x)$ tels que $\\Delta_x D = \\lambda D$\".\n",
    "\n",
    "En 1D, l'exemple type de la corde vibrante peut se résoudre analytiquement menant à une solution sinusoïdale dont la période dépend des conditions de bord.\n",
    "\n",
    "On va s'intéresser ici au cas 2D discret et chercher à tracer les courbes de Chladni, isocontours de la fonction $D(x)$. "
   ]
  },
  {
   "cell_type": "markdown",
   "metadata": {},
   "source": [
    "1. a) On écrit le Laplacien discret en 2D comme \n",
    "\n",
    "$$\\Delta_x D(x_{i,j}) \\approx (L D)_{i,j} = \\frac{1}{\\Delta_x^2} \\left(-D_{i+1,j}+2D_{i,j}-D_{i-1,j}\\right) + \\frac{1}{\\Delta_y^2} \\left(-D_{i,j+1}+2D_{i,j}-D_{i,j-1}\\right),$$\n",
    "\n",
    "où $D_{i,j} \\approx D(x_{i,j})$ et $L$ est le Laplacien discrétisé. On cherche désormais à résoudre $L D = \\lambda D$. \n",
    "\n",
    "Pour le moment, on imposera des conditions de bord de type Dirichlet $D(0,y) = 0 = D(1,y) = D(x,0) = D(x,1).$\n",
    "\n",
    "On réécrit $D_{i,j}$ sous la forme d'un vecteur $\\tilde{D}_l$. Écrire la matrice du Laplacien 2D avec ces conditions de bord, i.e. la matrice $\\tilde{L}$ telle que $(\\tilde{L} \\tilde{D})_l = (L D)_{i,j}$.\n",
    "\n",
    "*On pourra réutiliser cette construction ultérieurement.*\n",
    "\n",
    "---\n",
    "\n",
    "b) Implémenter la construction de cette matrice. *Par simplicité, on pourra fixer le nombre de maille $N$ en $x$ et en $y$ égaux et on multipliera l'équation par $\\frac{1}{\\Delta x^2}$ pour ne faire apparaitre que des entiers dans cette matrice.* "
   ]
  },
  {
   "cell_type": "code",
   "execution_count": 11,
   "metadata": {},
   "outputs": [],
   "source": [
    "n = 4\n",
    "M = np.zeros((n**2,n**2))\n",
    "\n",
    "for i in range(n**2):\n",
    "    for j in range(n**2):\n",
    "        if (i == j):\n",
    "            M[i,j] = 4\n",
    "            continue\n",
    "        \n",
    "        if abs(i - j) == 1:\n",
    "            if (min(i,j ) +1) % n != 0:\n",
    "                M[i,j] = -1\n",
    "            continue\n",
    "\n",
    "        if abs(i-j) == n:\n",
    "            M[i,j ] = -1\n"
   ]
  },
  {
   "cell_type": "code",
   "execution_count": 13,
   "metadata": {},
   "outputs": [
    {
     "name": "stdout",
     "output_type": "stream",
     "text": [
      "Laplacien 2D(3) :\n",
      " [[ 4. -1.  0. -1.  0.  0.  0.  0.  0.]\n",
      " [-1.  4. -1.  0. -1.  0.  0.  0.  0.]\n",
      " [ 0. -1.  4.  0.  0. -1.  0.  0.  0.]\n",
      " [-1.  0.  0.  4. -1.  0. -1.  0.  0.]\n",
      " [ 0. -1.  0. -1.  4. -1.  0. -1.  0.]\n",
      " [ 0.  0. -1.  0. -1.  4.  0.  0. -1.]\n",
      " [ 0.  0.  0. -1.  0.  0.  4. -1.  0.]\n",
      " [ 0.  0.  0.  0. -1.  0. -1.  4. -1.]\n",
      " [ 0.  0.  0.  0.  0. -1.  0. -1.  4.]]\n"
     ]
    }
   ],
   "source": [
    "def Laplacien_2D_Dirichlet(N):\n",
    "    \"\"\"\n",
    "    Renvoie la matrice (carrée) du Laplacien 2D avec des conditions de Dirichlet au bord\n",
    "    ----------   \n",
    "    Paramètres :\n",
    "    N     : nb de pas d'espace dans une direction\n",
    "    \n",
    "    Retourne :\n",
    "    - matrice du Laplacien 2D sur un carré\n",
    "    \"\"\"\n",
    "\n",
    "    M = np.zeros((N**2,N**2))\n",
    "\n",
    "    for i in range(N**2):\n",
    "        for j in range(N**2):\n",
    "            if (i == j):\n",
    "                M[i,j] = 4\n",
    "                continue\n",
    "            \n",
    "            if abs(i - j) == 1:\n",
    "                if (min(i,j ) +1) % N != 0:\n",
    "                    M[i,j] = -1\n",
    "                continue\n",
    "\n",
    "            if abs(i-j) == N:\n",
    "                M[i,j ] = -1\n",
    "    return M\n",
    "\n",
    "print(\"Laplacien 2D(3) :\\n\", Laplacien_2D_Dirichlet(3))"
   ]
  },
  {
   "cell_type": "markdown",
   "metadata": {},
   "source": [
    "2. a) Calculer la 1e valeur propre du Laplacien pour différentes valeurs de $N$. \n",
    "\n",
    "b) Tracer les isocontours de $D$. \n",
    "Le contour de déplacement $D=0$ correspond aux positions qui ne sont pas déplacées par cette oscillation. "
   ]
  },
  {
   "cell_type": "code",
   "execution_count": 22,
   "metadata": {},
   "outputs": [
    {
     "name": "stderr",
     "output_type": "stream",
     "text": [
      "  0%|          | 0/30 [00:00<?, ?it/s]"
     ]
    },
    {
     "name": "stderr",
     "output_type": "stream",
     "text": [
      "100%|██████████| 30/30 [00:16<00:00,  1.86it/s]\n"
     ]
    }
   ],
   "source": [
    "# Cas test du Laplacien 2D\n",
    "eigenvalues= {}\n",
    "\n",
    "for N in tqdm(range(1,30 +1)):\n",
    "    A = Laplacien_2D_Dirichlet(N)\n",
    "    V = np.random.rand(A.shape[0])\n",
    "    V = V / np.linalg.norm(V)\n",
    "\n",
    "    eigenvalue, V_i, err = puissance(\n",
    "        A, \n",
    "        V,    \n",
    "    )\n",
    "\n",
    "    eigenvalues[N] =eigenvalue \n",
    "\n"
   ]
  },
  {
   "cell_type": "code",
   "execution_count": 23,
   "metadata": {},
   "outputs": [
    {
     "data": {
      "text/plain": [
       "{1: 4.0,\n",
       " 2: 6.0,\n",
       " 3: 6.82842712474619,\n",
       " 4: 7.23606797749979,\n",
       " 5: 7.464101615137755,\n",
       " 6: 7.603875471609675,\n",
       " 7: 7.695518130045146,\n",
       " 8: 7.758770483143633,\n",
       " 9: 7.804226065180613,\n",
       " 10: 7.837971894457988,\n",
       " 11: 7.863703305156274,\n",
       " 12: 7.883767269704208,\n",
       " 13: 7.899711648727294,\n",
       " 14: 7.912590402935224,\n",
       " 15: 7.92314112161292,\n",
       " 16: 7.931892398735608,\n",
       " 17: 7.9392310120488325,\n",
       " 18: 7.945445213610888,\n",
       " 19: 7.95075336238055,\n",
       " 20: 7.9553233049005145,\n",
       " 21: 7.959285767523731,\n",
       " 22: 7.9627437841453235,\n",
       " 23: 7.965779445495241,\n",
       " 24: 7.968458805257912,\n",
       " 25: 7.970835496392216,\n",
       " 26: 7.972953430967771,\n",
       " 27: 7.97484883957297,\n",
       " 28: 7.976551828617438,\n",
       " 29: 7.978087581473093,\n",
       " 30: 7.979477293567581}"
      ]
     },
     "execution_count": 23,
     "metadata": {},
     "output_type": "execute_result"
    }
   ],
   "source": [
    "eigenvalues"
   ]
  },
  {
   "cell_type": "code",
   "execution_count": null,
   "metadata": {},
   "outputs": [],
   "source": [
    "# courbe de contour de D en 2D\n",
    "\n"
   ]
  },
  {
   "cell_type": "markdown",
   "metadata": {},
   "source": [
    "# D'autres méthodes de puissance\n",
    "On veut maintenant aller plus loin et calculer d'autres valeurs propres et vecteurs propres. \n",
    "\n",
    "## Méthode de la puissance inverse\n",
    "Soit $\\mu\\in\\mathbb{R}$ une première estimation d'une valeur propre $\\lambda$ de $A$ (qui peut ou non être $\\lambda_1$).\n",
    "\n",
    "1. On suppose que $0 < |\\mu-\\lambda| < |\\mu-\\lambda_i|$ pour toute autre valeur propre $\\lambda_i\\neq \\lambda$. Comment peut on relier la plus grande valeur propre de $(A-\\mu Id)^{-1}$ à $\\lambda$? Comment relier les vecteurs propres associés?\n",
    "---"
   ]
  },
  {
   "cell_type": "markdown",
   "metadata": {},
   "source": [
    "2. Utiliser la méthode de la puissance sur $(A-\\mu Id)^{-1}$ pour calculer $\\lambda$ pour la matrice $L$ avec $N=10$ pour un $\\mu$ choisi. \n",
    "\n",
    "*Indications :* Le calcul de l'inverse $(A-\\mu Id)^{-1}$ est également complexe dans le cas général et nécessite un algorithme en lui même. Ici, on pourra utiliser une décomposition LU. Cette décomposition consiste à décomposer $A=LU$ comme le produit d'une matrice triangulaire inférieur L et une matrice triangulaire supérieur U. Cette décomposition est codée dans la fonction lu_factor de scipy. Une fois cette décomposition obtenue, on peut facilement calculer la solution $b = U^{-1}L^{-1} V$ du problème $AV = b$. Cette solution est le résultat de la fonction LU_solve de scipy."
   ]
  },
  {
   "cell_type": "code",
   "execution_count": null,
   "metadata": {},
   "outputs": [],
   "source": [
    "def puissance_inverse(A, V, mu, N_max, TOL):\n",
    "    \"\"\"\n",
    "    Renvoie une valeur propre approchée de A par la méthode de la puissance inverse\n",
    "    ----------   \n",
    "    Paramètres :\n",
    "    A     : matrice\n",
    "    V     : vecteur initial\n",
    "    mu    : paramètre de la méthode\n",
    "    N_max : nombre maximum d'itérations\n",
    "    TOL   : tolérance pour le critère d'arrêt\n",
    "    \n",
    "    Retourne :\n",
    "    -Valeur propre approchée à la fin des itérations\n",
    "    -Vecteur propre associé\n",
    "    -Vecteur contenant l'erreur à chaque itération pour étudier la convergence\n",
    "    \"\"\" \n",
    "   \n",
    "    return "
   ]
  },
  {
   "cell_type": "code",
   "execution_count": null,
   "metadata": {},
   "outputs": [],
   "source": [
    "# 2.b Proposer un/des cas test (matrice, vecteur initiale...) pour tester votre algorithme\n",
    "\n"
   ]
  },
  {
   "cell_type": "code",
   "execution_count": null,
   "metadata": {},
   "outputs": [],
   "source": [
    "# Cas test Laplacien(10)\n",
    "\n",
    "print(\"Valeur propre :\\n\",          eigval2,  \"\\n\")\n",
    "print(\"Vecteur propre associé :\\n\", eigvect2, \"\\n\")\n",
    "print(\"Erreur finale :\\n\",          erreur2)\n"
   ]
  },
  {
   "cell_type": "markdown",
   "metadata": {},
   "source": [
    "3. Comparer la vitesse de convergence de cet algorithme pour différentes valeurs de $\\mu$ proche de $\\lambda_1$ (tracer le sur un intervale de $\\mu$ adapté). On pourra utiliser la valeur de $\\lambda_1$ trouvée à la section précédente. \n",
    "---"
   ]
  },
  {
   "cell_type": "code",
   "execution_count": null,
   "metadata": {},
   "outputs": [],
   "source": [
    "# calcul d'erreur\n",
    "\n"
   ]
  },
  {
   "cell_type": "markdown",
   "metadata": {},
   "source": [
    "4. a) Utiliser la méthode de la puissance pour calculer d'autres valeurs propres et vecteurs propres du Laplacien 2D. \n",
    "\n",
    "b) Tracer les figures de Chaldni de ces harmoniques. "
   ]
  },
  {
   "cell_type": "code",
   "execution_count": null,
   "metadata": {},
   "outputs": [],
   "source": [
    "# Cas test du Laplacien 2D\n",
    "\n"
   ]
  },
  {
   "cell_type": "code",
   "execution_count": null,
   "metadata": {},
   "outputs": [],
   "source": [
    "# courbe de contour de D en 2D\n",
    "\n"
   ]
  },
  {
   "cell_type": "markdown",
   "metadata": {},
   "source": [
    "## Méthode de déflation\n",
    "\n",
    "1. En supposant que la matrice $A\\in\\mathbb{R}^{N\\times N}$ est symétrique définie positive et que $V\\in\\mathbb{R}^N$ est un de ses vecteurs propres, montrer que la matrix $B_\\lambda := A-\\lambda V V^T$ a les mêmes vecteurs propres que $A$ pour tout $\\lambda \\in\\mathbb{R}$.\n",
    "---"
   ]
  },
  {
   "cell_type": "markdown",
   "metadata": {},
   "source": [
    "2. En exploitant les matrices de la forme $B_{\\lambda}$, proposer une méthode pour obtenir la seconde plus grande valeur propre de $A$ et son vecteur propre associé. Puis toute les valeurs propres.\n",
    "---"
   ]
  },
  {
   "cell_type": "markdown",
   "metadata": {},
   "source": [
    "3. Implémenter cette méthode et la tester avec la matrice du Laplacien $L\\in\\mathbb{R}^{N\\times N}$ pour $N = 50$ avec un critère de tolérance de $10^{-6}$. Puis avec un critère de tolérance de $10^{-12}$."
   ]
  },
  {
   "cell_type": "code",
   "execution_count": null,
   "metadata": {},
   "outputs": [],
   "source": [
    "def deflation(A, V, N_max, TOL):\n",
    "    \"\"\"\n",
    "    Renvoie une valeur propre approchée de A par la méthode de la puissance inverse\n",
    "    ----------   \n",
    "    Paramètres :\n",
    "    A     : matrice\n",
    "    V     : vecteur initial\n",
    "    N_max : nombre maximum d'itérations\n",
    "    TOL   : tolérance pour le critère d'arrêt\n",
    "    \n",
    "    Retourne :\n",
    "    -Vecteur des valeurs propres données par la méthode de déflation\n",
    "    -Matrice composée des vecteurs propres associés\n",
    "    \"\"\" \n",
    "   \n",
    "    return "
   ]
  },
  {
   "cell_type": "code",
   "execution_count": null,
   "metadata": {},
   "outputs": [],
   "source": [
    "# Cas test trivial\n",
    "\n"
   ]
  },
  {
   "cell_type": "code",
   "execution_count": null,
   "metadata": {},
   "outputs": [],
   "source": [
    "#Cas Laplacien(10)\n",
    "\n"
   ]
  },
  {
   "cell_type": "code",
   "execution_count": null,
   "metadata": {},
   "outputs": [],
   "source": [
    "# Calcul d'erreur  \n",
    "\n"
   ]
  },
  {
   "cell_type": "markdown",
   "metadata": {},
   "source": [
    "4. Tester à nouveau avec la matrice du Laplacien 2D. Analyser et interpréter."
   ]
  },
  {
   "cell_type": "code",
   "execution_count": null,
   "metadata": {},
   "outputs": [],
   "source": [
    "#Cas Laplacien_2D(10)\n",
    "\n"
   ]
  },
  {
   "cell_type": "code",
   "execution_count": null,
   "metadata": {},
   "outputs": [],
   "source": [
    "# Calcul d'erreur et courbes isocontour pour chaque harmonique\n",
    "\n"
   ]
  },
  {
   "cell_type": "markdown",
   "metadata": {},
   "source": [
    "# Pour aller plus loin"
   ]
  },
  {
   "cell_type": "markdown",
   "metadata": {},
   "source": [
    "## Autour du Laplacien\n",
    "\n",
    "Tester à nouveau votre algorithme en modifiant le problème à résoudre :\n",
    "- en ajoutant des obstacles (bord à l'intérieur du domaine) dans le domaine\n",
    "- en modifiant la forme du domaine spatial\n",
    "- en modifiant les conditions de bord avec des conditions de type Neumann ou Robin "
   ]
  },
  {
   "cell_type": "markdown",
   "metadata": {},
   "source": [
    "## Autour de la résolution du problème aux valeurs propres\n",
    "\n",
    "Une des principales alternatives à la méthode de la puissances est la méthode QR. Cette méthode est donnée par l'algorithme suivant :\n",
    "1. Initialiser $A^0 = A$\n",
    "2. Itérer jusqu'à convergence :\n",
    "- décomposer la matrice $A^i = Q^iR^i$ comme le produit d'une matrice orthogonal $Q^i$ et d'une matrice triangulaire supérieur $R^i$\n",
    "- calculer $A^{i+1} = R^i Q^i$\n",
    "\n",
    "Pour aller plus loin, vous pouvez \n",
    "- coder cette méthode et comparer ses performances avec la méthode de la puissance (on pourra utiliser la dacomposition *qr* de numpy.linalg).\n",
    "- analyser l'algorithme pour relier sa convergence à celle de la méthode de la puissance"
   ]
  },
  {
   "cell_type": "code",
   "execution_count": null,
   "metadata": {},
   "outputs": [],
   "source": []
  }
 ],
 "metadata": {
  "kernelspec": {
   "display_name": "Python 3",
   "language": "python",
   "name": "python3"
  },
  "language_info": {
   "codemirror_mode": {
    "name": "ipython",
    "version": 3
   },
   "file_extension": ".py",
   "mimetype": "text/x-python",
   "name": "python",
   "nbconvert_exporter": "python",
   "pygments_lexer": "ipython3",
   "version": "3.9.12"
  },
  "toc": {
   "base_numbering": 1,
   "nav_menu": {},
   "number_sections": true,
   "sideBar": true,
   "skip_h1_title": false,
   "title_cell": "Table of Contents",
   "title_sidebar": "Contents",
   "toc_cell": false,
   "toc_position": {
    "height": "calc(100% - 180px)",
    "left": "10px",
    "top": "150px",
    "width": "251.817px"
   },
   "toc_section_display": true,
   "toc_window_display": true
  }
 },
 "nbformat": 4,
 "nbformat_minor": 4
}
