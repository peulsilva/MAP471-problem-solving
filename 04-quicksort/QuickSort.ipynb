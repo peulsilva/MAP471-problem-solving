{
 "cells": [
  {
   "cell_type": "markdown",
   "metadata": {},
   "source": [
    "<center><b>Ecole Polytechnique, Cycle Ingénieur (2A)<b></center>\n",
    "<center>MAP471A - Problem solving en mathématiques appliquées</center>\n",
    "<center>Enseignants : Lucas Gerin <a href=\"mailto:lucas.gerin@polytechnique.edu\">(mail)</a> \n",
    "    Teddy Pichard\t<a href=\"mailto:teddy.pichard@polytechnique.edu\">(mail)</a>\n",
    "    Nicole Spillane\t<a href=\"mailto:nicole.spillane@polytechnique.edu\">(mail)</a>\n",
    "        </center>\n",
    "\n",
    "\n",
    "# Algorithmes randomisés"
   ]
  },
  {
   "cell_type": "code",
   "execution_count": 1,
   "metadata": {
    "scrolled": true
   },
   "outputs": [
    {
     "data": {
      "text/html": [
       "<link href='http://fonts.googleapis.com/css?family=Fenix' rel='stylesheet' type='text/css'>\n",
       "<link href='http://fonts.googleapis.com/css?family=Alegreya+Sans:100,300,400,500,700,800,900,100italic,300italic,400italic,500italic,700italic,800italic,900italic' rel='stylesheet' type='text/css'>\n",
       "<link href='http://fonts.googleapis.com/css?family=Source+Code+Pro:300,400' rel='stylesheet' type='text/css'>\n",
       "<link href=\"https://fonts.googleapis.com/css?family=Oswald|Raleway\" rel=\"stylesheet\" type='text/css'> \n",
       "<style>\n",
       ".prompt{\n",
       "    display: none !important;\n",
       "}\n",
       "\n",
       ".rendered_html pre {\n",
       "    border: 1px solid #f0f6f9 !important;\n",
       "}\n",
       "\n",
       ".rendered_html pre, .rendered_html code {\n",
       "    background-color: #d3d8db !important;\n",
       "    padding: 1% !important;\n",
       "    line-height: 200% !important;\n",
       "    border-radius: 10px !important;\n",
       "}\n",
       "\n",
       "div.input_area {\n",
       "    border-radius: 10px !important;\n",
       "    background-color: #e1e1e6 !important;\n",
       "}\n",
       "\n",
       "div.cell{\n",
       "        width:85% !important;\n",
       "        margin-left:5% !important;\n",
       "        /*margin-right:auto;*/\n",
       "    }\n",
       "    h1, h2, h3, h4, h5 {\n",
       "        font-family: 'Oswald', sans-serif; !important;\n",
       "        font-style: oblique !important;\n",
       "    }\n",
       "    div.text_cell_render{\n",
       "        font-family: 'Raleway', sans-serif; !important;\n",
       "        line-height: 135% !important;\n",
       "        font-size: 120% !important;\n",
       "        width:100%;/*600px;*/\n",
       "        /*margin-left:auto;*/\n",
       "        /*margin-right:auto;*/\n",
       "    }\n",
       "    .CodeMirror{\n",
       "            font-family: \"Source Code Pro\" !important;\n",
       "\t\t\tfont-size: 100% !important;\n",
       "    }\n",
       "    .text_cell_render p{\n",
       "        text-align: justify !important;\n",
       "    }\n",
       "    .text_cell_render h1 {\n",
       "        font-weight: 200 !important;\n",
       "\t\tline-height: 100% !important;\n",
       "        color:#47597A !important;\n",
       "        margin-bottom: 10.em !important;\n",
       "        margin-top: 50.em !important;\n",
       "        padding-bottom: 50.em !important;\n",
       "        padding-top: 50.em !important;\n",
       "        display: block !important;\n",
       "        font-size: 300% !important;\n",
       "        text-align: center !important;\n",
       "        border-bottom: 1px solid #47597A !important;\n",
       "        border-top: 1px solid #47597A !important;\n",
       "    }\n",
       "    .text_cell_render h2 {\n",
       "        font-weight: 200 !important;\n",
       "\tline-height: 100% !important;\n",
       "        color:#47597A !important;\n",
       "        margin-bottom: 0.5em !important;\n",
       "        margin-top: 0.5em !important;\n",
       "        display: block !important;\n",
       "        font-size: 200% !important;\n",
       "        border-bottom: 1px solid #47597A !important;\n",
       "    }\n",
       "    .text_cell_render h3 {\n",
       "        font-weight: 200 !important;\n",
       "\tline-height: 100% !important;\n",
       "        color:#47597A !important;\n",
       "        margin-bottom: 0.5em !important;\n",
       "        margin-top: 0.5em !important;\n",
       "        display: block !important;\n",
       "        font-size: 150% !important;\n",
       "    }\n",
       "    .text_cell_render h4 {\n",
       "        font-style: italic !important;\n",
       "        font-weight: bold !important;\n",
       "\tline-height: 100% !important;\n",
       "        color:#47597A !important;\n",
       "        display: block !important;\n",
       "        font-size: 100% !important;\n",
       "    }\n",
       "    .text_cell_render h5 {\n",
       "        font-weight: 200 !important;\n",
       "\tline-height: 100% !important;\n",
       "        color:#47597A !important;\n",
       "        margin-bottom: 0.5em !important;\n",
       "        margin-top: 0.5em !important;\n",
       "        display: block !important;\n",
       "        font-size: 100% !important;\n",
       "    }\n",
       "    .text_cell_render ul {\n",
       "\tlist-style-type: disc !important;\n",
       "\tline-height: 2;\n",
       "\t/*color:#47597A !important;*/\n",
       "    }\n",
       "    .warning{\n",
       "        color: rgb( 240, 20, 20 ) !important;\n",
       "        }\n",
       "    .Abstract {  \n",
       "\ttext-align: justify;\n",
       "\tbackground-color: #d6edf9;\n",
       "\tborder-left: 5px solid #47597A;\n",
       "\tpadding: 0.5em;\n",
       "\tmargin: 0  150px 0 150px;\n",
       "    }\n",
       "    .Def {    \n",
       "\tbackground-color: #d9f7d7;\n",
       "\tborder-left: 5px solid #4a7047;\n",
       "\tpadding: 0.5em;\n",
       "    }\n",
       "    .Def:before {\n",
       "\tcontent: \"Definition.\";\n",
       "\tcolor:#4a7047;\n",
       "\tfont-weight: bold;\n",
       "\tfont-style: normal;\n",
       "    }\n",
       "    .DoIt {    \n",
       "\tbackground-color: #e8cfc9;\n",
       "\tborder-left: 5px solid #a90e05;\n",
       "\tpadding: 0.5em;\n",
       "    }\n",
       "    .DoIt:before {\n",
       "\tcontent: \"Do it yourself.\";\n",
       "\tcolor:#a90e05;\n",
       "\tfont-weight: bold;\n",
       "\tfont-style: normal;\n",
       "    }\n",
       "    .Answers {    \n",
       "\tbackground-color: #DDA0DD;\n",
       "\tborder-left: 5px solid #9932CC;\n",
       "\tpadding: 0.5em;\n",
       "    }\n",
       "    .Answers:before {\n",
       "\tcontent: \"Answers.\";\n",
       "\tcolor:#682145;\n",
       "\tfont-weight: bold;\n",
       "\tfont-style: normal;\n",
       "    }\n",
       "    .Prop {    \n",
       "\tbackground-color:#f9ecd1;\n",
       "\tborder-left: 5px solid #ba7021;\n",
       "\tpadding: 0.5em;\n",
       "    }\n",
       "   .Prop:before {\n",
       "       content: \"Proposition.\";\n",
       "       color:#ba7021;\n",
       "       font-weight: bold;\n",
       "       font-style: normal;\n",
       "    }\n",
       "   .Thm {    \n",
       "\tbackground-color:#f9ecd1;\n",
       "\tborder-left: 5px solid #ba7021;\n",
       "\tpadding: 0.5em;\n",
       "    }\n",
       "   .Thm:before {\n",
       "       content: \"Theorem.\";\n",
       "       color:#ba7021;\n",
       "       font-weight: bold;\n",
       "       font-style: normal;\n",
       "    } \n",
       "   .Algo {    \n",
       "\tbackground-color:#f9ecd1;\n",
       "\tborder-left: 5px solid #ba7021;\n",
       "\tpadding: 0.5em;\n",
       "    }\n",
       "   .Algo:before {\n",
       "       content: \"Algorithm.\";\n",
       "       color:#ba7021;\n",
       "       font-weight: bold;\n",
       "       font-style: normal;\n",
       "    }\n",
       "    .Rmk {    \n",
       "\tbackground-color: #dbf1fc;\n",
       "\tborder-left: 5px solid #385487;\n",
       "\tpadding: 0.5em;\n",
       "    }\n",
       "    .Rmk:before {\n",
       "\tcontent: \"Remark.\";\n",
       "\tcolor:#385487;\n",
       "\tfont-weight: bold;\n",
       "\tfont-style: normal;\n",
       "    }\n",
       "    .Ex {    \n",
       "\tbackground-color: #dbf1fc;\n",
       "\tborder-left: 5px solid #385487;\n",
       "\tpadding: 0.5em;\n",
       "    }\n",
       "    .Ex:before {\n",
       "\tcontent: \"Example.\";\n",
       "\tcolor:#385487;\n",
       "\tfont-weight: bold;\n",
       "\tfont-style: normal;\n",
       "    }\n",
       "\n",
       "/*    .toc-item-num {\n",
       "#        display: none;\n",
       "#    }\n",
       "*/\n",
       "    .reveal section img{\n",
       "        margin: 0px auto;\n",
       "    }\n",
       "\n",
       "    div.output_area img{\n",
       "        display: block;\n",
       "        margin: 0px auto;\n",
       "    }\n",
       "  \n",
       "</style>\n",
       "\n",
       "<script>\n",
       "MathJax.Hub.Config({\n",
       "TeX: {extensions: [\"AMSmath.js\"] },\n",
       "                tex2jax: {\n",
       "                    inlineMath: [ ['$','$'], [\"\\\\(\",\"\\\\)\"] ],\n",
       "                    displayMath: [ ['$$','$$'], [\"\\\\[\",\"\\\\]\"] ]\n",
       "                },\n",
       "                displayAlign: 'center', // Change this to 'center' to center equations.\n",
       "                \"HTML-CSS\": {\n",
       "                    styles: {'.MathJax_Display': {\"margin\": 4}}\n",
       "                }\n",
       "        });\n",
       "\n",
       "\n",
       "\n",
       "</script>\n"
      ],
      "text/plain": [
       "<IPython.core.display.HTML object>"
      ]
     },
     "execution_count": 1,
     "metadata": {},
     "output_type": "execute_result"
    }
   ],
   "source": [
    "# css style\n",
    "from IPython.core.display import HTML\n",
    "def css_styling():\n",
    "    styles = open(\"./style/custom2.css\").read()\n",
    "    return HTML(styles)\n",
    "css_styling()"
   ]
  },
  {
   "cell_type": "code",
   "execution_count": 2,
   "metadata": {},
   "outputs": [],
   "source": [
    "# load the libraries\n",
    "import matplotlib.pyplot as plt # 2D plotting library\n",
    "import numpy as np              # package for scientific computing  \n",
    "import random\n",
    "%matplotlib inline  "
   ]
  },
  {
   "cell_type": "markdown",
   "metadata": {},
   "source": [
    "## Table des matières\n",
    "\n",
    "- [Algo randomisé pour le tri : Quicksort](#Prelim)\n",
    " - [Random Quicksort (uniforme)](#Uniform)\n",
    " - [Median-of-Three Quicksort](#Median)\n",
    "- [Algo randomisé pour la médiane](#QuickSelect)\n",
    "\n"
   ]
  },
  {
   "cell_type": "markdown",
   "metadata": {},
   "source": [
    "# Introduction\n",
    "\n",
    "L'objectif de ce TP est d'illustrer la puissance des algorithmes probabilistes (ou <i>randomisés</i>) pour résoudre des problèmes déterministes. Il existe deux grandes classes d'algorithmes randomisés :\n",
    "\n",
    "* Les algorithmes de Las Vegas ont un temps d'exécution aléatoire mais donnent une réponse exacte ;\n",
    "* Les algorithmes de Monte-Carlo ont un temps d'éxecution qui est déterministe (ou aléatoire mais borné) et donne une réponse approchée.\n",
    "\n",
    "Nous allons nous concentrer ici sur des algorithmes de Las Vegas pour le tri de nombres."
   ]
  },
  {
   "cell_type": "markdown",
   "metadata": {},
   "source": [
    "<a id=\"Prelim\"></a>\n",
    "# Quicksort\n"
   ]
  },
  {
   "cell_type": "markdown",
   "metadata": {},
   "source": [
    "`Quicksort` est l'un des algorithmes les plus populaires pour trier une liste de nombres $L=x_1,\\dots,x_n$. L'objectif de cette section est d'analyser le comportement de `Quicksort` (et de ses variantes) lorsque les $x_i$ sont aléatoires et i.i.d.\n",
    "\n",
    "Définissons formellement la sortie $\\mathrm{Quicksort}(L)$ de l'algorithme : c'est la liste $L$  triée par ordre croissant.\n",
    "L'idée de QuickSort est d'utiliser la stratégie <i>Diviser-pour-régner</i> et se décompose récursivement de la façon suivante :\n",
    "\n",
    "1. Si $L$ est vide ou réduite à un seul élément, $\\mathrm{Quicksort}(L)=L$.\n",
    "2. Sinon le 1er élément $x_1$ est appelé <i>pivot</i> de la liste. On compare chacun des $n-1$ autre éléments à $x_1$ pour obtenir deux sous-listes\n",
    "\\begin{align*}\n",
    "L_< = \\{x_j; j\\geq 2, x_j<x_1\\},\\\\\n",
    "L_{\\geq} = \\{x_j; j\\geq 2, x_j\\geq x_1\\}.\n",
    "\\end{align*}\n",
    "3. On applique récursivement l'algorithme à $L_<$ et $L_\\geq$ : on renvoie la concaténation des trois listes\n",
    "$$\n",
    "\\mathrm{Quicksort}(L_<),\\qquad [x_1],\\qquad \\mathrm{Quicksort}(L_\\geq).\n",
    "$$\n",
    "\n",
    "Voici schématiquement l'exécution de Quicksort  pour $L=[4,3,5,1,6,2]$:\n",
    "<img src=\"figures/Quicksort.jpg\" style=\"width:800px;\"/>\n",
    "\n",
    "On note $C(x_1,x_2,\\dots,x_n)$ le nombre de comparaisons nécessaires pour trier la liste $x_1,\\dots,x_n$. L'exemple ci-dessus démontre que\n",
    "$$\n",
    "C(4,3,5,1,6,2)=5+1+2+1=9.\n",
    "$$\n"
   ]
  },
  {
   "cell_type": "markdown",
   "metadata": {},
   "source": [
    "<div markdown=1 class=Rmk>\n",
    "La complexité <i>dans le pire cas</i> de Quicksort est quadratique : il existe $c,C>0$ telles que\n",
    "\n",
    "$$\n",
    "cn^2 \\leq \\max_{x_1,\\dots, x_n} C(x_1,x_2,\\dots,x_n) \\leq C n^2.\n",
    "$$\n",
    "\n",
    "<i>(Ici le seul coût considéré dans la complexité est le nombre de comparaisons de deux réels. On néglige donc les coûts d'accès et écriture en mémoire.)</i><br><br>\n",
    "<b>Preuve :</b> Lorsque les $x_1,x_2,\\dots,x_n$ sont déjà triés l'algorithme effectue\n",
    "$$\n",
    "(n-1)+(n-2)+\\dots + 1 \\sim \\tfrac{1}{2}n^2 \\text{ comparaisons,}\n",
    "$$\n",
    "d'où l'inégalité de gauche.\n",
    "\n",
    "Pour l'inégalité de droite, montrons par récurrence que\n",
    "$$\n",
    "\\max_{x_1,\\dots, x_n} C(x_1,x_2,\\dots,x_n) \\leq 2 n^2.\n",
    "$$\n",
    "Pour $n=1$ c'est ok. Ensuite\n",
    "\\begin{align*}\n",
    "C(x_1,x_2,\\dots,x_n) &= (n-1) + C(\\{x_j \\text{ tels que }x_j<x_1\\} ) + C(\\{x_j \\text{ tels que }x_j\\geq x_1\\} )\\\\\n",
    "&\\leq (n-1) + \\max_{0\\leq r\\leq n-1} \\bigg\\{ \\max_{y_1,\\dots,y_r}C(y_1,\\dots,y_r) + \\max_{y_{r+1},\\dots,y_{n-1}}C(y_{r+1},\\dots,y_{n-1})\\bigg\\}\\\\\n",
    "&\\leq (n-1)+ \\max_{0\\leq r\\leq n-1} 2r^2 + 2(n-1-r)^2\\\\\n",
    "&\\leq (n-1) +2(n-1)^2/2 \\leq 2n^2.\n",
    "\\end{align*}"
   ]
  },
  {
   "cell_type": "markdown",
   "metadata": {},
   "source": [
    "<a id=\"Uniform\"></a>\n",
    "L'objectif est d'évaluer la variable aléatoire $C_n:=C(X_1,\\dots,X_n)$\n",
    "lorsque les données sont des variables aléatoires $X_1,\\dots,X_n$ i.i.d. uniformes sur $[0,1]$.  C'est donc l'analyse en complexité moyenne de `Quicksort`.\n",
    "\n",
    "On admet les choses suivantes :\n",
    "1. On a l'identité en loi :\n",
    "$$\n",
    "\\mathrm{card} (L_<) \\stackrel{\\text{(loi)}}{=} \\mathrm{card} (L_\\geq) \\stackrel{\\text{(loi)}}{=} \\text{Uniforme dans }\\{0,1,\\dots,n-1\\}.\n",
    "$$\n",
    "2. Conditionnellement à $X_1$, les $X_j$ dans $L_<$ sont répartis uniformément dans l'intervalle $[0,X_1]$ et sont indépendants. (On  bien sûr le même énoncé pour $L_\\geq$.)\n",
    "\n",
    "On en déduit donc que le nombre aléatoire de comparaisons $C_n$ pour une liste de taille $n$ vérifie\n",
    "\\begin{align*}\n",
    "C_0&=0,\\\\\n",
    "C_1&=0,\\\\\n",
    "\\text{Pour tout }n\\geq 2,\\quad C_n &\\stackrel{\\text{(loi)}}{=} n-1 + C'_{U_n-1} + C''_{n-U_n}, \\tag{$\\$ $}\n",
    "\\end{align*}\n",
    "où $U_n$ est une uniforme sur $\\{1,\\dots,n\\}$ et pour tout $k$, $C_k,C'_k, C''_k$ ont même loi, sont indépendantes entre elles et indépendantes de $U_n$.\n"
   ]
  },
  {
   "cell_type": "markdown",
   "metadata": {},
   "source": [
    "<div markdown=1 class=\"DoIt\"> \n",
    "\n",
    "1. Ecrire une fonction `Uniform(a,b)` qui renvoie un tirage d'une v.a. uniforme dans $\\{a,a+1,\\dots,b\\}$.<br>\n",
    "<i>(Rappel : `np.random.rand()` renvoie un réel uniforme dans $[0,1]$.</i>\n",
    "2. Utiliser la relation $(\\$)$ pour simuler des variables aléatoires $C_n$.<br>\n",
    "Pour visualiser on vous suggère de tracer une grande quantité de points $(n,C_n)$ sur le même graphique, ainsi que $n\\mapsto 2n\\log(n)-2.85n$. (Prendre $n$ entre $1$ et $2000$.) <br><br>\n",
    "<i>(<b>Attention!</b> Il n'y a pas besoin de réellement implémenter Quicksort, simplement de simuler $C_n$.)</i>\n",
    "\n",
    "3. On peut démontrer (*) que\n",
    "$$\n",
    "\\mathbb{E}[C_n] = 2n\\log(n)-2.85n +o(n).\n",
    "$$\n",
    "Comparer avec vos résultats.<br>\n",
    "\n",
    "\n",
    "(*) Référence: Voir par exemple p.37 dans M.Mitzenmacher, E.Upfal (2005). Probability and Computing. <i>Cambridge University Press</i>."
   ]
  },
  {
   "cell_type": "code",
   "execution_count": 3,
   "metadata": {},
   "outputs": [],
   "source": [
    "def Uniform(a,b):\n",
    "    # returns the draw of a fair dice in {a,a+1,...,b}\n",
    "    return int( np.random.rand() * (b-a+1)+ a )\n",
    "\n"
   ]
  },
  {
   "cell_type": "code",
   "execution_count": 4,
   "metadata": {},
   "outputs": [],
   "source": [
    "memo = dict()\n",
    "def RandomQuicksort(n):\n",
    "    if n == 0 or n == 1:\n",
    "        return 0\n",
    "    # returns a sample of C_n\n",
    "    #\n",
    "    #\n",
    "    u_n= Uniform(1, n)\n",
    "    \n",
    "\n",
    "    Cn = n - 1 + RandomQuicksort(u_n - 1) + RandomQuicksort(n - u_n)\n",
    "    return Cn"
   ]
  },
  {
   "cell_type": "code",
   "execution_count": 5,
   "metadata": {},
   "outputs": [],
   "source": [
    "Cn = []\n",
    "for i in range(1500):\n",
    "    Cn.append(RandomQuicksort(i))\n",
    "    "
   ]
  },
  {
   "cell_type": "code",
   "execution_count": 6,
   "metadata": {},
   "outputs": [],
   "source": [
    "func = [2*i * np.log(i) - 2.85 *i for i in range(1,1500)] "
   ]
  },
  {
   "cell_type": "code",
   "execution_count": 7,
   "metadata": {},
   "outputs": [
    {
     "data": {
      "text/plain": [
       "<matplotlib.legend.Legend at 0x1a8d47afcd0>"
      ]
     },
     "execution_count": 7,
     "metadata": {},
     "output_type": "execute_result"
    },
    {
     "data": {
      "image/png": "[encoded data removed]",
      "text/plain": [
       "<Figure size 432x288 with 1 Axes>"
      ]
     },
     "metadata": {
      "needs_background": "light"
     },
     "output_type": "display_data"
    }
   ],
   "source": [
    "plt.plot(Cn,\n",
    "         label = \"Cn\",\n",
    "         marker = '.',\n",
    "         linestyle = \"None\")\n",
    "plt.plot(func,\n",
    "         label = \"2 n log n - 2.85 n\")\n",
    "\n",
    "plt.legend()"
   ]
  },
  {
   "cell_type": "markdown",
   "metadata": {},
   "source": [
    "<div markdown=1 class=Rmk>\n",
    "\n",
    "La conséquence des cette analyse est que le comportement moyen en $2n\\log(n)$ est bien inférieur au comportement dans le pire cas en $n^2$. C'est pourquoi dans certaines libraires l'algorithme Quicksort est implémenté avec une étape préliminaire consistant à mélanger uniformément la liste $x_1,\\dots,x_n$.<br>\n",
    "Concrètement, il suffit simplement de choisir le pivot uniformément dans la liste à chaque itération de l'algorithme."
   ]
  },
  {
   "cell_type": "markdown",
   "metadata": {},
   "source": [
    "<a id=\"Median\"></a>\n",
    "### Une amélioration : Median-of-Three Quicksort\n",
    "\n",
    "Intuitivement, Quicksort est plus efficace lorsque $L_<$ et $L_{\\geq}$ sont de taille équivalente. Pour exploiter cette idée, une variante assez utilisée dans la pratique consiste à prendre la médiane de $X_1,X_2,X_3$ comme pivot au lieu de $X_1$. C'est <i>Median-of-Three Quicksort</i>.<br>\n",
    "L'objectif est d'illustrer l'efficacité de cette variante."
   ]
  },
  {
   "cell_type": "markdown",
   "metadata": {},
   "source": [
    "<div markdown=1 class=\"DoIt\"> \n",
    "\n",
    "1. Les variables aléatoires $X_1,X_2,X_3$ sont indépendantes et uniformes sur $[0,1]$. Quelle est la loi du nombre de comparaisons nécessaires pour trouver la médiane de $X_1,X_2,X_3$? On note $\\mathcal{M}$ une réalisation de cette variable, écrire une fonction qui simule $\\mathcal{M}$.\n",
    "\n",
    "2. Déterminer l'analogue de $(\\$)$ pour Median-of-Three Quicksort. En déduire des simulations des variables aléatoires $D_n$ définies par le nombre de comparaisons pour Median-of-Three Quicksort.<br> \n",
    "<i>(Attention : ne pas oublier le coût de calcul de la médiane.)</i>\n",
    "\n",
    "3. Comparer vos simulations avec Quicksort classique en affichant une grande quantité de points $(n,C_n)$ et $(n,D_n)$ sur le même graphique. Afficher également le résultat en moyenne :<br>\n",
    "Pour Median-of-Three Quicksort on a\n",
    "$$\n",
    "\\mathbb{E}[D_n] = \\tfrac{12}{7}n\\log(n)-1.827n +o(n).\n",
    "$$\n",
    "(voir Th.3.5 dans Sedgewick, R., & Flajolet, P. (2013). An introduction to the analysis of algorithms.)\n"
   ]
  },
  {
   "cell_type": "markdown",
   "metadata": {},
   "source": [
    "<div markdown=1 class=\"Answers\">\n",
    "\n",
    "1. On compare d'abord $X_1$ et $X_2$. \n",
    "* Si $X_1 = X_2$, on sait que la mediane vaut $X_1$.\n",
    "* Si $X_1 < X_2$, on compare $X_2$ et $X_3$. Si $X_2 = X_3$, où $X_2 < X_3$ la mediane vaux $X_2$\n",
    "* Si $X_1 < X_2$ et $X_2 > X_3$, la mediane vaux $\\min {(X_1, X_3)}$\n",
    "\n",
    "Donc, il nous faut 1, 2 ou 3 comparaisons\n",
    "\n",
    "$$\n",
    "\\begin{aligned}\n",
    "    D(n) = \\\\\n",
    "    &  0, \\ si \\ n = 1 \\ ou \\ n = 0 \\\\\n",
    "    &  1, \\ si \\ n = 2 \\\\\n",
    "    & \\mathcal{M} + n- 3 + D(U_n -1) + D(n - U_n)\n",
    "\\end{aligned}\n",
    "$$\n"
   ]
  },
  {
   "cell_type": "code",
   "execution_count": 8,
   "metadata": {},
   "outputs": [],
   "source": [
    "def simule_m():\n",
    "    if np.random.rand() < 1/3:\n",
    "        return 2\n",
    "    return 3\n",
    "    \n"
   ]
  },
  {
   "cell_type": "code",
   "execution_count": null,
   "metadata": {},
   "outputs": [],
   "source": []
  },
  {
   "cell_type": "code",
   "execution_count": 9,
   "metadata": {},
   "outputs": [],
   "source": [
    "def three_uniform(n):\n",
    "    x1 = Uniform(1,n)\n",
    "    x2 = x1\n",
    "    while(x2 == x1):\n",
    "        x2 = Uniform(1,n)\n",
    "    \n",
    "    x3 = x2\n",
    "\n",
    "    while(x3 == x2) or (x3 == x1):\n",
    "        x3 = Uniform(1,n)\n",
    "\n",
    "    return [x1, x2, x3]"
   ]
  },
  {
   "cell_type": "code",
   "execution_count": 10,
   "metadata": {},
   "outputs": [],
   "source": [
    "def MS_Quicksort(n):\n",
    "    # returns a sample of D_n\n",
    "    #\n",
    "    #\n",
    "    if n < 3:\n",
    "        return RandomQuicksort(n)\n",
    "    \n",
    "    v_n = np.median(three_uniform(n))\n",
    "\n",
    "    return simule_m()+ n - 3 + MS_Quicksort(v_n - 1) + MS_Quicksort(n - v_n)"
   ]
  },
  {
   "cell_type": "code",
   "execution_count": 11,
   "metadata": {},
   "outputs": [
    {
     "data": {
      "text/plain": [
       "555.0"
      ]
     },
     "execution_count": 11,
     "metadata": {},
     "output_type": "execute_result"
    }
   ],
   "source": [
    "MS_Quicksort(100)"
   ]
  },
  {
   "cell_type": "code",
   "execution_count": 12,
   "metadata": {},
   "outputs": [],
   "source": [
    "Dn = [MS_Quicksort(i) for i in range(1,1500)]\n",
    "func = [12/7*i * np.log(i) - 1.827 *i for i in range(1,1500)] "
   ]
  },
  {
   "cell_type": "code",
   "execution_count": 13,
   "metadata": {},
   "outputs": [
    {
     "data": {
      "text/plain": [
       "<matplotlib.legend.Legend at 0x1a8d477a850>"
      ]
     },
     "execution_count": 13,
     "metadata": {},
     "output_type": "execute_result"
    },
    {
     "data": {
      "image/png": "[encoded data removed]",
      "text/plain": [
       "<Figure size 432x288 with 1 Axes>"
      ]
     },
     "metadata": {
      "needs_background": "light"
     },
     "output_type": "display_data"
    }
   ],
   "source": [
    "plt.plot(Dn,\n",
    "         marker = '.',\n",
    "         label = \"Dn\",\n",
    "         linestyle = \"none\")\n",
    "plt.plot(Cn,\n",
    "         marker = '.',\n",
    "         label = \"Cn\",\n",
    "         linestyle = \"none\")\n",
    "plt.plot(func,\n",
    "         label = \"12/7 nlog n - 1.827n\")\n",
    "\n",
    "plt.legend()"
   ]
  },
  {
   "cell_type": "markdown",
   "metadata": {},
   "source": [
    "<a id=\"QuickSelect\"></a>\n",
    "#  Algorithmes randomisés pour la médiane\n",
    "\n",
    "Un algorithme naïf pour trouver la médiane d'une liste $\\{X_1,\\dots, X_n\\}$ consiste à trier la liste et à lire ensuite le $\\lfloor n/2\\rfloor$-ème élément. D'après ce qui précède cela coûte $\\text{constante}\\times n\\log(n)$ comparaisons.\n",
    "\n",
    "Nous allons utiliser la stratégie randomisée pour trouver la médiane avec un nombre linéaire de comparaisons.\n",
    "\n",
    "## QuickMedian\n"
   ]
  },
  {
   "cell_type": "markdown",
   "metadata": {},
   "source": [
    "<div markdown=1 class=\"DoIt\">\n",
    "\n",
    "1. En s'inspirant de la stratégie QuickSort, décrire un algorithme efficace QuickMedian qui renvoie le $k$-ème plus petit élément d'une liste $\\{X_1,\\dots, X_n\\}$ (sans trier toute la liste!). \n",
    "\n",
    "2. Ecrire la relation de récurrence pour le nombre de comparaisons $S_{n,k}$ effectuées par QuickMedian.\n"
   ]
  },
  {
   "cell_type": "markdown",
   "metadata": {},
   "source": [
    "$$\n",
    "    S_{n,k} = n - 1 + S_{n - U_{0, n-k}, n-k - U_{0, n-k}} \n",
    "$$"
   ]
  },
  {
   "cell_type": "markdown",
   "metadata": {},
   "source": [
    "1. On choisit un pivot $i$ uniformement dans ${1, ..., n-1}$ et on prend $x_i$\n",
    "2. On divise les listes entre $L_- : x \\leq x_i$,  et $L_+: x > x_i $\n",
    "3. On prend recursivement, jusqu'a on arrive a une taille qu'on veut: par example\n",
    "\n",
    "```bash\n",
    "Consider the list below. We'd like to find the median.\n",
    "l = [9,1,0,2,3,4,6,8,7,10,5]\n",
    "len(l) == 11, so we're looking for the 6th smallest element\n",
    "First, we must pick a pivot. We randomly select index 3.\n",
    "The value at this index is 2.\n",
    "\n",
    "Partitioning based on the pivot:\n",
    "[1,0,2], [9,3,4,6,8,7,10,5]\n",
    "We want the 6th element. 6-len(left) = 3, so we want\n",
    "the third smallest element in the right array\n",
    "\n",
    "We're now looking for third smallest element in the array below:\n",
    "[9,3,4,6,8,7,10,5]\n",
    "We pick an index at random to be our pivot.\n",
    "We pick index 3, the value at which, l[3]=6\n",
    "\n",
    "Partitioning based on the pivot:\n",
    "[3,4,5,6] [9,7,10]\n",
    "We want the 3rd smallest element, so we know it's the\n",
    "3rd smallest element in the left array\n",
    "\n",
    "We're now looking for the 3rd smallest in the array below:\n",
    "[3,4,5,6]\n",
    "We pick an index at random to be our pivot.\n",
    "We pick index 1, the value at which, l[1]=4\n",
    "Partitioning based on the pivot:\n",
    "[3,4] [5,6]\n",
    "We're looking for the item at index 3, so we know it's\n",
    "the smallest in the right array.\n",
    "\n",
    "We're now looking for the smallest element in the array below:\n",
    "[5,6]\n",
    "\n",
    "At this point, we can have a base case that chooses the larger\n",
    "or smaller item based on the index.\n",
    "We're looking for the smallest item, which is 5.\n",
    "return 5\n",
    "```"
   ]
  },
  {
   "cell_type": "code",
   "execution_count": 49,
   "metadata": {},
   "outputs": [],
   "source": [
    "def S(n, k):\n",
    "    \n",
    "    if n == 1:\n",
    "        return 1\n",
    "    if n == 0:\n",
    "        return 0\n",
    "    u_n_k = Uniform(0, n-k)\n",
    "    \n",
    "    return n - 1 + S(n-u_n_k, n-k - u_n_k) "
   ]
  },
  {
   "cell_type": "code",
   "execution_count": 220,
   "metadata": {},
   "outputs": [],
   "source": [
    "n_ops = 0\n",
    "def quick_k_element(l, k):\n",
    "    global n_ops \n",
    "    \n",
    "    n = len (l)\n",
    "    n_ops += n-1\n",
    "    if n == 1:\n",
    "        return l[0]\n",
    "\n",
    "    if n ==0 :\n",
    "        return\n",
    "    \n",
    "    pivot = Uniform(0, n-1)\n",
    "    print(pivot, len(l))\n",
    "    pivot_value = l[pivot]\n",
    "\n",
    "    higher = [x for x in l if x> pivot_value]\n",
    "    lower = [x for x in l if x < pivot_value]\n",
    "    eq_pivot = [x for x in l if x == pivot_value]\n",
    "\n",
    "    if len(lower) > k:\n",
    "        return quick_k_element(lower, k)\n",
    "    \n",
    "    if len(lower) + len(eq_pivot) > k:\n",
    "        return pivot_value\n",
    "    \n",
    "    print(k - len(lower)- len(pivot))\n",
    "    \n",
    "    return quick_k_element(higher, k - len(lower) - len(eq_pivot))\n",
    "    \n"
   ]
  },
  {
   "cell_type": "code",
   "execution_count": 98,
   "metadata": {},
   "outputs": [],
   "source": [
    "import numpy as np\n",
    "import matplotlib.pyplot as plt\n",
    "def Uniform(a,b):\n",
    "    # returns the draw of a fair dice in {a,a+1,...,b}\n",
    "    return int( np.random.rand() * (b-a+1)+ a )\n"
   ]
  },
  {
   "cell_type": "code",
   "execution_count": 99,
   "metadata": {},
   "outputs": [],
   "source": [
    "l = [i for i in range(100)]\n",
    "np.random.shuffle(l)"
   ]
  },
  {
   "cell_type": "code",
   "execution_count": 129,
   "metadata": {},
   "outputs": [],
   "source": [
    "p = []\n",
    "for i in range(1000):\n",
    "    n_ops = 0\n",
    "    quick_k_element(l, 14)\n",
    "    p.append(n_ops)"
   ]
  },
  {
   "cell_type": "code",
   "execution_count": 130,
   "metadata": {},
   "outputs": [],
   "source": [
    "q = [S(len(l), 14) for i in range(1000)]\n"
   ]
  },
  {
   "cell_type": "code",
   "execution_count": 54,
   "metadata": {},
   "outputs": [
    {
     "data": {
      "text/plain": [
       "[<matplotlib.lines.Line2D at 0x22142835160>]"
      ]
     },
     "execution_count": 54,
     "metadata": {},
     "output_type": "execute_result"
    },
    {
     "data": {
      "image/png": "[encoded data removed]",
      "text/plain": [
       "<Figure size 432x288 with 1 Axes>"
      ]
     },
     "metadata": {
      "needs_background": "light"
     },
     "output_type": "display_data"
    }
   ],
   "source": [
    "s_n_n2 = []\n",
    "func = []\n",
    "for i in range(1000):\n",
    "    s_n_n2.append(S(i, i // 2))\n",
    "    func.append(i*(2 + 2*np.log(2)))\n",
    "\n",
    "plt.plot(s_n_n2,\n",
    "         linestyle = \"none\",\n",
    "         marker = '.')\n",
    "plt.plot(func)"
   ]
  },
  {
   "cell_type": "markdown",
   "metadata": {},
   "source": [
    "<div markdown=1 class=\"DoIt\"> \n",
    "\n",
    "1. Ecrire une fonction qui simule la variable $S_{n,k}$. \n",
    "\n",
    "2. Afficher plusieurs simulations pour $k=\\lfloor n/2\\rfloor$ (calcul de la médiane). On devrait avoir\n",
    "$$\n",
    "\\mathbb{E}[S_{n,\\lfloor n/2\\rfloor}] = n\\left(2+2\\log(2)\\right) + \\mathrm{o}(n) = n\\times 3.3863... + \\mathrm{o}(n) \n",
    "$$\n",
    "(<a href=\"https://11011110.github.io/blog/2007/10/09/blum-style-analysis-of.html\">Voir ce lien.</a>) "
   ]
  },
  {
   "cell_type": "markdown",
   "metadata": {},
   "source": [
    "<center>\n",
    "    <font size=+3 color='red'>!! La partie obligatoire (à rendre sur Moodle) s'arrête ici !!</font>\n",
    "</center>"
   ]
  },
  {
   "cell_type": "markdown",
   "metadata": {},
   "source": [
    "<a id=\"Median\"></a>\n",
    "## Encore une variante de Quicksort: Diviser en 3-pour-régner\n",
    "\n",
    "On va chercher à évaluer l'efficacité de Quicksort si on divise la liste en $3$ listes au lieu de $2$, en utilisant les pivots $X_1,X_2$. Pour cela on note $(I_n,J_n)$ une paire uniforme parmi les $\\binom{n}{2}$ paires de la forme $\\{1\\leq i<j \\leq n\\}$."
   ]
  },
  {
   "cell_type": "markdown",
   "metadata": {},
   "source": [
    "<div markdown=1 class=\"DoIt\"> \n",
    "\n",
    "1. Ecrire une fonction `PaireIJ`  qui tire au sort $(I_n,J_n)$.\n",
    "2. Ecrire une fonction `NbComparaisons(i,j,n)` qui simule la variable aléatoire suivante : ($i,j$ étant fixés)  le coût pour trier $i,j,X_3$ lorsque $X_3$ est une uniforme sur $\\{1,\\dots,n\\}$. On note $\\mathcal{N}_n(i,j)$ une réalisation de cette v.a.\n",
    "3. Ecrire l'analogue de  $(\\$)$ pour la stratégie diviser en 3-pour-régner. En déduire des simulations des variables aléatoires $E_n$. Comparer avec Quicksort classique et median-of-three.\n"
   ]
  },
  {
   "cell_type": "code",
   "execution_count": null,
   "metadata": {},
   "outputs": [],
   "source": [
    "def PaireIJ(a,b):\n",
    "    # return a sample of (I_n,J_n)\n",
    "    return\n",
    "\n",
    "    "
   ]
  },
  {
   "cell_type": "markdown",
   "metadata": {},
   "source": [
    "<div markdown=1 class=\"Answers\">\n",
    " \n",
    "2. \n",
    "3. "
   ]
  },
  {
   "cell_type": "code",
   "execution_count": null,
   "metadata": {},
   "outputs": [],
   "source": [
    " "
   ]
  },
  {
   "cell_type": "markdown",
   "metadata": {},
   "source": [
    "<div markdown=1 class=\"DoIt\"> \n",
    "Quelle est votre conclusion pour Quicksort avec la stratégie \"Diviser en 3\"\n"
   ]
  },
  {
   "cell_type": "markdown",
   "metadata": {},
   "source": [
    "<div markdown=1 class=\"Answers\">\n"
   ]
  }
 ],
 "metadata": {
  "kernelspec": {
   "display_name": "Python 3",
   "language": "python",
   "name": "python3"
  },
  "language_info": {
   "codemirror_mode": {
    "name": "ipython",
    "version": 3
   },
   "file_extension": ".py",
   "mimetype": "text/x-python",
   "name": "python",
   "nbconvert_exporter": "python",
   "pygments_lexer": "ipython3",
   "version": "3.9.12"
  }
 },
 "nbformat": 4,
 "nbformat_minor": 4
}
